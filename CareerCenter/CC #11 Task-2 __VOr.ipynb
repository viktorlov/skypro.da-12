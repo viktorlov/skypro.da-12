{
 "cells": [
  {
   "cell_type": "code",
   "execution_count": 17,
   "outputs": [],
   "source": [
    "from sdf import gen_clientid, gen_managerid\n",
    "import pandas as pd\n",
    "from random import choice\n",
    "from faker import Faker\n",
    "from datetime import datetime, timedelta\n",
    "from numpy import percentile\n",
    "\n",
    "fake = Faker()"
   ],
   "metadata": {
    "collapsed": false
   }
  },
  {
   "cell_type": "markdown",
   "source": [
    "# Генерация данных"
   ],
   "metadata": {
    "collapsed": false
   }
  },
  {
   "cell_type": "code",
   "execution_count": 18,
   "outputs": [],
   "source": [
    "with open(\"titles.txt\", encoding=\"utf-8\") as file:\n",
    "    titles = file.readlines()\n",
    "\n",
    "titles = [x.strip() for x in titles]"
   ],
   "metadata": {
    "collapsed": false
   }
  },
  {
   "cell_type": "code",
   "execution_count": 19,
   "outputs": [
    {
     "name": "stdout",
     "output_type": "stream",
     "text": [
      "24676\n",
      "24998\n"
     ]
    }
   ],
   "source": [
    "tasks = pd.DataFrame(columns=['client_id', 'created_datetime', 'title'])\n",
    "\n",
    "from_ = datetime(2018, 1, 1, 00, 00)\n",
    "to_ = datetime(2022, 12, 31, 23, 59)\n",
    "\n",
    "tasks_len = 25_000\n",
    "\n",
    "tasks['client_id'] = [gen_clientid() for _ in range(tasks_len)]\n",
    "tasks['created_datetime'] = [fake.date_time_between(start_date=from_, end_date=to_) for _ in range(tasks_len)]\n",
    "tasks['title'] = [choice(titles) for _ in range(tasks_len)]\n",
    "\n",
    "print(tasks.client_id.nunique(), tasks.created_datetime.nunique(), sep='\\n')"
   ],
   "metadata": {
    "collapsed": false
   }
  },
  {
   "cell_type": "code",
   "execution_count": 20,
   "outputs": [],
   "source": [
    "created_datetime_first = tasks.groupby('client_id')['created_datetime'].min()"
   ],
   "metadata": {
    "collapsed": false
   }
  },
  {
   "cell_type": "code",
   "execution_count": 21,
   "outputs": [
    {
     "name": "stdout",
     "output_type": "stream",
     "text": [
      "1000\n",
      "34992\n"
     ]
    }
   ],
   "source": [
    "calls = pd.DataFrame(columns=['manager_id', 'client_id', 'call_datetime'])\n",
    "\n",
    "calls_len = 35000\n",
    "\n",
    "calls['manager_id'] = [gen_managerid() for _ in range(calls_len)]\n",
    "calls['client_id'] = [choice(tasks.client_id) for _ in range(calls_len)]\n",
    "call_datetime_ = []\n",
    "for i in range(calls_len):\n",
    "    from_ = created_datetime_first.loc[calls['client_id'][i]]\n",
    "    to_ = (from_ + timedelta(weeks=1)) if (from_ + timedelta(weeks=1)).year <= 2022 else datetime(2022, 12, 31, 23, 59)\n",
    "    call_datetime_.append(fake.date_time_between(start_date=from_, end_date=to_))\n",
    "calls['call_datetime'] = call_datetime_\n",
    "\n",
    "print(calls.manager_id.nunique(), calls.call_datetime.nunique(), sep='\\n')"
   ],
   "metadata": {
    "collapsed": false
   }
  },
  {
   "cell_type": "code",
   "execution_count": 22,
   "outputs": [
    {
     "data": {
      "text/plain": "       client_id    created_datetime  \\\n0        1838916 2019-04-23 20:09:48   \n1        1838916 2019-04-23 20:09:48   \n2        1838916 2019-04-23 20:09:48   \n3        1838916 2019-04-23 20:09:48   \n4        1770588 2022-07-28 21:05:28   \n...          ...                 ...   \n41845    1649265 2018-02-03 12:42:23   \n41846    1059500 2022-09-13 17:57:20   \n41847    1865205 2020-12-07 21:11:17   \n41848    1865205 2020-12-07 21:11:17   \n41849    1183515 2022-05-12 23:00:20   \n\n                                                title  manager_id  \\\n0                    3.3 Как сделать перенаправление?        2523   \n1                    3.3 Как сделать перенаправление?        2854   \n2                    3.3 Как сделать перенаправление?        2348   \n3                    3.3 Как сделать перенаправление?        2646   \n4                   1.2 Как понять язык википедистов?        <NA>   \n...                                               ...         ...   \n41845                                2.1 Забыл пароль        2239   \n41846                    1.3 А здесь есть модераторы?        2468   \n41847                1.4 Можно скачать всю Википедию?        2314   \n41848                1.4 Можно скачать всю Википедию?        2135   \n41849  3.4 Ссылки между языковыми разделами Википедии        2120   \n\n            call_datetime  \n0     2019-04-24 21:05:48  \n1     2019-04-23 21:52:42  \n2     2019-04-27 12:12:19  \n3     2019-04-27 10:32:29  \n4                     NaT  \n...                   ...  \n41845 2018-02-09 09:24:24  \n41846 2022-09-17 16:32:53  \n41847 2020-12-14 01:00:03  \n41848 2020-12-14 18:36:48  \n41849 2022-05-16 12:37:18  \n\n[41850 rows x 5 columns]",
      "text/html": "<div>\n<style scoped>\n    .dataframe tbody tr th:only-of-type {\n        vertical-align: middle;\n    }\n\n    .dataframe tbody tr th {\n        vertical-align: top;\n    }\n\n    .dataframe thead th {\n        text-align: right;\n    }\n</style>\n<table border=\"1\" class=\"dataframe\">\n  <thead>\n    <tr style=\"text-align: right;\">\n      <th></th>\n      <th>client_id</th>\n      <th>created_datetime</th>\n      <th>title</th>\n      <th>manager_id</th>\n      <th>call_datetime</th>\n    </tr>\n  </thead>\n  <tbody>\n    <tr>\n      <th>0</th>\n      <td>1838916</td>\n      <td>2019-04-23 20:09:48</td>\n      <td>3.3 Как сделать перенаправление?</td>\n      <td>2523</td>\n      <td>2019-04-24 21:05:48</td>\n    </tr>\n    <tr>\n      <th>1</th>\n      <td>1838916</td>\n      <td>2019-04-23 20:09:48</td>\n      <td>3.3 Как сделать перенаправление?</td>\n      <td>2854</td>\n      <td>2019-04-23 21:52:42</td>\n    </tr>\n    <tr>\n      <th>2</th>\n      <td>1838916</td>\n      <td>2019-04-23 20:09:48</td>\n      <td>3.3 Как сделать перенаправление?</td>\n      <td>2348</td>\n      <td>2019-04-27 12:12:19</td>\n    </tr>\n    <tr>\n      <th>3</th>\n      <td>1838916</td>\n      <td>2019-04-23 20:09:48</td>\n      <td>3.3 Как сделать перенаправление?</td>\n      <td>2646</td>\n      <td>2019-04-27 10:32:29</td>\n    </tr>\n    <tr>\n      <th>4</th>\n      <td>1770588</td>\n      <td>2022-07-28 21:05:28</td>\n      <td>1.2 Как понять язык википедистов?</td>\n      <td>&lt;NA&gt;</td>\n      <td>NaT</td>\n    </tr>\n    <tr>\n      <th>...</th>\n      <td>...</td>\n      <td>...</td>\n      <td>...</td>\n      <td>...</td>\n      <td>...</td>\n    </tr>\n    <tr>\n      <th>41845</th>\n      <td>1649265</td>\n      <td>2018-02-03 12:42:23</td>\n      <td>2.1 Забыл пароль</td>\n      <td>2239</td>\n      <td>2018-02-09 09:24:24</td>\n    </tr>\n    <tr>\n      <th>41846</th>\n      <td>1059500</td>\n      <td>2022-09-13 17:57:20</td>\n      <td>1.3 А здесь есть модераторы?</td>\n      <td>2468</td>\n      <td>2022-09-17 16:32:53</td>\n    </tr>\n    <tr>\n      <th>41847</th>\n      <td>1865205</td>\n      <td>2020-12-07 21:11:17</td>\n      <td>1.4 Можно скачать всю Википедию?</td>\n      <td>2314</td>\n      <td>2020-12-14 01:00:03</td>\n    </tr>\n    <tr>\n      <th>41848</th>\n      <td>1865205</td>\n      <td>2020-12-07 21:11:17</td>\n      <td>1.4 Можно скачать всю Википедию?</td>\n      <td>2135</td>\n      <td>2020-12-14 18:36:48</td>\n    </tr>\n    <tr>\n      <th>41849</th>\n      <td>1183515</td>\n      <td>2022-05-12 23:00:20</td>\n      <td>3.4 Ссылки между языковыми разделами Википедии</td>\n      <td>2120</td>\n      <td>2022-05-16 12:37:18</td>\n    </tr>\n  </tbody>\n</table>\n<p>41850 rows × 5 columns</p>\n</div>"
     },
     "execution_count": 22,
     "metadata": {},
     "output_type": "execute_result"
    }
   ],
   "source": [
    "df = pd.merge(tasks, calls, on='client_id', how='left')\n",
    "df['manager_id'] = df['manager_id'].astype('Int64')\n",
    "df"
   ],
   "metadata": {
    "collapsed": false
   }
  },
  {
   "cell_type": "code",
   "execution_count": 23,
   "outputs": [],
   "source": [
    "# tasks.to_excel('tasks.xlsx')\n",
    "# tasks.to_csv('tasks.csv')\n",
    "# calls.to_excel('calls.xlsx')\n",
    "# calls.to_csv('calls.csv')\n",
    "# df.to_excel('df.xlsx')"
   ],
   "metadata": {
    "collapsed": false
   }
  },
  {
   "cell_type": "markdown",
   "source": [
    "# Задание 2. Изучите данные и выполните следующие задачи."
   ],
   "metadata": {
    "collapsed": false
   }
  },
  {
   "cell_type": "markdown",
   "source": [
    "### Сколько заявок приходило каждый день в июне 2022 года."
   ],
   "metadata": {
    "collapsed": false
   }
  },
  {
   "cell_type": "code",
   "execution_count": 24,
   "outputs": [
    {
     "data": {
      "text/plain": "created_datetime\n1     15\n2     10\n3     17\n4     13\n5     14\n6     19\n7     16\n8     14\n9     10\n10     8\n11     6\n12    13\n13    12\n14     9\n15    18\n16    13\n17     8\n18    13\n19    13\n20    14\n21    11\n22    16\n23    13\n24    17\n25    17\n26    14\n27    16\n28    25\n29    18\n30    12\nName: created_datetime, dtype: int64"
     },
     "execution_count": 24,
     "metadata": {},
     "output_type": "execute_result"
    }
   ],
   "source": [
    "tasks_2022_06 = tasks.loc[(tasks.created_datetime.dt.year == 2022) &\n",
    "                          (tasks.created_datetime.dt.month == 6)]\n",
    "tasks_2022_06.groupby(tasks.created_datetime.dt.day)['created_datetime'].count()"
   ],
   "metadata": {
    "collapsed": false
   }
  },
  {
   "cell_type": "markdown",
   "source": [
    "### Список тем, для которых обращений было больше 10(*) в апреле 2022 года\n",
    "\n",
    "_*_ -- 65-ти процентный перцентиль"
   ],
   "metadata": {
    "collapsed": false
   }
  },
  {
   "cell_type": "code",
   "execution_count": 25,
   "outputs": [
    {
     "data": {
      "text/plain": "                                          title  created_datetime\n1                 1.1 Как работать в Википедии?                20\n2             1.2 Как понять язык википедистов?                20\n4              1.4 Можно скачать всю Википедию?                22\n5                               2.0 Регистрация                31\n8          2.3 Хочу удалить свою учётную запись                21\n9   2.4 Насколько родственны проекты Викимедиа?                22\n11                    3.1 Как добавить рисунок?                22\n15           3.5 Как вставлять тире и ударения?                21\n19         3.9 Как изменить заглавную страницу?                20",
      "text/html": "<div>\n<style scoped>\n    .dataframe tbody tr th:only-of-type {\n        vertical-align: middle;\n    }\n\n    .dataframe tbody tr th {\n        vertical-align: top;\n    }\n\n    .dataframe thead th {\n        text-align: right;\n    }\n</style>\n<table border=\"1\" class=\"dataframe\">\n  <thead>\n    <tr style=\"text-align: right;\">\n      <th></th>\n      <th>title</th>\n      <th>created_datetime</th>\n    </tr>\n  </thead>\n  <tbody>\n    <tr>\n      <th>1</th>\n      <td>1.1 Как работать в Википедии?</td>\n      <td>20</td>\n    </tr>\n    <tr>\n      <th>2</th>\n      <td>1.2 Как понять язык википедистов?</td>\n      <td>20</td>\n    </tr>\n    <tr>\n      <th>4</th>\n      <td>1.4 Можно скачать всю Википедию?</td>\n      <td>22</td>\n    </tr>\n    <tr>\n      <th>5</th>\n      <td>2.0 Регистрация</td>\n      <td>31</td>\n    </tr>\n    <tr>\n      <th>8</th>\n      <td>2.3 Хочу удалить свою учётную запись</td>\n      <td>21</td>\n    </tr>\n    <tr>\n      <th>9</th>\n      <td>2.4 Насколько родственны проекты Викимедиа?</td>\n      <td>22</td>\n    </tr>\n    <tr>\n      <th>11</th>\n      <td>3.1 Как добавить рисунок?</td>\n      <td>22</td>\n    </tr>\n    <tr>\n      <th>15</th>\n      <td>3.5 Как вставлять тире и ударения?</td>\n      <td>21</td>\n    </tr>\n    <tr>\n      <th>19</th>\n      <td>3.9 Как изменить заглавную страницу?</td>\n      <td>20</td>\n    </tr>\n  </tbody>\n</table>\n</div>"
     },
     "execution_count": 25,
     "metadata": {},
     "output_type": "execute_result"
    }
   ],
   "source": [
    "tasks_2022_04 = tasks.loc[(tasks.created_datetime.dt.year == 2022) &\n",
    "                          (tasks.created_datetime.dt.month == 4)]\n",
    "temp = tasks_2022_04.groupby('title')['created_datetime'].nunique().reset_index()\n",
    "\n",
    "temp.loc[temp.created_datetime >= int(percentile(temp.created_datetime, 65)), :]"
   ],
   "metadata": {
    "collapsed": false
   }
  },
  {
   "cell_type": "markdown",
   "source": [
    "### Список клиентов, которые оставляли заявку, но ни одного звонка от менеджера по ним не было."
   ],
   "metadata": {
    "collapsed": false
   }
  },
  {
   "cell_type": "code",
   "execution_count": 26,
   "outputs": [
    {
     "data": {
      "text/plain": "array([1770588, 1707700, 1359964, ..., 1663045, 1479720, 1823466],\n      dtype=int64)"
     },
     "execution_count": 26,
     "metadata": {},
     "output_type": "execute_result"
    }
   ],
   "source": [
    "df[df['manager_id'].isna()]['client_id'].unique()"
   ],
   "metadata": {
    "collapsed": false
   }
  },
  {
   "cell_type": "code",
   "execution_count": 27,
   "outputs": [
    {
     "data": {
      "text/plain": "5898"
     },
     "execution_count": 27,
     "metadata": {},
     "output_type": "execute_result"
    }
   ],
   "source": [
    "df[df['manager_id'].isna()]['client_id'].nunique()"
   ],
   "metadata": {
    "collapsed": false
   }
  },
  {
   "cell_type": "markdown",
   "source": [
    "### Список клиентов, последние заявки которых не обработаны. Считаем, что если менеджер позвонил клиенту после заявки, то он ее обработал. Если заявок до звонка было несколько, то при звонке обрабатываются все заявки сразу."
   ],
   "metadata": {
    "collapsed": false
   },
   "execution_count": 29
  },
  {
   "cell_type": "code",
   "execution_count": 28,
   "outputs": [
    {
     "data": {
      "text/plain": "array([1889234, 1274188, 1861699, 1656189, 1821695, 1867048, 1920561,\n       1981130, 1954068, 1364921, 1981642, 1048687, 1709481, 1796321,\n       1454212, 1761977, 1090047, 1758726, 1604957, 1857504, 1027239,\n       1262533, 1084857, 1104376, 1131389, 1401785, 1396667, 1286879,\n       1099617, 1822707, 1040912, 1543412, 1040203, 1181796, 1301779,\n       1143322, 1692744, 1385408, 1146028, 1962717, 1009015, 1057085,\n       1988795, 1649944, 1640957, 1837265, 1455401, 1809006, 1760252,\n       1955568, 1970071, 1341660, 1300738, 1945906, 1671186, 1087808,\n       1304983, 1895455, 1425865, 1291197, 1466761, 1492164, 1835608,\n       1888719, 1509589, 1317195, 1160122, 1742740, 1289567, 1800290,\n       1530332, 1153717, 1460802, 1527247, 1047626, 1543794, 1572760,\n       1928993, 1486903, 1117281, 1758109, 1142400, 1069841, 1222721,\n       1824129, 1067960, 1807208, 1574195, 1422619, 1044456, 1623427,\n       1535570, 1155178, 1932858, 1721189, 1434497, 1230734, 1966671,\n       1739613, 1348648, 1963378, 1078883, 1489800, 1664392, 1735259,\n       1723649, 1566001, 1112279, 1926480, 1372951, 1480725, 1800308,\n       1659612, 1465340, 1320859, 1718550, 1157400, 1519486, 1182008,\n       1427258, 1308401, 1456181, 1079434, 1085905, 1522208, 1650018,\n       1455993, 1569138, 1758710, 1912884, 1904016, 1017116, 1463543,\n       1325496, 1949261, 1234578, 1851298, 1188724, 1839810, 1379765,\n       1870376, 1747728, 1067740, 1902537, 1778010, 1284800, 1161614,\n       1310343, 1282681, 1702264, 1034325, 1542184, 1550397, 1810281,\n       1590321, 1436251, 1119068, 1374064, 1604687, 1898600, 1860196,\n       1317617, 1131609, 1642948, 1653920, 1858943, 1200846, 1300872,\n       1791485, 1004274, 1989493, 1085952, 1489580, 1320611, 1566135,\n       1801373, 1177317, 1284753, 1957661, 1210785, 1747383, 1029212,\n       1067395, 1767125, 1332459, 1573100, 1694883, 1940983, 1630551,\n       1051329, 1315169, 1823519, 1837980, 1329979, 1093539, 1694119,\n       1393133, 1338517, 1950890, 1573515, 1461893, 1643067, 1448618,\n       1638393, 1112707, 1569785, 1112758, 1185706, 1133903, 1776670,\n       1292591, 1109788, 1120682, 1687805, 1358736, 1253669, 1757743,\n       1860444, 1422382, 1180016, 1854702, 1758332, 1776719, 1658351,\n       1156825, 1739220, 1584235, 1460589, 1763925, 1629897, 1748707,\n       1044651, 1952474, 1122349, 1472661, 1834852, 1918169, 1509722,\n       1842100, 1018439, 1176572, 1444092, 1888023, 1959910, 1208030,\n       1120371, 1572469, 1053648, 1116849, 1471117, 1692724, 1930225,\n       1778314, 1471451, 1467626, 1369508, 1349870, 1897570, 1044490,\n       1641539, 1074596, 1357934, 1378228, 1667498, 1646344, 1958786,\n       1144071, 1144266, 1907598, 1137843, 1141446, 1628084, 1510738,\n       1311967, 1000984, 1656561, 1253876, 1360073, 1647598, 1587565,\n       1540274, 1684529, 1218231, 1217678, 1359501, 1033599, 1648267,\n       1806987, 1138095, 1735734, 1436048, 1488034, 1798608, 1322835,\n       1468570, 1039603, 1305383, 1038841], dtype=int64)"
     },
     "execution_count": 28,
     "metadata": {},
     "output_type": "execute_result"
    }
   ],
   "source": [
    "df[df['created_datetime'] > df['call_datetime']]['client_id'].unique()"
   ],
   "metadata": {
    "collapsed": false
   }
  },
  {
   "cell_type": "code",
   "execution_count": 29,
   "outputs": [
    {
     "data": {
      "text/plain": "298"
     },
     "execution_count": 29,
     "metadata": {},
     "output_type": "execute_result"
    }
   ],
   "source": [
    "df[df['created_datetime'] > df['call_datetime']]['client_id'].nunique()"
   ],
   "metadata": {
    "collapsed": false
   }
  },
  {
   "cell_type": "markdown",
   "source": [
    "### Минимальную разницу между обращениями для каждого клиента, а затем вывести среднее по полученным значениям."
   ],
   "metadata": {
    "collapsed": false
   }
  },
  {
   "cell_type": "code",
   "execution_count": 30,
   "outputs": [],
   "source": [
    "temp = df.dropna().copy()\n",
    "temp['diff_datetime'] = (temp.call_datetime - temp.created_datetime).dt.days\n",
    "temp = temp.loc[temp.diff_datetime > 0]"
   ],
   "metadata": {
    "collapsed": false
   }
  },
  {
   "cell_type": "code",
   "execution_count": 31,
   "outputs": [
    {
     "data": {
      "text/plain": "client_id\n1000015    6\n1000094    5\n1000162    1\n1000395    5\n1000406    6\n          ..\n1999538    2\n1999717    6\n1999802    5\n1999924    2\n1999927    2\nName: diff_datetime, Length: 17412, dtype: int64"
     },
     "execution_count": 31,
     "metadata": {},
     "output_type": "execute_result"
    }
   ],
   "source": [
    "temp.groupby('client_id')['diff_datetime'].min()"
   ],
   "metadata": {
    "collapsed": false
   }
  },
  {
   "cell_type": "code",
   "execution_count": 32,
   "outputs": [
    {
     "data": {
      "text/plain": "2.92"
     },
     "execution_count": 32,
     "metadata": {},
     "output_type": "execute_result"
    }
   ],
   "source": [
    "temp.groupby('client_id')['diff_datetime'].min().mean().round(2)"
   ],
   "metadata": {
    "collapsed": false
   }
  },
  {
   "cell_type": "code",
   "execution_count": 32,
   "outputs": [],
   "source": [],
   "metadata": {
    "collapsed": false
   }
  }
 ],
 "metadata": {
  "kernelspec": {
   "display_name": "Python 3",
   "language": "python",
   "name": "python3"
  },
  "language_info": {
   "codemirror_mode": {
    "name": "ipython",
    "version": 2
   },
   "file_extension": ".py",
   "mimetype": "text/x-python",
   "name": "python",
   "nbconvert_exporter": "python",
   "pygments_lexer": "ipython2",
   "version": "2.7.6"
  }
 },
 "nbformat": 4,
 "nbformat_minor": 0
}
