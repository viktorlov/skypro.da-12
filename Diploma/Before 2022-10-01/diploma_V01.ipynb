{
 "cells": [
  {
   "cell_type": "code",
   "execution_count": 1,
   "id": "47c70170",
   "metadata": {
    "ExecuteTime": {
     "end_time": "2022-09-09T18:35:52.236981Z",
     "start_time": "2022-09-09T18:35:43.889854Z"
    },
    "run_control": {
     "marked": false
    }
   },
   "outputs": [],
   "source": [
    "# %load c:/bi/bi.py\n",
    "from scipy.stats import ttest_ind, pearsonr, spearmanr, mannwhitneyu\n",
    "from warnings import filterwarnings as wfw\n",
    "import datetime as dt\n",
    "import matplotlib.pyplot as plt\n",
    "import numpy as np\n",
    "import pandas as pd\n",
    "import random as rm\n",
    "import scipy.stats as st\n",
    "import seaborn as sns"
   ]
  },
  {
   "cell_type": "code",
   "execution_count": 2,
   "id": "d9f5ef3e",
   "metadata": {
    "ExecuteTime": {
     "end_time": "2022-09-09T18:35:52.531488Z",
     "start_time": "2022-09-09T18:35:52.236981Z"
    },
    "run_control": {
     "marked": false
    }
   },
   "outputs": [],
   "source": [
    "orders = pd.read_csv('orders.csv', parse_dates=['Departure Date', 'Arrival Date', 'Created Date'])\n",
    "orders.columns = ['user_id', 'order_id', 'transation_value', 'commission', 'processing_cost',\n",
    "                  'promocode_cost', 'intergation_cost', 'destination_id', 'departure_date',\n",
    "                  'arrival_date', 'created_date']\n",
    "region = pd.read_csv('region.csv')\n",
    "region.columns = ['region_id', 'name', 'level', 'language']\n",
    "users = pd.read_csv('users.csv', parse_dates=['Created Date'])\n",
    "users.columns = ['user_id', 'region_id', 'created_date', 'language', 'role', 'status']"
   ]
  },
  {
   "cell_type": "markdown",
   "id": "6141bcbd",
   "metadata": {},
   "source": [
    "---"
   ]
  },
  {
   "cell_type": "code",
   "execution_count": 3,
   "id": "09e99234",
   "metadata": {
    "ExecuteTime": {
     "end_time": "2022-09-09T18:35:52.595486Z",
     "start_time": "2022-09-09T18:35:52.531488Z"
    },
    "run_control": {
     "marked": false
    }
   },
   "outputs": [
    {
     "data": {
      "text/html": [
       "<div>\n",
       "<style scoped>\n",
       "    .dataframe tbody tr th:only-of-type {\n",
       "        vertical-align: middle;\n",
       "    }\n",
       "\n",
       "    .dataframe tbody tr th {\n",
       "        vertical-align: top;\n",
       "    }\n",
       "\n",
       "    .dataframe thead th {\n",
       "        text-align: right;\n",
       "    }\n",
       "</style>\n",
       "<table border=\"1\" class=\"dataframe\">\n",
       "  <thead>\n",
       "    <tr style=\"text-align: right;\">\n",
       "      <th></th>\n",
       "      <th>user_id</th>\n",
       "      <th>order_id</th>\n",
       "      <th>transation_value</th>\n",
       "      <th>commission</th>\n",
       "      <th>processing_cost</th>\n",
       "      <th>promocode_cost</th>\n",
       "      <th>intergation_cost</th>\n",
       "      <th>destination_id</th>\n",
       "      <th>departure_date</th>\n",
       "      <th>arrival_date</th>\n",
       "      <th>created_date</th>\n",
       "    </tr>\n",
       "  </thead>\n",
       "  <tbody>\n",
       "    <tr>\n",
       "      <th>0</th>\n",
       "      <td>121100</td>\n",
       "      <td>1110022</td>\n",
       "      <td>5547</td>\n",
       "      <td>632.358</td>\n",
       "      <td>245.7321</td>\n",
       "      <td>150.0</td>\n",
       "      <td>137.5656</td>\n",
       "      <td>413</td>\n",
       "      <td>2020-03-30</td>\n",
       "      <td>2020-03-11</td>\n",
       "      <td>2020-01-10</td>\n",
       "    </tr>\n",
       "    <tr>\n",
       "      <th>1</th>\n",
       "      <td>121100</td>\n",
       "      <td>1110001</td>\n",
       "      <td>5836</td>\n",
       "      <td>490.224</td>\n",
       "      <td>258.5348</td>\n",
       "      <td>50.0</td>\n",
       "      <td>NaN</td>\n",
       "      <td>1132</td>\n",
       "      <td>2020-09-03</td>\n",
       "      <td>2020-08-17</td>\n",
       "      <td>2020-06-06</td>\n",
       "    </tr>\n",
       "    <tr>\n",
       "      <th>2</th>\n",
       "      <td>121100</td>\n",
       "      <td>1110004</td>\n",
       "      <td>5181</td>\n",
       "      <td>538.824</td>\n",
       "      <td>241.4346</td>\n",
       "      <td>100.0</td>\n",
       "      <td>123.8259</td>\n",
       "      <td>173</td>\n",
       "      <td>2020-02-11</td>\n",
       "      <td>2020-01-14</td>\n",
       "      <td>2019-12-06</td>\n",
       "    </tr>\n",
       "    <tr>\n",
       "      <th>3</th>\n",
       "      <td>121100</td>\n",
       "      <td>1110010</td>\n",
       "      <td>3653</td>\n",
       "      <td>292.240</td>\n",
       "      <td>172.7869</td>\n",
       "      <td>50.0</td>\n",
       "      <td>NaN</td>\n",
       "      <td>1098</td>\n",
       "      <td>2020-03-18</td>\n",
       "      <td>2020-03-03</td>\n",
       "      <td>2020-02-28</td>\n",
       "    </tr>\n",
       "  </tbody>\n",
       "</table>\n",
       "</div>"
      ],
      "text/plain": [
       "   user_id  order_id  transation_value  commission  processing_cost  \\\n",
       "0   121100   1110022              5547     632.358         245.7321   \n",
       "1   121100   1110001              5836     490.224         258.5348   \n",
       "2   121100   1110004              5181     538.824         241.4346   \n",
       "3   121100   1110010              3653     292.240         172.7869   \n",
       "\n",
       "   promocode_cost  intergation_cost  destination_id departure_date  \\\n",
       "0           150.0          137.5656             413     2020-03-30   \n",
       "1            50.0               NaN            1132     2020-09-03   \n",
       "2           100.0          123.8259             173     2020-02-11   \n",
       "3            50.0               NaN            1098     2020-03-18   \n",
       "\n",
       "  arrival_date created_date  \n",
       "0   2020-03-11   2020-01-10  \n",
       "1   2020-08-17   2020-06-06  \n",
       "2   2020-01-14   2019-12-06  \n",
       "3   2020-03-03   2020-02-28  "
      ]
     },
     "execution_count": 3,
     "metadata": {},
     "output_type": "execute_result"
    }
   ],
   "source": [
    "orders.head(4)"
   ]
  },
  {
   "cell_type": "code",
   "execution_count": 4,
   "id": "35c3fba7",
   "metadata": {
    "ExecuteTime": {
     "end_time": "2022-09-09T18:35:52.627496Z",
     "start_time": "2022-09-09T18:35:52.595486Z"
    },
    "run_control": {
     "marked": false
    }
   },
   "outputs": [
    {
     "data": {
      "text/html": [
       "<div>\n",
       "<style scoped>\n",
       "    .dataframe tbody tr th:only-of-type {\n",
       "        vertical-align: middle;\n",
       "    }\n",
       "\n",
       "    .dataframe tbody tr th {\n",
       "        vertical-align: top;\n",
       "    }\n",
       "\n",
       "    .dataframe thead th {\n",
       "        text-align: right;\n",
       "    }\n",
       "</style>\n",
       "<table border=\"1\" class=\"dataframe\">\n",
       "  <thead>\n",
       "    <tr style=\"text-align: right;\">\n",
       "      <th></th>\n",
       "      <th>region_id</th>\n",
       "      <th>name</th>\n",
       "      <th>level</th>\n",
       "      <th>language</th>\n",
       "    </tr>\n",
       "  </thead>\n",
       "  <tbody>\n",
       "    <tr>\n",
       "      <th>0</th>\n",
       "      <td>3</td>\n",
       "      <td>Abenberg</td>\n",
       "      <td>V</td>\n",
       "      <td>de</td>\n",
       "    </tr>\n",
       "    <tr>\n",
       "      <th>1</th>\n",
       "      <td>5</td>\n",
       "      <td>Abensberg</td>\n",
       "      <td>V</td>\n",
       "      <td>de</td>\n",
       "    </tr>\n",
       "    <tr>\n",
       "      <th>2</th>\n",
       "      <td>9</td>\n",
       "      <td>Augustusburg</td>\n",
       "      <td>V</td>\n",
       "      <td>de</td>\n",
       "    </tr>\n",
       "    <tr>\n",
       "      <th>3</th>\n",
       "      <td>11</td>\n",
       "      <td>Adelsheim</td>\n",
       "      <td>V</td>\n",
       "      <td>de</td>\n",
       "    </tr>\n",
       "  </tbody>\n",
       "</table>\n",
       "</div>"
      ],
      "text/plain": [
       "   region_id          name level language\n",
       "0          3      Abenberg     V       de\n",
       "1          5     Abensberg     V       de\n",
       "2          9  Augustusburg     V       de\n",
       "3         11     Adelsheim     V       de"
      ]
     },
     "execution_count": 4,
     "metadata": {},
     "output_type": "execute_result"
    }
   ],
   "source": [
    "region.head(4)"
   ]
  },
  {
   "cell_type": "code",
   "execution_count": 5,
   "id": "278753a5",
   "metadata": {
    "ExecuteTime": {
     "end_time": "2022-09-09T18:35:52.659503Z",
     "start_time": "2022-09-09T18:35:52.627496Z"
    },
    "run_control": {
     "marked": false
    }
   },
   "outputs": [
    {
     "data": {
      "text/html": [
       "<div>\n",
       "<style scoped>\n",
       "    .dataframe tbody tr th:only-of-type {\n",
       "        vertical-align: middle;\n",
       "    }\n",
       "\n",
       "    .dataframe tbody tr th {\n",
       "        vertical-align: top;\n",
       "    }\n",
       "\n",
       "    .dataframe thead th {\n",
       "        text-align: right;\n",
       "    }\n",
       "</style>\n",
       "<table border=\"1\" class=\"dataframe\">\n",
       "  <thead>\n",
       "    <tr style=\"text-align: right;\">\n",
       "      <th></th>\n",
       "      <th>user_id</th>\n",
       "      <th>region_id</th>\n",
       "      <th>created_date</th>\n",
       "      <th>language</th>\n",
       "      <th>role</th>\n",
       "      <th>status</th>\n",
       "    </tr>\n",
       "  </thead>\n",
       "  <tbody>\n",
       "    <tr>\n",
       "      <th>0</th>\n",
       "      <td>121100</td>\n",
       "      <td>755</td>\n",
       "      <td>2019-11-28</td>\n",
       "      <td>en</td>\n",
       "      <td>master</td>\n",
       "      <td>deleted</td>\n",
       "    </tr>\n",
       "    <tr>\n",
       "      <th>1</th>\n",
       "      <td>121102</td>\n",
       "      <td>1174</td>\n",
       "      <td>2020-04-02</td>\n",
       "      <td>fr</td>\n",
       "      <td>finance</td>\n",
       "      <td>deleted</td>\n",
       "    </tr>\n",
       "    <tr>\n",
       "      <th>2</th>\n",
       "      <td>121105</td>\n",
       "      <td>1267</td>\n",
       "      <td>2021-03-09</td>\n",
       "      <td>se</td>\n",
       "      <td>finance</td>\n",
       "      <td>active</td>\n",
       "    </tr>\n",
       "    <tr>\n",
       "      <th>3</th>\n",
       "      <td>121108</td>\n",
       "      <td>763</td>\n",
       "      <td>2019-04-05</td>\n",
       "      <td>en</td>\n",
       "      <td>manager</td>\n",
       "      <td>active</td>\n",
       "    </tr>\n",
       "  </tbody>\n",
       "</table>\n",
       "</div>"
      ],
      "text/plain": [
       "   user_id  region_id created_date language     role   status\n",
       "0   121100        755   2019-11-28       en   master  deleted\n",
       "1   121102       1174   2020-04-02       fr  finance  deleted\n",
       "2   121105       1267   2021-03-09       se  finance   active\n",
       "3   121108        763   2019-04-05       en  manager   active"
      ]
     },
     "execution_count": 5,
     "metadata": {},
     "output_type": "execute_result"
    }
   ],
   "source": [
    "users.head(4)"
   ]
  },
  {
   "cell_type": "markdown",
   "id": "64624b9b",
   "metadata": {},
   "source": [
    "---"
   ]
  },
  {
   "cell_type": "code",
   "execution_count": 6,
   "id": "4c165e1c",
   "metadata": {
    "ExecuteTime": {
     "end_time": "2022-09-09T18:35:52.675510Z",
     "start_time": "2022-09-09T18:35:52.659503Z"
    },
    "run_control": {
     "marked": false
    }
   },
   "outputs": [],
   "source": [
    "# temp = pd.merge(orders, users, how='left', left_on='user_id', right_on='user_id', suffixes = ('_or', '_us'))\n",
    "\n",
    "# temp"
   ]
  },
  {
   "cell_type": "code",
   "execution_count": 7,
   "id": "d079290d",
   "metadata": {
    "ExecuteTime": {
     "end_time": "2022-09-09T18:35:52.707515Z",
     "start_time": "2022-09-09T18:35:52.675510Z"
    },
    "run_control": {
     "marked": false
    }
   },
   "outputs": [
    {
     "data": {
      "text/plain": [
       "array([2019, 2020, 2021, 2022])"
      ]
     },
     "execution_count": 7,
     "metadata": {},
     "output_type": "execute_result"
    }
   ],
   "source": [
    "years = np.arange(2019,2023)\n",
    "years"
   ]
  },
  {
   "cell_type": "code",
   "execution_count": 8,
   "id": "a319a0e4",
   "metadata": {
    "ExecuteTime": {
     "end_time": "2022-09-09T18:35:52.803536Z",
     "start_time": "2022-09-09T18:35:52.707515Z"
    },
    "run_control": {
     "marked": false
    }
   },
   "outputs": [
    {
     "data": {
      "text/html": [
       "<div>\n",
       "<style scoped>\n",
       "    .dataframe tbody tr th:only-of-type {\n",
       "        vertical-align: middle;\n",
       "    }\n",
       "\n",
       "    .dataframe tbody tr th {\n",
       "        vertical-align: top;\n",
       "    }\n",
       "\n",
       "    .dataframe thead th {\n",
       "        text-align: right;\n",
       "    }\n",
       "</style>\n",
       "<table border=\"1\" class=\"dataframe\">\n",
       "  <thead>\n",
       "    <tr style=\"text-align: right;\">\n",
       "      <th></th>\n",
       "      <th>year</th>\n",
       "      <th>month</th>\n",
       "      <th>user_id</th>\n",
       "      <th>order_id</th>\n",
       "    </tr>\n",
       "  </thead>\n",
       "  <tbody>\n",
       "    <tr>\n",
       "      <th>0</th>\n",
       "      <td>2019</td>\n",
       "      <td>1</td>\n",
       "      <td>121145</td>\n",
       "      <td>2</td>\n",
       "    </tr>\n",
       "    <tr>\n",
       "      <th>1</th>\n",
       "      <td>2019</td>\n",
       "      <td>1</td>\n",
       "      <td>121767</td>\n",
       "      <td>1</td>\n",
       "    </tr>\n",
       "    <tr>\n",
       "      <th>2</th>\n",
       "      <td>2019</td>\n",
       "      <td>1</td>\n",
       "      <td>121867</td>\n",
       "      <td>1</td>\n",
       "    </tr>\n",
       "    <tr>\n",
       "      <th>3</th>\n",
       "      <td>2019</td>\n",
       "      <td>1</td>\n",
       "      <td>121998</td>\n",
       "      <td>1</td>\n",
       "    </tr>\n",
       "    <tr>\n",
       "      <th>4</th>\n",
       "      <td>2019</td>\n",
       "      <td>1</td>\n",
       "      <td>122019</td>\n",
       "      <td>4</td>\n",
       "    </tr>\n",
       "    <tr>\n",
       "      <th>...</th>\n",
       "      <td>...</td>\n",
       "      <td>...</td>\n",
       "      <td>...</td>\n",
       "      <td>...</td>\n",
       "    </tr>\n",
       "    <tr>\n",
       "      <th>26334</th>\n",
       "      <td>2022</td>\n",
       "      <td>6</td>\n",
       "      <td>129802</td>\n",
       "      <td>1</td>\n",
       "    </tr>\n",
       "    <tr>\n",
       "      <th>26335</th>\n",
       "      <td>2022</td>\n",
       "      <td>6</td>\n",
       "      <td>130169</td>\n",
       "      <td>1</td>\n",
       "    </tr>\n",
       "    <tr>\n",
       "      <th>26336</th>\n",
       "      <td>2022</td>\n",
       "      <td>6</td>\n",
       "      <td>130274</td>\n",
       "      <td>1</td>\n",
       "    </tr>\n",
       "    <tr>\n",
       "      <th>26337</th>\n",
       "      <td>2022</td>\n",
       "      <td>6</td>\n",
       "      <td>130314</td>\n",
       "      <td>1</td>\n",
       "    </tr>\n",
       "    <tr>\n",
       "      <th>26338</th>\n",
       "      <td>2022</td>\n",
       "      <td>6</td>\n",
       "      <td>130612</td>\n",
       "      <td>2</td>\n",
       "    </tr>\n",
       "  </tbody>\n",
       "</table>\n",
       "<p>26339 rows × 4 columns</p>\n",
       "</div>"
      ],
      "text/plain": [
       "       year  month  user_id  order_id\n",
       "0      2019      1   121145         2\n",
       "1      2019      1   121767         1\n",
       "2      2019      1   121867         1\n",
       "3      2019      1   121998         1\n",
       "4      2019      1   122019         4\n",
       "...     ...    ...      ...       ...\n",
       "26334  2022      6   129802         1\n",
       "26335  2022      6   130169         1\n",
       "26336  2022      6   130274         1\n",
       "26337  2022      6   130314         1\n",
       "26338  2022      6   130612         2\n",
       "\n",
       "[26339 rows x 4 columns]"
      ]
     },
     "execution_count": 8,
     "metadata": {},
     "output_type": "execute_result"
    }
   ],
   "source": [
    "orders.groupby([orders['created_date'].dt.year.rename('year'),\n",
    "                orders['created_date'].dt.month.rename('month'),\n",
    "                orders['user_id']])['order_id'].count().reset_index()"
   ]
  },
  {
   "cell_type": "code",
   "execution_count": null,
   "id": "c62bd166",
   "metadata": {},
   "outputs": [],
   "source": []
  }
 ],
 "metadata": {
  "kernelspec": {
   "display_name": "Python 3 (ipykernel)",
   "language": "python",
   "name": "python3"
  },
  "language_info": {
   "codemirror_mode": {
    "name": "ipython",
    "version": 3
   },
   "file_extension": ".py",
   "mimetype": "text/x-python",
   "name": "python",
   "nbconvert_exporter": "python",
   "pygments_lexer": "ipython3",
   "version": "3.9.12"
  }
 },
 "nbformat": 4,
 "nbformat_minor": 5
}
