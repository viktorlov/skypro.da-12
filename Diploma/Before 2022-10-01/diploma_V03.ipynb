{
 "cells": [
  {
   "cell_type": "code",
   "execution_count": 1,
   "id": "47c70170",
   "metadata": {
    "ExecuteTime": {
     "end_time": "2022-09-29T11:13:24.783589Z",
     "start_time": "2022-09-29T11:13:18.457262Z"
    },
    "run_control": {
     "marked": false
    }
   },
   "outputs": [],
   "source": [
    "# %load c:/bi/bi.py\n",
    "from scipy.stats import ttest_ind, pearsonr, spearmanr, mannwhitneyu\n",
    "from warnings import filterwarnings as wfw\n",
    "import datetime as dt\n",
    "import matplotlib.pyplot as plt\n",
    "import numpy as np\n",
    "import pandas as pd\n",
    "import random as rm\n",
    "import scipy.stats as st\n",
    "import seaborn as sns"
   ]
  },
  {
   "cell_type": "code",
   "execution_count": 2,
   "id": "5619b5b9",
   "metadata": {
    "ExecuteTime": {
     "end_time": "2022-09-29T11:13:25.130881Z",
     "start_time": "2022-09-29T11:13:24.783589Z"
    },
    "run_control": {
     "marked": true
    }
   },
   "outputs": [],
   "source": [
    "dataframe_row = pd.read_csv('3_tables_joined.csv', parse_dates=['departure_date',\n",
    "                                                                'arrival_date',\n",
    "                                                                'created_date',\n",
    "                                                                'created_date.1'], dayfirst=True)"
   ]
  },
  {
   "cell_type": "code",
   "execution_count": 3,
   "id": "dd1de610",
   "metadata": {
    "ExecuteTime": {
     "end_time": "2022-09-29T11:13:25.147563Z",
     "start_time": "2022-09-29T11:13:25.134228Z"
    },
    "run_control": {
     "marked": true
    }
   },
   "outputs": [
    {
     "data": {
      "text/plain": [
       "(48707, 21)"
      ]
     },
     "execution_count": 3,
     "metadata": {},
     "output_type": "execute_result"
    }
   ],
   "source": [
    "dataframe_row.shape"
   ]
  },
  {
   "cell_type": "code",
   "execution_count": 4,
   "id": "7b802c2e",
   "metadata": {
    "ExecuteTime": {
     "end_time": "2022-09-29T11:13:25.170851Z",
     "start_time": "2022-09-29T11:13:25.151557Z"
    },
    "run_control": {
     "marked": true
    }
   },
   "outputs": [
    {
     "data": {
      "text/plain": [
       "user_id                       int64\n",
       "id                            int64\n",
       "transaction_value             int64\n",
       "commission                  float64\n",
       "processing_cost             float64\n",
       "promocode_cost              float64\n",
       "intergtation_cost           float64\n",
       "destination_id                int64\n",
       "departure_date       datetime64[ns]\n",
       "arrival_date         datetime64[ns]\n",
       "created_date         datetime64[ns]\n",
       "id.1                        float64\n",
       "name                         object\n",
       "level                        object\n",
       "language                     object\n",
       "id.2                          int64\n",
       "region_id                     int64\n",
       "created_date.1       datetime64[ns]\n",
       "language.1                   object\n",
       "role                         object\n",
       "status                       object\n",
       "dtype: object"
      ]
     },
     "execution_count": 4,
     "metadata": {},
     "output_type": "execute_result"
    }
   ],
   "source": [
    "dataframe_row.dtypes"
   ]
  },
  {
   "cell_type": "code",
   "execution_count": 5,
   "id": "baa1e66c",
   "metadata": {
    "ExecuteTime": {
     "end_time": "2022-09-29T11:13:25.186616Z",
     "start_time": "2022-09-29T11:13:25.170851Z"
    },
    "run_control": {
     "marked": true
    }
   },
   "outputs": [],
   "source": [
    "dataframe = dataframe_row.copy()"
   ]
  },
  {
   "cell_type": "code",
   "execution_count": 6,
   "id": "8e38fafd",
   "metadata": {
    "ExecuteTime": {
     "end_time": "2022-09-29T11:13:25.217908Z",
     "start_time": "2022-09-29T11:13:25.186616Z"
    },
    "run_control": {
     "marked": true
    }
   },
   "outputs": [],
   "source": [
    "dataframe[['transaction_value', 'commission', 'processing_cost', 'promocode_cost', 'intergtation_cost']] = \\\n",
    "dataframe[['transaction_value', 'commission', 'processing_cost', 'promocode_cost', 'intergtation_cost']].fillna(0)"
   ]
  },
  {
   "cell_type": "code",
   "execution_count": 7,
   "id": "2675adab",
   "metadata": {
    "ExecuteTime": {
     "end_time": "2022-09-29T11:13:25.233863Z",
     "start_time": "2022-09-29T11:13:25.217908Z"
    },
    "run_control": {
     "marked": true
    }
   },
   "outputs": [],
   "source": [
    "dataframe['marketing_cost'] = dataframe.processing_cost + dataframe.promocode_cost + dataframe.intergtation_cost"
   ]
  },
  {
   "cell_type": "code",
   "execution_count": 14,
   "id": "3016f814",
   "metadata": {
    "ExecuteTime": {
     "end_time": "2022-09-30T14:17:17.174531Z",
     "start_time": "2022-09-30T14:17:17.134523Z"
    },
    "run_control": {
     "marked": true
    }
   },
   "outputs": [
    {
     "data": {
      "text/plain": [
       "user_id                       int64\n",
       "id                            int64\n",
       "transaction_value             int64\n",
       "commission                  float64\n",
       "processing_cost             float64\n",
       "promocode_cost              float64\n",
       "intergtation_cost           float64\n",
       "destination_id                int64\n",
       "departure_date       datetime64[ns]\n",
       "arrival_date         datetime64[ns]\n",
       "created_date         datetime64[ns]\n",
       "id.1                        float64\n",
       "name                         object\n",
       "level                        object\n",
       "language                     object\n",
       "id.2                          int64\n",
       "region_id                     int64\n",
       "created_date.1       datetime64[ns]\n",
       "language.1                   object\n",
       "role                         object\n",
       "status                       object\n",
       "marketing_cost              float64\n",
       "dtype: object"
      ]
     },
     "execution_count": 14,
     "metadata": {},
     "output_type": "execute_result"
    }
   ],
   "source": [
    "dataframe.dtypes"
   ]
  },
  {
   "cell_type": "code",
   "execution_count": 9,
   "id": "333b9f08",
   "metadata": {
    "ExecuteTime": {
     "end_time": "2022-09-29T11:13:25.331710Z",
     "start_time": "2022-09-29T11:13:25.317708Z"
    },
    "run_control": {
     "marked": true
    }
   },
   "outputs": [],
   "source": [
    "dataframe_to_calculate = dataframe[['id',\n",
    "                                    'created_date',\n",
    "                                    'user_id',\n",
    "                                    'region_id',\n",
    "                                    'language.1',\n",
    "                                    'transaction_value',\n",
    "                                    'commission',\n",
    "                                    'marketing_cost']]"
   ]
  },
  {
   "cell_type": "code",
   "execution_count": 10,
   "id": "1e985520",
   "metadata": {
    "ExecuteTime": {
     "end_time": "2022-09-29T11:13:25.347669Z",
     "start_time": "2022-09-29T11:13:25.333985Z"
    },
    "run_control": {
     "marked": true
    }
   },
   "outputs": [],
   "source": [
    "new_columns = ['order_id', 'order_date', 'user_id', 'region_id', 'region_code',\n",
    "               'transaction_value', 'commission', 'marketing_cost']\n",
    "dataframe_to_calculate.columns = new_columns"
   ]
  },
  {
   "cell_type": "code",
   "execution_count": 11,
   "id": "58e709ea",
   "metadata": {
    "ExecuteTime": {
     "end_time": "2022-09-29T11:13:25.380775Z",
     "start_time": "2022-09-29T11:13:25.348207Z"
    },
    "run_control": {
     "marked": true
    }
   },
   "outputs": [
    {
     "data": {
      "text/html": [
       "<div>\n",
       "<style scoped>\n",
       "    .dataframe tbody tr th:only-of-type {\n",
       "        vertical-align: middle;\n",
       "    }\n",
       "\n",
       "    .dataframe tbody tr th {\n",
       "        vertical-align: top;\n",
       "    }\n",
       "\n",
       "    .dataframe thead th {\n",
       "        text-align: right;\n",
       "    }\n",
       "</style>\n",
       "<table border=\"1\" class=\"dataframe\">\n",
       "  <thead>\n",
       "    <tr style=\"text-align: right;\">\n",
       "      <th></th>\n",
       "      <th>order_id</th>\n",
       "      <th>order_date</th>\n",
       "      <th>user_id</th>\n",
       "      <th>region_id</th>\n",
       "      <th>region_code</th>\n",
       "      <th>transaction_value</th>\n",
       "      <th>commission</th>\n",
       "      <th>marketing_cost</th>\n",
       "    </tr>\n",
       "  </thead>\n",
       "  <tbody>\n",
       "    <tr>\n",
       "      <th>0</th>\n",
       "      <td>1110052</td>\n",
       "      <td>2020-04-17</td>\n",
       "      <td>121102</td>\n",
       "      <td>1174</td>\n",
       "      <td>fr</td>\n",
       "      <td>4149</td>\n",
       "      <td>369.261</td>\n",
       "      <td>240.2271</td>\n",
       "    </tr>\n",
       "    <tr>\n",
       "      <th>1</th>\n",
       "      <td>1110058</td>\n",
       "      <td>2020-05-24</td>\n",
       "      <td>121102</td>\n",
       "      <td>1174</td>\n",
       "      <td>fr</td>\n",
       "      <td>3450</td>\n",
       "      <td>351.900</td>\n",
       "      <td>383.2200</td>\n",
       "    </tr>\n",
       "    <tr>\n",
       "      <th>2</th>\n",
       "      <td>1110059</td>\n",
       "      <td>2020-08-17</td>\n",
       "      <td>121102</td>\n",
       "      <td>1174</td>\n",
       "      <td>fr</td>\n",
       "      <td>2122</td>\n",
       "      <td>207.956</td>\n",
       "      <td>167.6380</td>\n",
       "    </tr>\n",
       "    <tr>\n",
       "      <th>3</th>\n",
       "      <td>1110064</td>\n",
       "      <td>2021-07-24</td>\n",
       "      <td>121105</td>\n",
       "      <td>1267</td>\n",
       "      <td>se</td>\n",
       "      <td>7794</td>\n",
       "      <td>888.516</td>\n",
       "      <td>467.6400</td>\n",
       "    </tr>\n",
       "    <tr>\n",
       "      <th>4</th>\n",
       "      <td>1110066</td>\n",
       "      <td>2021-06-29</td>\n",
       "      <td>121105</td>\n",
       "      <td>1267</td>\n",
       "      <td>se</td>\n",
       "      <td>5758</td>\n",
       "      <td>506.704</td>\n",
       "      <td>477.8194</td>\n",
       "    </tr>\n",
       "    <tr>\n",
       "      <th>...</th>\n",
       "      <td>...</td>\n",
       "      <td>...</td>\n",
       "      <td>...</td>\n",
       "      <td>...</td>\n",
       "      <td>...</td>\n",
       "      <td>...</td>\n",
       "      <td>...</td>\n",
       "      <td>...</td>\n",
       "    </tr>\n",
       "    <tr>\n",
       "      <th>48702</th>\n",
       "      <td>1279726</td>\n",
       "      <td>2021-04-13</td>\n",
       "      <td>131156</td>\n",
       "      <td>622</td>\n",
       "      <td>ua</td>\n",
       "      <td>6415</td>\n",
       "      <td>551.690</td>\n",
       "      <td>432.2970</td>\n",
       "    </tr>\n",
       "    <tr>\n",
       "      <th>48703</th>\n",
       "      <td>1279727</td>\n",
       "      <td>2021-06-26</td>\n",
       "      <td>131156</td>\n",
       "      <td>622</td>\n",
       "      <td>ua</td>\n",
       "      <td>6127</td>\n",
       "      <td>618.827</td>\n",
       "      <td>470.4421</td>\n",
       "    </tr>\n",
       "    <tr>\n",
       "      <th>48704</th>\n",
       "      <td>1279729</td>\n",
       "      <td>2021-02-11</td>\n",
       "      <td>131156</td>\n",
       "      <td>622</td>\n",
       "      <td>ua</td>\n",
       "      <td>4825</td>\n",
       "      <td>410.125</td>\n",
       "      <td>400.2950</td>\n",
       "    </tr>\n",
       "    <tr>\n",
       "      <th>48705</th>\n",
       "      <td>1279731</td>\n",
       "      <td>2021-06-19</td>\n",
       "      <td>131156</td>\n",
       "      <td>622</td>\n",
       "      <td>ua</td>\n",
       "      <td>2763</td>\n",
       "      <td>320.508</td>\n",
       "      <td>143.1234</td>\n",
       "    </tr>\n",
       "    <tr>\n",
       "      <th>48706</th>\n",
       "      <td>1279736</td>\n",
       "      <td>2021-05-09</td>\n",
       "      <td>131156</td>\n",
       "      <td>622</td>\n",
       "      <td>ua</td>\n",
       "      <td>6826</td>\n",
       "      <td>634.818</td>\n",
       "      <td>620.3114</td>\n",
       "    </tr>\n",
       "  </tbody>\n",
       "</table>\n",
       "<p>48707 rows × 8 columns</p>\n",
       "</div>"
      ],
      "text/plain": [
       "       order_id order_date  user_id  region_id region_code  transaction_value  \\\n",
       "0       1110052 2020-04-17   121102       1174          fr               4149   \n",
       "1       1110058 2020-05-24   121102       1174          fr               3450   \n",
       "2       1110059 2020-08-17   121102       1174          fr               2122   \n",
       "3       1110064 2021-07-24   121105       1267          se               7794   \n",
       "4       1110066 2021-06-29   121105       1267          se               5758   \n",
       "...         ...        ...      ...        ...         ...                ...   \n",
       "48702   1279726 2021-04-13   131156        622          ua               6415   \n",
       "48703   1279727 2021-06-26   131156        622          ua               6127   \n",
       "48704   1279729 2021-02-11   131156        622          ua               4825   \n",
       "48705   1279731 2021-06-19   131156        622          ua               2763   \n",
       "48706   1279736 2021-05-09   131156        622          ua               6826   \n",
       "\n",
       "       commission  marketing_cost  \n",
       "0         369.261        240.2271  \n",
       "1         351.900        383.2200  \n",
       "2         207.956        167.6380  \n",
       "3         888.516        467.6400  \n",
       "4         506.704        477.8194  \n",
       "...           ...             ...  \n",
       "48702     551.690        432.2970  \n",
       "48703     618.827        470.4421  \n",
       "48704     410.125        400.2950  \n",
       "48705     320.508        143.1234  \n",
       "48706     634.818        620.3114  \n",
       "\n",
       "[48707 rows x 8 columns]"
      ]
     },
     "execution_count": 11,
     "metadata": {},
     "output_type": "execute_result"
    }
   ],
   "source": [
    "dataframe_to_calculate"
   ]
  },
  {
   "cell_type": "code",
   "execution_count": 12,
   "id": "78fade6d",
   "metadata": {
    "ExecuteTime": {
     "end_time": "2022-09-29T11:13:25.431230Z",
     "start_time": "2022-09-29T11:13:25.381618Z"
    },
    "run_control": {
     "marked": true
    }
   },
   "outputs": [
    {
     "data": {
      "text/html": [
       "<div>\n",
       "<style scoped>\n",
       "    .dataframe tbody tr th:only-of-type {\n",
       "        vertical-align: middle;\n",
       "    }\n",
       "\n",
       "    .dataframe tbody tr th {\n",
       "        vertical-align: top;\n",
       "    }\n",
       "\n",
       "    .dataframe thead th {\n",
       "        text-align: right;\n",
       "    }\n",
       "</style>\n",
       "<table border=\"1\" class=\"dataframe\">\n",
       "  <thead>\n",
       "    <tr style=\"text-align: right;\">\n",
       "      <th></th>\n",
       "      <th>year</th>\n",
       "      <th>month</th>\n",
       "      <th>user_id</th>\n",
       "      <th>order_id</th>\n",
       "    </tr>\n",
       "  </thead>\n",
       "  <tbody>\n",
       "    <tr>\n",
       "      <th>0</th>\n",
       "      <td>2019</td>\n",
       "      <td>1</td>\n",
       "      <td>121145</td>\n",
       "      <td>2</td>\n",
       "    </tr>\n",
       "    <tr>\n",
       "      <th>1</th>\n",
       "      <td>2019</td>\n",
       "      <td>1</td>\n",
       "      <td>121767</td>\n",
       "      <td>1</td>\n",
       "    </tr>\n",
       "    <tr>\n",
       "      <th>2</th>\n",
       "      <td>2019</td>\n",
       "      <td>1</td>\n",
       "      <td>121867</td>\n",
       "      <td>1</td>\n",
       "    </tr>\n",
       "    <tr>\n",
       "      <th>3</th>\n",
       "      <td>2019</td>\n",
       "      <td>1</td>\n",
       "      <td>121998</td>\n",
       "      <td>1</td>\n",
       "    </tr>\n",
       "    <tr>\n",
       "      <th>4</th>\n",
       "      <td>2019</td>\n",
       "      <td>1</td>\n",
       "      <td>122019</td>\n",
       "      <td>4</td>\n",
       "    </tr>\n",
       "    <tr>\n",
       "      <th>...</th>\n",
       "      <td>...</td>\n",
       "      <td>...</td>\n",
       "      <td>...</td>\n",
       "      <td>...</td>\n",
       "    </tr>\n",
       "    <tr>\n",
       "      <th>26334</th>\n",
       "      <td>2022</td>\n",
       "      <td>6</td>\n",
       "      <td>129802</td>\n",
       "      <td>1</td>\n",
       "    </tr>\n",
       "    <tr>\n",
       "      <th>26335</th>\n",
       "      <td>2022</td>\n",
       "      <td>6</td>\n",
       "      <td>130169</td>\n",
       "      <td>1</td>\n",
       "    </tr>\n",
       "    <tr>\n",
       "      <th>26336</th>\n",
       "      <td>2022</td>\n",
       "      <td>6</td>\n",
       "      <td>130274</td>\n",
       "      <td>1</td>\n",
       "    </tr>\n",
       "    <tr>\n",
       "      <th>26337</th>\n",
       "      <td>2022</td>\n",
       "      <td>6</td>\n",
       "      <td>130314</td>\n",
       "      <td>1</td>\n",
       "    </tr>\n",
       "    <tr>\n",
       "      <th>26338</th>\n",
       "      <td>2022</td>\n",
       "      <td>6</td>\n",
       "      <td>130612</td>\n",
       "      <td>2</td>\n",
       "    </tr>\n",
       "  </tbody>\n",
       "</table>\n",
       "<p>26339 rows × 4 columns</p>\n",
       "</div>"
      ],
      "text/plain": [
       "       year  month  user_id  order_id\n",
       "0      2019      1   121145         2\n",
       "1      2019      1   121767         1\n",
       "2      2019      1   121867         1\n",
       "3      2019      1   121998         1\n",
       "4      2019      1   122019         4\n",
       "...     ...    ...      ...       ...\n",
       "26334  2022      6   129802         1\n",
       "26335  2022      6   130169         1\n",
       "26336  2022      6   130274         1\n",
       "26337  2022      6   130314         1\n",
       "26338  2022      6   130612         2\n",
       "\n",
       "[26339 rows x 4 columns]"
      ]
     },
     "execution_count": 12,
     "metadata": {},
     "output_type": "execute_result"
    }
   ],
   "source": [
    "dataframe_to_calculate.groupby([dataframe_to_calculate['order_date'].dt.year.rename('year'),\n",
    "                                dataframe_to_calculate['order_date'].dt.month.rename('month'),\n",
    "                                dataframe_to_calculate['user_id']])['order_id'].count().reset_index()"
   ]
  },
  {
   "cell_type": "code",
   "execution_count": 13,
   "id": "d1ce2bbb",
   "metadata": {
    "ExecuteTime": {
     "end_time": "2022-09-29T11:13:25.465020Z",
     "start_time": "2022-09-29T11:13:25.431865Z"
    },
    "run_control": {
     "marked": true
    }
   },
   "outputs": [
    {
     "data": {
      "text/html": [
       "<div>\n",
       "<style scoped>\n",
       "    .dataframe tbody tr th:only-of-type {\n",
       "        vertical-align: middle;\n",
       "    }\n",
       "\n",
       "    .dataframe tbody tr th {\n",
       "        vertical-align: top;\n",
       "    }\n",
       "\n",
       "    .dataframe thead th {\n",
       "        text-align: right;\n",
       "    }\n",
       "</style>\n",
       "<table border=\"1\" class=\"dataframe\">\n",
       "  <thead>\n",
       "    <tr style=\"text-align: right;\">\n",
       "      <th></th>\n",
       "      <th>region_code</th>\n",
       "      <th>order_id</th>\n",
       "    </tr>\n",
       "  </thead>\n",
       "  <tbody>\n",
       "    <tr>\n",
       "      <th>0</th>\n",
       "      <td>de</td>\n",
       "      <td>5318</td>\n",
       "    </tr>\n",
       "    <tr>\n",
       "      <th>1</th>\n",
       "      <td>en</td>\n",
       "      <td>16256</td>\n",
       "    </tr>\n",
       "    <tr>\n",
       "      <th>2</th>\n",
       "      <td>es</td>\n",
       "      <td>1597</td>\n",
       "    </tr>\n",
       "    <tr>\n",
       "      <th>3</th>\n",
       "      <td>fr</td>\n",
       "      <td>4513</td>\n",
       "    </tr>\n",
       "    <tr>\n",
       "      <th>4</th>\n",
       "      <td>it</td>\n",
       "      <td>2538</td>\n",
       "    </tr>\n",
       "    <tr>\n",
       "      <th>5</th>\n",
       "      <td>no</td>\n",
       "      <td>3270</td>\n",
       "    </tr>\n",
       "    <tr>\n",
       "      <th>6</th>\n",
       "      <td>ru</td>\n",
       "      <td>3288</td>\n",
       "    </tr>\n",
       "    <tr>\n",
       "      <th>7</th>\n",
       "      <td>se</td>\n",
       "      <td>4067</td>\n",
       "    </tr>\n",
       "    <tr>\n",
       "      <th>8</th>\n",
       "      <td>ua</td>\n",
       "      <td>7860</td>\n",
       "    </tr>\n",
       "  </tbody>\n",
       "</table>\n",
       "</div>"
      ],
      "text/plain": [
       "  region_code  order_id\n",
       "0          de      5318\n",
       "1          en     16256\n",
       "2          es      1597\n",
       "3          fr      4513\n",
       "4          it      2538\n",
       "5          no      3270\n",
       "6          ru      3288\n",
       "7          se      4067\n",
       "8          ua      7860"
      ]
     },
     "execution_count": 13,
     "metadata": {},
     "output_type": "execute_result"
    }
   ],
   "source": [
    "metrics = [dataframe_to_calculate['region_code']]\n",
    "ranges = ['order_id']\n",
    "dataframe_to_calculate.groupby(metrics)[ranges].count().reset_index()"
   ]
  },
  {
   "cell_type": "code",
   "execution_count": null,
   "id": "b3500b3c",
   "metadata": {
    "run_control": {
     "marked": false
    }
   },
   "outputs": [],
   "source": []
  },
  {
   "cell_type": "code",
   "execution_count": null,
   "id": "4753d1e8",
   "metadata": {
    "run_control": {
     "marked": false
    }
   },
   "outputs": [],
   "source": []
  }
 ],
 "metadata": {
  "kernelspec": {
   "display_name": "Python 3 (ipykernel)",
   "language": "python",
   "name": "python3"
  },
  "language_info": {
   "codemirror_mode": {
    "name": "ipython",
    "version": 3
   },
   "file_extension": ".py",
   "mimetype": "text/x-python",
   "name": "python",
   "nbconvert_exporter": "python",
   "pygments_lexer": "ipython3",
   "version": "3.9.12"
  }
 },
 "nbformat": 4,
 "nbformat_minor": 5
}
