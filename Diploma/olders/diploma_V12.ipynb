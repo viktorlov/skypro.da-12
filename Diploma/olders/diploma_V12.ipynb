{
 "cells": [
  {
   "cell_type": "code",
   "execution_count": 1,
   "id": "47c70170",
   "metadata": {
    "ExecuteTime": {
     "end_time": "2022-10-04T12:40:52.151294Z",
     "start_time": "2022-10-04T12:40:49.085910Z"
    },
    "run_control": {
     "marked": false
    }
   },
   "outputs": [],
   "source": [
    "import matplotlib.pyplot as plt\n",
    "import pandas as pd"
   ]
  },
  {
   "cell_type": "markdown",
   "id": "1857c2d3",
   "metadata": {},
   "source": [
    "# ЧТЕНИЕ ДАТАФРЕЙМА"
   ]
  },
  {
   "cell_type": "code",
   "execution_count": 2,
   "id": "5619b5b9",
   "metadata": {
    "ExecuteTime": {
     "end_time": "2022-10-04T12:40:52.210504Z",
     "start_time": "2022-10-04T12:40:52.151294Z"
    },
    "run_control": {
     "marked": false
    }
   },
   "outputs": [],
   "source": [
    "dataframe_row = pd.read_csv('query_result_2022-10-03T07_36_20.3623Z.csv',\n",
    "                            parse_dates=['order_created_date', 'user_created_date'], dayfirst=True)"
   ]
  },
  {
   "cell_type": "code",
   "execution_count": 3,
   "id": "dd1de610",
   "metadata": {
    "ExecuteTime": {
     "end_time": "2022-10-04T12:40:52.226507Z",
     "start_time": "2022-10-04T12:40:52.213508Z"
    },
    "run_control": {
     "marked": false
    }
   },
   "outputs": [
    {
     "data": {
      "text/plain": [
       "(1463, 10)"
      ]
     },
     "execution_count": 3,
     "metadata": {},
     "output_type": "execute_result"
    }
   ],
   "source": [
    "dataframe_row.shape"
   ]
  },
  {
   "cell_type": "code",
   "execution_count": 4,
   "id": "7b802c2e",
   "metadata": {
    "ExecuteTime": {
     "end_time": "2022-10-04T12:40:52.240233Z",
     "start_time": "2022-10-04T12:40:52.228508Z"
    },
    "run_control": {
     "marked": false
    }
   },
   "outputs": [
    {
     "data": {
      "text/plain": [
       "order_id                       int64\n",
       "order_created_date    datetime64[ns]\n",
       "transaction_value              int64\n",
       "commission                   float64\n",
       "processing_cost              float64\n",
       "promocode_cost               float64\n",
       "integration_cost             float64\n",
       "user_id                        int64\n",
       "user_created_date     datetime64[ns]\n",
       "user_region_code              object\n",
       "dtype: object"
      ]
     },
     "execution_count": 4,
     "metadata": {},
     "output_type": "execute_result"
    }
   ],
   "source": [
    "dataframe_row.dtypes"
   ]
  },
  {
   "cell_type": "code",
   "execution_count": 5,
   "id": "baa1e66c",
   "metadata": {
    "ExecuteTime": {
     "end_time": "2022-10-04T12:40:52.302086Z",
     "start_time": "2022-10-04T12:40:52.248813Z"
    },
    "run_control": {
     "marked": false
    }
   },
   "outputs": [
    {
     "data": {
      "text/html": [
       "<div>\n",
       "<style scoped>\n",
       "    .dataframe tbody tr th:only-of-type {\n",
       "        vertical-align: middle;\n",
       "    }\n",
       "\n",
       "    .dataframe tbody tr th {\n",
       "        vertical-align: top;\n",
       "    }\n",
       "\n",
       "    .dataframe thead th {\n",
       "        text-align: right;\n",
       "    }\n",
       "</style>\n",
       "<table border=\"1\" class=\"dataframe\">\n",
       "  <thead>\n",
       "    <tr style=\"text-align: right;\">\n",
       "      <th></th>\n",
       "      <th>order_id</th>\n",
       "      <th>order_created_date</th>\n",
       "      <th>transaction_value</th>\n",
       "      <th>commission</th>\n",
       "      <th>processing_cost</th>\n",
       "      <th>promocode_cost</th>\n",
       "      <th>integration_cost</th>\n",
       "      <th>user_id</th>\n",
       "      <th>user_created_date</th>\n",
       "      <th>user_region_code</th>\n",
       "      <th>fixed_costs</th>\n",
       "      <th>costs</th>\n",
       "      <th>costs_share</th>\n",
       "    </tr>\n",
       "  </thead>\n",
       "  <tbody>\n",
       "    <tr>\n",
       "      <th>0</th>\n",
       "      <td>1110097</td>\n",
       "      <td>2021-04-04</td>\n",
       "      <td>4721</td>\n",
       "      <td>429.611</td>\n",
       "      <td>236.0500</td>\n",
       "      <td>150.0</td>\n",
       "      <td>74.1197</td>\n",
       "      <td>121105</td>\n",
       "      <td>2021-03-09</td>\n",
       "      <td>se</td>\n",
       "      <td>310.1697</td>\n",
       "      <td>460.1697</td>\n",
       "      <td>0.097473</td>\n",
       "    </tr>\n",
       "    <tr>\n",
       "      <th>1</th>\n",
       "      <td>1110415</td>\n",
       "      <td>2021-04-24</td>\n",
       "      <td>6309</td>\n",
       "      <td>624.591</td>\n",
       "      <td>275.0724</td>\n",
       "      <td>100.0</td>\n",
       "      <td>120.5019</td>\n",
       "      <td>121123</td>\n",
       "      <td>2020-10-17</td>\n",
       "      <td>ua</td>\n",
       "      <td>395.5743</td>\n",
       "      <td>495.5743</td>\n",
       "      <td>0.078550</td>\n",
       "    </tr>\n",
       "    <tr>\n",
       "      <th>2</th>\n",
       "      <td>1110406</td>\n",
       "      <td>2021-04-16</td>\n",
       "      <td>3095</td>\n",
       "      <td>318.785</td>\n",
       "      <td>127.2045</td>\n",
       "      <td>0.0</td>\n",
       "      <td>0.0000</td>\n",
       "      <td>121123</td>\n",
       "      <td>2020-10-17</td>\n",
       "      <td>ua</td>\n",
       "      <td>127.2045</td>\n",
       "      <td>127.2045</td>\n",
       "      <td>0.041100</td>\n",
       "    </tr>\n",
       "    <tr>\n",
       "      <th>3</th>\n",
       "      <td>1110399</td>\n",
       "      <td>2021-04-14</td>\n",
       "      <td>2017</td>\n",
       "      <td>203.717</td>\n",
       "      <td>84.3106</td>\n",
       "      <td>100.0</td>\n",
       "      <td>49.4165</td>\n",
       "      <td>121123</td>\n",
       "      <td>2020-10-17</td>\n",
       "      <td>ua</td>\n",
       "      <td>133.7271</td>\n",
       "      <td>233.7271</td>\n",
       "      <td>0.115879</td>\n",
       "    </tr>\n",
       "    <tr>\n",
       "      <th>4</th>\n",
       "      <td>1110706</td>\n",
       "      <td>2021-04-09</td>\n",
       "      <td>4593</td>\n",
       "      <td>367.440</td>\n",
       "      <td>235.6209</td>\n",
       "      <td>150.0</td>\n",
       "      <td>72.1101</td>\n",
       "      <td>121144</td>\n",
       "      <td>2021-04-07</td>\n",
       "      <td>se</td>\n",
       "      <td>307.7310</td>\n",
       "      <td>457.7310</td>\n",
       "      <td>0.099658</td>\n",
       "    </tr>\n",
       "    <tr>\n",
       "      <th>...</th>\n",
       "      <td>...</td>\n",
       "      <td>...</td>\n",
       "      <td>...</td>\n",
       "      <td>...</td>\n",
       "      <td>...</td>\n",
       "      <td>...</td>\n",
       "      <td>...</td>\n",
       "      <td>...</td>\n",
       "      <td>...</td>\n",
       "      <td>...</td>\n",
       "      <td>...</td>\n",
       "      <td>...</td>\n",
       "      <td>...</td>\n",
       "    </tr>\n",
       "    <tr>\n",
       "      <th>1458</th>\n",
       "      <td>1279106</td>\n",
       "      <td>2021-04-20</td>\n",
       "      <td>7410</td>\n",
       "      <td>659.490</td>\n",
       "      <td>400.8810</td>\n",
       "      <td>100.0</td>\n",
       "      <td>116.3370</td>\n",
       "      <td>131125</td>\n",
       "      <td>2021-02-04</td>\n",
       "      <td>de</td>\n",
       "      <td>517.2180</td>\n",
       "      <td>617.2180</td>\n",
       "      <td>0.083295</td>\n",
       "    </tr>\n",
       "    <tr>\n",
       "      <th>1459</th>\n",
       "      <td>1279493</td>\n",
       "      <td>2021-04-09</td>\n",
       "      <td>7825</td>\n",
       "      <td>821.625</td>\n",
       "      <td>340.3875</td>\n",
       "      <td>0.0</td>\n",
       "      <td>178.4100</td>\n",
       "      <td>131143</td>\n",
       "      <td>2020-10-12</td>\n",
       "      <td>it</td>\n",
       "      <td>518.7975</td>\n",
       "      <td>518.7975</td>\n",
       "      <td>0.066300</td>\n",
       "    </tr>\n",
       "    <tr>\n",
       "      <th>1460</th>\n",
       "      <td>1279499</td>\n",
       "      <td>2021-04-04</td>\n",
       "      <td>5472</td>\n",
       "      <td>536.256</td>\n",
       "      <td>286.7328</td>\n",
       "      <td>0.0</td>\n",
       "      <td>0.0000</td>\n",
       "      <td>131146</td>\n",
       "      <td>2021-03-13</td>\n",
       "      <td>ru</td>\n",
       "      <td>286.7328</td>\n",
       "      <td>286.7328</td>\n",
       "      <td>0.052400</td>\n",
       "    </tr>\n",
       "    <tr>\n",
       "      <th>1461</th>\n",
       "      <td>1279726</td>\n",
       "      <td>2021-04-13</td>\n",
       "      <td>6415</td>\n",
       "      <td>551.690</td>\n",
       "      <td>332.2970</td>\n",
       "      <td>100.0</td>\n",
       "      <td>0.0000</td>\n",
       "      <td>131156</td>\n",
       "      <td>2021-01-02</td>\n",
       "      <td>ua</td>\n",
       "      <td>332.2970</td>\n",
       "      <td>432.2970</td>\n",
       "      <td>0.067388</td>\n",
       "    </tr>\n",
       "    <tr>\n",
       "      <th>1462</th>\n",
       "      <td>1279720</td>\n",
       "      <td>2021-04-02</td>\n",
       "      <td>5608</td>\n",
       "      <td>448.640</td>\n",
       "      <td>314.6088</td>\n",
       "      <td>150.0</td>\n",
       "      <td>122.2544</td>\n",
       "      <td>131156</td>\n",
       "      <td>2021-01-02</td>\n",
       "      <td>ua</td>\n",
       "      <td>436.8632</td>\n",
       "      <td>586.8632</td>\n",
       "      <td>0.104648</td>\n",
       "    </tr>\n",
       "  </tbody>\n",
       "</table>\n",
       "<p>1463 rows × 13 columns</p>\n",
       "</div>"
      ],
      "text/plain": [
       "      order_id order_created_date  transaction_value  commission  \\\n",
       "0      1110097         2021-04-04               4721     429.611   \n",
       "1      1110415         2021-04-24               6309     624.591   \n",
       "2      1110406         2021-04-16               3095     318.785   \n",
       "3      1110399         2021-04-14               2017     203.717   \n",
       "4      1110706         2021-04-09               4593     367.440   \n",
       "...        ...                ...                ...         ...   \n",
       "1458   1279106         2021-04-20               7410     659.490   \n",
       "1459   1279493         2021-04-09               7825     821.625   \n",
       "1460   1279499         2021-04-04               5472     536.256   \n",
       "1461   1279726         2021-04-13               6415     551.690   \n",
       "1462   1279720         2021-04-02               5608     448.640   \n",
       "\n",
       "      processing_cost  promocode_cost  integration_cost  user_id  \\\n",
       "0            236.0500           150.0           74.1197   121105   \n",
       "1            275.0724           100.0          120.5019   121123   \n",
       "2            127.2045             0.0            0.0000   121123   \n",
       "3             84.3106           100.0           49.4165   121123   \n",
       "4            235.6209           150.0           72.1101   121144   \n",
       "...               ...             ...               ...      ...   \n",
       "1458         400.8810           100.0          116.3370   131125   \n",
       "1459         340.3875             0.0          178.4100   131143   \n",
       "1460         286.7328             0.0            0.0000   131146   \n",
       "1461         332.2970           100.0            0.0000   131156   \n",
       "1462         314.6088           150.0          122.2544   131156   \n",
       "\n",
       "     user_created_date user_region_code  fixed_costs     costs  costs_share  \n",
       "0           2021-03-09               se     310.1697  460.1697     0.097473  \n",
       "1           2020-10-17               ua     395.5743  495.5743     0.078550  \n",
       "2           2020-10-17               ua     127.2045  127.2045     0.041100  \n",
       "3           2020-10-17               ua     133.7271  233.7271     0.115879  \n",
       "4           2021-04-07               se     307.7310  457.7310     0.099658  \n",
       "...                ...              ...          ...       ...          ...  \n",
       "1458        2021-02-04               de     517.2180  617.2180     0.083295  \n",
       "1459        2020-10-12               it     518.7975  518.7975     0.066300  \n",
       "1460        2021-03-13               ru     286.7328  286.7328     0.052400  \n",
       "1461        2021-01-02               ua     332.2970  432.2970     0.067388  \n",
       "1462        2021-01-02               ua     436.8632  586.8632     0.104648  \n",
       "\n",
       "[1463 rows x 13 columns]"
      ]
     },
     "execution_count": 5,
     "metadata": {},
     "output_type": "execute_result"
    }
   ],
   "source": [
    "dataframe = dataframe_row.copy()\n",
    "\n",
    "isna_columns = dataframe.columns[dataframe.isna().any()].tolist()\n",
    "\n",
    "dataframe[isna_columns] = dataframe[isna_columns].fillna(0)\n",
    "\n",
    "dataframe['fixed_costs'] = dataframe.processing_cost + dataframe.integration_cost\n",
    "dataframe['costs'] = dataframe.fixed_costs + dataframe.promocode_cost\n",
    "dataframe['costs_share'] = dataframe.costs / dataframe.transaction_value\n",
    "\n",
    "dataframe"
   ]
  },
  {
   "cell_type": "markdown",
   "id": "8ab5283d",
   "metadata": {},
   "source": [
    "# РАСЧЁТ БАЗОВЫХ ПОКАЗАТЕЛЕЙ"
   ]
  },
  {
   "cell_type": "code",
   "execution_count": 6,
   "id": "84d004a5",
   "metadata": {
    "ExecuteTime": {
     "end_time": "2022-10-04T12:40:52.317087Z",
     "start_time": "2022-10-04T12:40:52.304088Z"
    },
    "run_control": {
     "marked": false
    }
   },
   "outputs": [
    {
     "data": {
      "text/plain": [
       "1463"
      ]
     },
     "execution_count": 6,
     "metadata": {},
     "output_type": "execute_result"
    }
   ],
   "source": [
    "purchases_base = dataframe['order_id'].count()\n",
    "purchases_base"
   ]
  },
  {
   "cell_type": "code",
   "execution_count": 7,
   "id": "7f5497db",
   "metadata": {
    "ExecuteTime": {
     "end_time": "2022-10-04T12:40:52.328846Z",
     "start_time": "2022-10-04T12:40:52.320089Z"
    },
    "run_control": {
     "marked": false
    }
   },
   "outputs": [
    {
     "data": {
      "text/plain": [
       "798"
      ]
     },
     "execution_count": 7,
     "metadata": {},
     "output_type": "execute_result"
    }
   ],
   "source": [
    "unique_users_base = dataframe['user_id'].nunique()\n",
    "unique_users_base"
   ]
  },
  {
   "cell_type": "code",
   "execution_count": 8,
   "id": "b5010b02",
   "metadata": {
    "ExecuteTime": {
     "end_time": "2022-10-04T12:40:52.340905Z",
     "start_time": "2022-10-04T12:40:52.328846Z"
    },
    "run_control": {
     "marked": false
    }
   },
   "outputs": [
    {
     "data": {
      "text/plain": [
       "1.83"
      ]
     },
     "execution_count": 8,
     "metadata": {},
     "output_type": "execute_result"
    }
   ],
   "source": [
    "purchases_per_user_base = purchases_base / unique_users_base\n",
    "purchases_per_user_base.round(2)"
   ]
  },
  {
   "cell_type": "code",
   "execution_count": 9,
   "id": "ede4801f",
   "metadata": {
    "ExecuteTime": {
     "end_time": "2022-10-04T12:40:52.356526Z",
     "start_time": "2022-10-04T12:40:52.340905Z"
    },
    "run_control": {
     "marked": false
    }
   },
   "outputs": [
    {
     "data": {
      "text/plain": [
       "743570.97"
      ]
     },
     "execution_count": 9,
     "metadata": {},
     "output_type": "execute_result"
    }
   ],
   "source": [
    "total_commision_base = dataframe['commission'].sum()\n",
    "total_commision_base.round(2)"
   ]
  },
  {
   "cell_type": "code",
   "execution_count": 10,
   "id": "6b0ad8c5",
   "metadata": {
    "ExecuteTime": {
     "end_time": "2022-10-04T12:40:52.378742Z",
     "start_time": "2022-10-04T12:40:52.359176Z"
    },
    "run_control": {
     "marked": false
    }
   },
   "outputs": [
    {
     "data": {
      "text/plain": [
       "7418722"
      ]
     },
     "execution_count": 10,
     "metadata": {},
     "output_type": "execute_result"
    }
   ],
   "source": [
    "total_value_base = dataframe['transaction_value'].sum()\n",
    "total_value_base"
   ]
  },
  {
   "cell_type": "code",
   "execution_count": 11,
   "id": "abe85290",
   "metadata": {
    "ExecuteTime": {
     "end_time": "2022-10-04T12:40:52.394486Z",
     "start_time": "2022-10-04T12:40:52.380273Z"
    },
    "run_control": {
     "marked": false
    },
    "scrolled": true
   },
   "outputs": [
    {
     "data": {
      "text/plain": [
       "0.100229"
      ]
     },
     "execution_count": 11,
     "metadata": {},
     "output_type": "execute_result"
    }
   ],
   "source": [
    "margin_base = total_commision_base / total_value_base\n",
    "margin_base.round(6)"
   ]
  },
  {
   "cell_type": "code",
   "execution_count": 12,
   "id": "e2d9dc5b",
   "metadata": {
    "ExecuteTime": {
     "end_time": "2022-10-04T12:40:52.424444Z",
     "start_time": "2022-10-04T12:40:52.400490Z"
    },
    "run_control": {
     "marked": false
    }
   },
   "outputs": [
    {
     "data": {
      "text/plain": [
       "476007.35"
      ]
     },
     "execution_count": 12,
     "metadata": {},
     "output_type": "execute_result"
    }
   ],
   "source": [
    "total_fixed_costs_base = dataframe['fixed_costs'].sum()\n",
    "total_fixed_costs_base.round(2)"
   ]
  },
  {
   "cell_type": "code",
   "execution_count": 13,
   "id": "f2745d7e",
   "metadata": {
    "ExecuteTime": {
     "end_time": "2022-10-04T12:40:52.440065Z",
     "start_time": "2022-10-04T12:40:52.424444Z"
    },
    "run_control": {
     "marked": false
    }
   },
   "outputs": [
    {
     "data": {
      "text/plain": [
       "109650.0"
      ]
     },
     "execution_count": 13,
     "metadata": {},
     "output_type": "execute_result"
    }
   ],
   "source": [
    "total_marketing_costs_base = dataframe['promocode_cost'].sum()\n",
    "total_marketing_costs_base"
   ]
  },
  {
   "cell_type": "code",
   "execution_count": 14,
   "id": "61747344",
   "metadata": {
    "ExecuteTime": {
     "end_time": "2022-10-04T12:40:52.457304Z",
     "start_time": "2022-10-04T12:40:52.441454Z"
    },
    "run_control": {
     "marked": false
    }
   },
   "outputs": [
    {
     "data": {
      "text/plain": [
       "585657.35"
      ]
     },
     "execution_count": 14,
     "metadata": {},
     "output_type": "execute_result"
    }
   ],
   "source": [
    "total_costs_base = total_fixed_costs_base + total_marketing_costs_base\n",
    "total_costs_base.round(2)"
   ]
  },
  {
   "cell_type": "code",
   "execution_count": 15,
   "id": "cd24787b",
   "metadata": {
    "ExecuteTime": {
     "end_time": "2022-10-04T12:40:52.473490Z",
     "start_time": "2022-10-04T12:40:52.457870Z"
    },
    "run_control": {
     "marked": false
    }
   },
   "outputs": [
    {
     "data": {
      "text/plain": [
       "0.078943"
      ]
     },
     "execution_count": 15,
     "metadata": {},
     "output_type": "execute_result"
    }
   ],
   "source": [
    "total_costs_share_base = total_costs_base / total_value_base\n",
    "total_costs_share_base.round(6)"
   ]
  },
  {
   "cell_type": "markdown",
   "id": "ea06b678",
   "metadata": {},
   "source": [
    "# ФИКСАЦИЯ ПАРАМЕТРОВ МОДЕЛИ"
   ]
  },
  {
   "cell_type": "code",
   "execution_count": 16,
   "id": "d7536774",
   "metadata": {
    "ExecuteTime": {
     "end_time": "2022-10-04T12:40:52.490094Z",
     "start_time": "2022-10-04T12:40:52.474471Z"
    },
    "run_control": {
     "marked": false
    }
   },
   "outputs": [],
   "source": [
    "prize = 50000 ### билет в Дубай будет выдаваться одному случайному клиенту \n",
    "purchases_per_user_model = 10 ### наши ожидания относительно среднего кол-ва покупок на одного клиента\n",
    "loyalty_cost_share_model = 0.01 ### 1% от суммы транзакции будет возвращен клиенту в рамках программы лояльности\n",
    "atv_model = 3000 ### наши ожидания относительно среднего чека при покупке"
   ]
  },
  {
   "cell_type": "markdown",
   "id": "411ea1bc",
   "metadata": {},
   "source": [
    "# МОДЕЛИРОВАНИЕ"
   ]
  },
  {
   "cell_type": "code",
   "execution_count": 17,
   "id": "d1c6fbc4",
   "metadata": {
    "ExecuteTime": {
     "end_time": "2022-10-04T12:40:52.506791Z",
     "start_time": "2022-10-04T12:40:52.491169Z"
    },
    "run_control": {
     "marked": false
    }
   },
   "outputs": [],
   "source": [
    "### общий прогнозируемый объём операций\n",
    "def f_income(arg):\n",
    "    '''\n",
    "    arg -- кол-во пользователей, совершивших покупку\n",
    "    '''\n",
    "    _income = purchases_per_user_model * atv_model * arg\n",
    "    return _income"
   ]
  },
  {
   "cell_type": "code",
   "execution_count": 18,
   "id": "1d0e833b",
   "metadata": {
    "ExecuteTime": {
     "end_time": "2022-10-04T12:40:52.523941Z",
     "start_time": "2022-10-04T12:40:52.508324Z"
    },
    "run_control": {
     "marked": false
    }
   },
   "outputs": [],
   "source": [
    "### общая прогнозируемая выручка\n",
    "def f_revenue(arg):\n",
    "    '''\n",
    "    arg -- общий прогнозируемый объём операций, income\n",
    "    '''\n",
    "    _revenue = arg * margin_base\n",
    "    return _revenue"
   ]
  },
  {
   "cell_type": "code",
   "execution_count": 19,
   "id": "1693538e",
   "metadata": {
    "ExecuteTime": {
     "end_time": "2022-10-04T12:40:52.540902Z",
     "start_time": "2022-10-04T12:40:52.525028Z"
    },
    "run_control": {
     "marked": false
    }
   },
   "outputs": [],
   "source": [
    "### затраты на программу лояльности\n",
    "def f_loyalty(arg):\n",
    "    '''\n",
    "    arg -- общий прогнозируемый объём операций, income\n",
    "    '''\n",
    "    _loyalty = arg * loyalty_cost_share_model\n",
    "    return _loyalty"
   ]
  },
  {
   "cell_type": "code",
   "execution_count": 20,
   "id": "41986c46",
   "metadata": {
    "ExecuteTime": {
     "end_time": "2022-10-04T12:40:52.557589Z",
     "start_time": "2022-10-04T12:40:52.541763Z"
    },
    "run_control": {
     "marked": false
    }
   },
   "outputs": [],
   "source": [
    "### валовое значение затрат\n",
    "def f_gross_costs(arg):\n",
    "    '''\n",
    "    arg -- общий прогнозируемый объём операций, income\n",
    "    '''\n",
    "    _gross_costs = arg * total_costs_share_base\n",
    "    return _gross_costs"
   ]
  },
  {
   "cell_type": "code",
   "execution_count": 72,
   "id": "d8f05d36",
   "metadata": {
    "ExecuteTime": {
     "end_time": "2022-10-04T12:52:20.522569Z",
     "start_time": "2022-10-04T12:52:20.509568Z"
    },
    "run_control": {
     "marked": false
    }
   },
   "outputs": [
    {
     "name": "stdout",
     "output_type": "stream",
     "text": [
      "число пользователей, сделавших заказ .......... :     148\n",
      "чистая прибыль ................................ :     109.06\n",
      "операционная прибыль .......................... :   94400.00\n",
      "валовые затраты ............................... :  350507.63\n",
      "выручка за вычетом программы лояльности и приза :  350616.69\n",
      "выручка за вычетом программы лояльности ....... :  400616.69\n",
      "затраты на программу лояльности ............... :   44400.00\n",
      "общая прогнозируемая выручка .................. :  445016.69\n",
      "общий прогнозируемый объём операций ........... : 4440000.00\n"
     ]
    }
   ],
   "source": [
    "n = 1\n",
    "profit = -1\n",
    "amt = []\n",
    "prf = []\n",
    "while profit < 0:\n",
    "    income = f_income(n)\n",
    "    revenue = f_revenue(income)\n",
    "    loyatly = f_loyalty(income)\n",
    "    revenue_exc_loyalty = revenue - loyatly\n",
    "    revenue_exc_loyalty_and_prize = revenue - loyatly - prize\n",
    "    gross_costs = f_gross_costs(income)\n",
    "    operation_profit = revenue - revenue_exc_loyalty_and_prize\n",
    "    profit = revenue_exc_loyalty_and_prize - gross_costs\n",
    "    amt.append(n)\n",
    "    prf.append(profit)\n",
    "    n += 1\n",
    "\n",
    "print(f'число пользователей, сделавших заказ .......... :{n-1:8.0f}')\n",
    "print(f'чистая прибыль ................................ :{profit:11.2f}')\n",
    "print(f'операционная прибыль .......................... :{operation_profit:11.2f}')\n",
    "print(f'валовые затраты ............................... :{gross_costs:11.2f}')\n",
    "print(f'выручка за вычетом программы лояльности и приза :{revenue_exc_loyalty_and_prize:11.2f}')\n",
    "print(f'выручка за вычетом программы лояльности ....... :{revenue_exc_loyalty:11.2f}')\n",
    "print(f'затраты на программу лояльности ............... :{loyatly:11.2f}')\n",
    "print(f'общая прогнозируемая выручка .................. :{revenue:11.2f}')\n",
    "print(f'общий прогнозируемый объём операций ........... :{income:11.2f}')"
   ]
  },
  {
   "cell_type": "code",
   "execution_count": 74,
   "id": "2b67acb6",
   "metadata": {
    "ExecuteTime": {
     "end_time": "2022-10-04T12:52:32.381364Z",
     "start_time": "2022-10-04T12:52:32.187946Z"
    },
    "run_control": {
     "marked": false
    }
   },
   "outputs": [
    {
     "data": {
      "image/png": "[encoded data removed]",
      "text/plain": [
       "<Figure size 1008x504 with 1 Axes>"
      ]
     },
     "metadata": {
      "needs_background": "light"
     },
     "output_type": "display_data"
    }
   ],
   "source": [
    "plt.figure(figsize=(14, 7))\n",
    "\n",
    "plt.title('<<< Выход программы лояльности на безубыточность >>>') \n",
    "plt.xlabel('Количество покупателей, чел.') \n",
    "plt.ylabel('Чистая прибыль/убыток, валюта баланса') \n",
    "\n",
    "fp = amt[next(i for i, v in enumerate(prf) if v > 0)]\n",
    "\n",
    "plt.axvline(fp, color = 'green', linestyle = '-', lw = 1, label = \"уровень безубыточности: \"+str(fp)+\" человек\")\n",
    "plt.axhline(0, color = 'red', linestyle = ':', lw = 1)\n",
    "\n",
    "plt.grid(axis='y') \n",
    "plt.plot(amt, prf, lw=4)\n",
    "plt.legend()\n",
    "\n",
    "plt.show() "
   ]
  },
  {
   "cell_type": "code",
   "execution_count": null,
   "id": "feadf030",
   "metadata": {},
   "outputs": [],
   "source": []
  },
  {
   "cell_type": "code",
   "execution_count": null,
   "id": "1c7ed6c1",
   "metadata": {},
   "outputs": [],
   "source": []
  }
 ],
 "metadata": {
  "kernelspec": {
   "display_name": "Python 3 (ipykernel)",
   "language": "python",
   "name": "python3"
  },
  "language_info": {
   "codemirror_mode": {
    "name": "ipython",
    "version": 3
   },
   "file_extension": ".py",
   "mimetype": "text/x-python",
   "name": "python",
   "nbconvert_exporter": "python",
   "pygments_lexer": "ipython3",
   "version": "3.9.12"
  }
 },
 "nbformat": 4,
 "nbformat_minor": 5
}
