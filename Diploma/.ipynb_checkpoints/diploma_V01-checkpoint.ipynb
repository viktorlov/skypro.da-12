{
 "cells": [
  {
   "cell_type": "code",
   "execution_count": null,
   "id": "47c70170",
   "metadata": {
    "ExecuteTime": {
     "end_time": "2022-08-31T17:06:41.160090Z",
     "start_time": "2022-08-31T17:06:35.614811Z"
    },
    "run_control": {
     "marked": false
    }
   },
   "outputs": [],
   "source": [
    "# %load c:/bi/bi.py\n",
    "from scipy.stats import ttest_ind, pearsonr, spearmanr, mannwhitneyu\n",
    "from warnings import filterwarnings as wfw\n",
    "import datetime as dt\n",
    "import matplotlib.pyplot as plt\n",
    "import numpy as np\n",
    "import pandas as pd\n",
    "import random as rm\n",
    "import scipy.stats as st\n",
    "import seaborn as sns"
   ]
  },
  {
   "cell_type": "code",
   "execution_count": null,
   "id": "d9f5ef3e",
   "metadata": {
    "ExecuteTime": {
     "end_time": "2022-08-31T17:06:41.412338Z",
     "start_time": "2022-08-31T17:06:41.162096Z"
    },
    "run_control": {
     "marked": false
    }
   },
   "outputs": [],
   "source": [
    "orders = pd.read_csv('orders.csv', parse_dates=['Departure Date', 'Arrival Date', 'Created Date'])\n",
    "orders.columns = ['user_id', 'order_id', 'transation_value', 'commission', 'processing_cost',\n",
    "                  'promocode_cost', 'intergation_cost', 'destination_id', 'departure_date',\n",
    "                  'arrival_date', 'created_date']\n",
    "region = pd.read_csv('region.csv')\n",
    "region.columns = ['region_id', 'name', 'level', 'language']\n",
    "users = pd.read_csv('users.csv', parse_dates=['Created Date'])\n",
    "users.columns = ['user_id', 'region_id', 'created_date', 'language', 'role', 'status']"
   ]
  },
  {
   "cell_type": "markdown",
   "id": "6141bcbd",
   "metadata": {},
   "source": [
    "---"
   ]
  },
  {
   "cell_type": "code",
   "execution_count": null,
   "id": "09e99234",
   "metadata": {
    "ExecuteTime": {
     "end_time": "2022-08-31T17:06:41.458821Z",
     "start_time": "2022-08-31T17:06:41.416340Z"
    },
    "run_control": {
     "marked": false
    }
   },
   "outputs": [],
   "source": [
    "orders.head(4)"
   ]
  },
  {
   "cell_type": "code",
   "execution_count": null,
   "id": "35c3fba7",
   "metadata": {
    "ExecuteTime": {
     "end_time": "2022-08-31T17:06:41.489825Z",
     "start_time": "2022-08-31T17:06:41.461823Z"
    },
    "run_control": {
     "marked": false
    }
   },
   "outputs": [],
   "source": [
    "region.head(4)"
   ]
  },
  {
   "cell_type": "code",
   "execution_count": null,
   "id": "278753a5",
   "metadata": {
    "ExecuteTime": {
     "end_time": "2022-08-31T17:06:41.505202Z",
     "start_time": "2022-08-31T17:06:41.492826Z"
    },
    "run_control": {
     "marked": false
    }
   },
   "outputs": [],
   "source": [
    "users.head(4)"
   ]
  },
  {
   "cell_type": "markdown",
   "id": "64624b9b",
   "metadata": {},
   "source": [
    "---"
   ]
  },
  {
   "cell_type": "code",
   "execution_count": null,
   "id": "4c165e1c",
   "metadata": {
    "ExecuteTime": {
     "end_time": "2022-08-31T17:06:41.520820Z",
     "start_time": "2022-08-31T17:06:41.508829Z"
    },
    "run_control": {
     "marked": false
    }
   },
   "outputs": [],
   "source": [
    "# temp = pd.merge(orders, users, how='left', left_on='user_id', right_on='user_id', suffixes = ('_or', '_us'))\n",
    "\n",
    "# temp"
   ]
  },
  {
   "cell_type": "code",
   "execution_count": null,
   "id": "d079290d",
   "metadata": {
    "ExecuteTime": {
     "end_time": "2022-08-31T17:06:41.535823Z",
     "start_time": "2022-08-31T17:06:41.522822Z"
    },
    "run_control": {
     "marked": false
    }
   },
   "outputs": [],
   "source": [
    "years = np.arange(2019,2023)\n",
    "years"
   ]
  },
  {
   "cell_type": "code",
   "execution_count": null,
   "id": "a319a0e4",
   "metadata": {
    "ExecuteTime": {
     "end_time": "2022-08-31T17:06:41.582824Z",
     "start_time": "2022-08-31T17:06:41.537822Z"
    },
    "run_control": {
     "marked": false
    }
   },
   "outputs": [],
   "source": [
    "orders.groupby([orders['created_date'].dt.year.rename('year'),\n",
    "                orders['created_date'].dt.month.rename('month'),\n",
    "                orders['user_id']])['order_id'].count().reset_index()"
   ]
  },
  {
   "cell_type": "code",
   "execution_count": null,
   "id": "c62bd166",
   "metadata": {},
   "outputs": [],
   "source": []
  }
 ],
 "metadata": {
  "kernelspec": {
   "display_name": "Python 3 (ipykernel)",
   "language": "python",
   "name": "python3"
  },
  "language_info": {
   "codemirror_mode": {
    "name": "ipython",
    "version": 3
   },
   "file_extension": ".py",
   "mimetype": "text/x-python",
   "name": "python",
   "nbconvert_exporter": "python",
   "pygments_lexer": "ipython3",
   "version": "3.9.12"
  }
 },
 "nbformat": 4,
 "nbformat_minor": 5
}
