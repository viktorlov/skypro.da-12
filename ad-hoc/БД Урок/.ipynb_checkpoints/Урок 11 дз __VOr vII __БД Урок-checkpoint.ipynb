{
 "cells": [
  {
   "cell_type": "code",
   "execution_count": 1,
   "id": "fac06713",
   "metadata": {
    "ExecuteTime": {
     "end_time": "2022-10-14T08:24:22.588739Z",
     "start_time": "2022-10-14T08:24:20.439642Z"
    }
   },
   "outputs": [],
   "source": [
    "import pandas as pd\n",
    "from matplotlib import pyplot as plt\n",
    "import seaborn as sns\n",
    "import datetime as dt\n",
    "import numpy as np\n",
    "import random as rm\n",
    "from scipy import stats as st"
   ]
  },
  {
   "cell_type": "markdown",
   "id": "24094c63",
   "metadata": {},
   "source": [
    "Требуется исследовать, зависит ли факт провала клиента в просрочку от набора признаков. Постройте дерево решений и сделайте вывод о взаимосвязях. Факт провала в просрочку (таргет-величина) представлена колонкой flag_coll (1 - провалился в просрочку, 0 - не провалился в просрочку)\n",
    "\n",
    "**Описание признаков:**\n",
    "\n",
    "- amt_credit - Размер выданного кредита\n",
    "- bki - Размер внешнего долга по Бюро Кредитный Историй\n",
    "- age - возраст клиента (полных лет)\n",
    "- is_educ - флаг, показывающий, есть ли у клиента высшее образование\n",
    "- cl_segm - клиентский сегмент (качество клиента, от 1 до 4)\n",
    "- credit_type - кредитный продукт\n",
    "    - CC - Credit Card (Кредитная карта)\n",
    "    - POS - потребительский кредит\n",
    "- fssp - размер долга, переданный в Федеральную Службу Судебных Приставов\n",
    "- cnt_closed_contract - кол-во уже закрытых клиентом контрактов в нашем банке\n",
    "- is_cellphone - флаг, показывающий, есть ли у клиента подтвержденный номер мобильного телефона"
   ]
  },
  {
   "cell_type": "raw",
   "id": "8b0eda70",
   "metadata": {},
   "source": [
    "1. Импортируйте файл с данными “Датасет банки.csv”\n",
    "2. Подготовьте данные для анализа:\n",
    "    2.1. Проверьте таргет-величину (flag_coll) на наличие нуллов и странных значений.\n",
    "    2.2. Проверьте остальные признаки на наличие нуллов"
   ]
  },
  {
   "cell_type": "code",
   "execution_count": 2,
   "id": "a49f93ce",
   "metadata": {
    "ExecuteTime": {
     "end_time": "2022-10-14T08:24:22.672095Z",
     "start_time": "2022-10-14T08:24:22.591581Z"
    }
   },
   "outputs": [
    {
     "data": {
      "text/html": [
       "<div>\n",
       "<style scoped>\n",
       "    .dataframe tbody tr th:only-of-type {\n",
       "        vertical-align: middle;\n",
       "    }\n",
       "\n",
       "    .dataframe tbody tr th {\n",
       "        vertical-align: top;\n",
       "    }\n",
       "\n",
       "    .dataframe thead th {\n",
       "        text-align: right;\n",
       "    }\n",
       "</style>\n",
       "<table border=\"1\" class=\"dataframe\">\n",
       "  <thead>\n",
       "    <tr style=\"text-align: right;\">\n",
       "      <th></th>\n",
       "      <th>id_client</th>\n",
       "      <th>flag_coll</th>\n",
       "      <th>amt_credit</th>\n",
       "      <th>bki</th>\n",
       "      <th>age</th>\n",
       "      <th>is_educ</th>\n",
       "      <th>cl_segm</th>\n",
       "      <th>fssp</th>\n",
       "      <th>cnt_closed_contract</th>\n",
       "      <th>is_cellphone</th>\n",
       "    </tr>\n",
       "  </thead>\n",
       "  <tbody>\n",
       "    <tr>\n",
       "      <th>count</th>\n",
       "      <td>9.361000e+03</td>\n",
       "      <td>9361.000000</td>\n",
       "      <td>9361.000000</td>\n",
       "      <td>9361.000000</td>\n",
       "      <td>9361.000000</td>\n",
       "      <td>9361.000000</td>\n",
       "      <td>9361.000000</td>\n",
       "      <td>9361.000000</td>\n",
       "      <td>9361.000000</td>\n",
       "      <td>9361.000000</td>\n",
       "    </tr>\n",
       "    <tr>\n",
       "      <th>mean</th>\n",
       "      <td>1.004681e+06</td>\n",
       "      <td>0.393548</td>\n",
       "      <td>218657.194744</td>\n",
       "      <td>40267.624933</td>\n",
       "      <td>43.912403</td>\n",
       "      <td>0.349856</td>\n",
       "      <td>2.472706</td>\n",
       "      <td>20524.654204</td>\n",
       "      <td>1.312253</td>\n",
       "      <td>0.703344</td>\n",
       "    </tr>\n",
       "    <tr>\n",
       "      <th>std</th>\n",
       "      <td>2.702432e+03</td>\n",
       "      <td>0.489655</td>\n",
       "      <td>231959.974106</td>\n",
       "      <td>32666.384979</td>\n",
       "      <td>15.317153</td>\n",
       "      <td>0.476950</td>\n",
       "      <td>1.010483</td>\n",
       "      <td>47829.161279</td>\n",
       "      <td>2.068131</td>\n",
       "      <td>0.456808</td>\n",
       "    </tr>\n",
       "    <tr>\n",
       "      <th>min</th>\n",
       "      <td>1.000001e+06</td>\n",
       "      <td>-1.000000</td>\n",
       "      <td>10000.000000</td>\n",
       "      <td>0.000000</td>\n",
       "      <td>18.000000</td>\n",
       "      <td>0.000000</td>\n",
       "      <td>1.000000</td>\n",
       "      <td>0.000000</td>\n",
       "      <td>0.000000</td>\n",
       "      <td>0.000000</td>\n",
       "    </tr>\n",
       "    <tr>\n",
       "      <th>10%</th>\n",
       "      <td>1.000937e+06</td>\n",
       "      <td>0.000000</td>\n",
       "      <td>40000.000000</td>\n",
       "      <td>0.000000</td>\n",
       "      <td>23.000000</td>\n",
       "      <td>0.000000</td>\n",
       "      <td>1.000000</td>\n",
       "      <td>0.000000</td>\n",
       "      <td>0.000000</td>\n",
       "      <td>0.000000</td>\n",
       "    </tr>\n",
       "    <tr>\n",
       "      <th>20%</th>\n",
       "      <td>1.001873e+06</td>\n",
       "      <td>0.000000</td>\n",
       "      <td>50000.000000</td>\n",
       "      <td>362.000000</td>\n",
       "      <td>28.000000</td>\n",
       "      <td>0.000000</td>\n",
       "      <td>1.000000</td>\n",
       "      <td>0.000000</td>\n",
       "      <td>0.000000</td>\n",
       "      <td>0.000000</td>\n",
       "    </tr>\n",
       "    <tr>\n",
       "      <th>30%</th>\n",
       "      <td>1.002809e+06</td>\n",
       "      <td>0.000000</td>\n",
       "      <td>75000.000000</td>\n",
       "      <td>12852.000000</td>\n",
       "      <td>33.000000</td>\n",
       "      <td>0.000000</td>\n",
       "      <td>2.000000</td>\n",
       "      <td>0.000000</td>\n",
       "      <td>0.000000</td>\n",
       "      <td>1.000000</td>\n",
       "    </tr>\n",
       "    <tr>\n",
       "      <th>40%</th>\n",
       "      <td>1.003745e+06</td>\n",
       "      <td>0.000000</td>\n",
       "      <td>100000.000000</td>\n",
       "      <td>25140.000000</td>\n",
       "      <td>38.000000</td>\n",
       "      <td>0.000000</td>\n",
       "      <td>2.000000</td>\n",
       "      <td>0.000000</td>\n",
       "      <td>0.000000</td>\n",
       "      <td>1.000000</td>\n",
       "    </tr>\n",
       "    <tr>\n",
       "      <th>50%</th>\n",
       "      <td>1.004681e+06</td>\n",
       "      <td>0.000000</td>\n",
       "      <td>125000.000000</td>\n",
       "      <td>38081.000000</td>\n",
       "      <td>44.000000</td>\n",
       "      <td>0.000000</td>\n",
       "      <td>2.000000</td>\n",
       "      <td>0.000000</td>\n",
       "      <td>0.000000</td>\n",
       "      <td>1.000000</td>\n",
       "    </tr>\n",
       "    <tr>\n",
       "      <th>60%</th>\n",
       "      <td>1.005617e+06</td>\n",
       "      <td>0.000000</td>\n",
       "      <td>175000.000000</td>\n",
       "      <td>50512.000000</td>\n",
       "      <td>49.000000</td>\n",
       "      <td>0.000000</td>\n",
       "      <td>3.000000</td>\n",
       "      <td>0.000000</td>\n",
       "      <td>1.000000</td>\n",
       "      <td>1.000000</td>\n",
       "    </tr>\n",
       "    <tr>\n",
       "      <th>70%</th>\n",
       "      <td>1.006553e+06</td>\n",
       "      <td>1.000000</td>\n",
       "      <td>250000.000000</td>\n",
       "      <td>62923.000000</td>\n",
       "      <td>55.000000</td>\n",
       "      <td>1.000000</td>\n",
       "      <td>3.000000</td>\n",
       "      <td>0.000000</td>\n",
       "      <td>2.000000</td>\n",
       "      <td>1.000000</td>\n",
       "    </tr>\n",
       "    <tr>\n",
       "      <th>80%</th>\n",
       "      <td>1.007489e+06</td>\n",
       "      <td>1.000000</td>\n",
       "      <td>300000.000000</td>\n",
       "      <td>75134.000000</td>\n",
       "      <td>60.000000</td>\n",
       "      <td>1.000000</td>\n",
       "      <td>3.000000</td>\n",
       "      <td>8364.000000</td>\n",
       "      <td>2.000000</td>\n",
       "      <td>1.000000</td>\n",
       "    </tr>\n",
       "    <tr>\n",
       "      <th>90%</th>\n",
       "      <td>1.008425e+06</td>\n",
       "      <td>1.000000</td>\n",
       "      <td>600000.000000</td>\n",
       "      <td>87653.000000</td>\n",
       "      <td>65.000000</td>\n",
       "      <td>1.000000</td>\n",
       "      <td>4.000000</td>\n",
       "      <td>102452.000000</td>\n",
       "      <td>4.000000</td>\n",
       "      <td>1.000000</td>\n",
       "    </tr>\n",
       "    <tr>\n",
       "      <th>max</th>\n",
       "      <td>1.009361e+06</td>\n",
       "      <td>1.000000</td>\n",
       "      <td>1000000.000000</td>\n",
       "      <td>99998.000000</td>\n",
       "      <td>70.000000</td>\n",
       "      <td>1.000000</td>\n",
       "      <td>4.000000</td>\n",
       "      <td>199804.000000</td>\n",
       "      <td>10.000000</td>\n",
       "      <td>1.000000</td>\n",
       "    </tr>\n",
       "  </tbody>\n",
       "</table>\n",
       "</div>"
      ],
      "text/plain": [
       "          id_client    flag_coll      amt_credit           bki          age  \\\n",
       "count  9.361000e+03  9361.000000     9361.000000   9361.000000  9361.000000   \n",
       "mean   1.004681e+06     0.393548   218657.194744  40267.624933    43.912403   \n",
       "std    2.702432e+03     0.489655   231959.974106  32666.384979    15.317153   \n",
       "min    1.000001e+06    -1.000000    10000.000000      0.000000    18.000000   \n",
       "10%    1.000937e+06     0.000000    40000.000000      0.000000    23.000000   \n",
       "20%    1.001873e+06     0.000000    50000.000000    362.000000    28.000000   \n",
       "30%    1.002809e+06     0.000000    75000.000000  12852.000000    33.000000   \n",
       "40%    1.003745e+06     0.000000   100000.000000  25140.000000    38.000000   \n",
       "50%    1.004681e+06     0.000000   125000.000000  38081.000000    44.000000   \n",
       "60%    1.005617e+06     0.000000   175000.000000  50512.000000    49.000000   \n",
       "70%    1.006553e+06     1.000000   250000.000000  62923.000000    55.000000   \n",
       "80%    1.007489e+06     1.000000   300000.000000  75134.000000    60.000000   \n",
       "90%    1.008425e+06     1.000000   600000.000000  87653.000000    65.000000   \n",
       "max    1.009361e+06     1.000000  1000000.000000  99998.000000    70.000000   \n",
       "\n",
       "           is_educ      cl_segm           fssp  cnt_closed_contract  \\\n",
       "count  9361.000000  9361.000000    9361.000000          9361.000000   \n",
       "mean      0.349856     2.472706   20524.654204             1.312253   \n",
       "std       0.476950     1.010483   47829.161279             2.068131   \n",
       "min       0.000000     1.000000       0.000000             0.000000   \n",
       "10%       0.000000     1.000000       0.000000             0.000000   \n",
       "20%       0.000000     1.000000       0.000000             0.000000   \n",
       "30%       0.000000     2.000000       0.000000             0.000000   \n",
       "40%       0.000000     2.000000       0.000000             0.000000   \n",
       "50%       0.000000     2.000000       0.000000             0.000000   \n",
       "60%       0.000000     3.000000       0.000000             1.000000   \n",
       "70%       1.000000     3.000000       0.000000             2.000000   \n",
       "80%       1.000000     3.000000    8364.000000             2.000000   \n",
       "90%       1.000000     4.000000  102452.000000             4.000000   \n",
       "max       1.000000     4.000000  199804.000000            10.000000   \n",
       "\n",
       "       is_cellphone  \n",
       "count   9361.000000  \n",
       "mean       0.703344  \n",
       "std        0.456808  \n",
       "min        0.000000  \n",
       "10%        0.000000  \n",
       "20%        0.000000  \n",
       "30%        1.000000  \n",
       "40%        1.000000  \n",
       "50%        1.000000  \n",
       "60%        1.000000  \n",
       "70%        1.000000  \n",
       "80%        1.000000  \n",
       "90%        1.000000  \n",
       "max        1.000000  "
      ]
     },
     "execution_count": 2,
     "metadata": {},
     "output_type": "execute_result"
    }
   ],
   "source": [
    "dataset = pd.read_csv('Датасет банки.csv', sep = ';').dropna()\n",
    "perc = [0.1, 0.2, 0.3, 0.4, 0.5, 0.6, 0.7, 0.8, 0.9]\n",
    "dataset.describe(percentiles=perc)"
   ]
  },
  {
   "cell_type": "code",
   "execution_count": 3,
   "id": "164e1093",
   "metadata": {
    "ExecuteTime": {
     "end_time": "2022-10-14T08:24:22.688095Z",
     "start_time": "2022-10-14T08:24:22.674097Z"
    }
   },
   "outputs": [],
   "source": [
    "dataset_clear = dataset.loc[dataset['flag_coll'] != -1] ### очистка столбца flag_coll"
   ]
  },
  {
   "cell_type": "code",
   "execution_count": 4,
   "id": "0fa5fe9d",
   "metadata": {
    "ExecuteTime": {
     "end_time": "2022-10-14T08:24:22.710567Z",
     "start_time": "2022-10-14T08:24:22.690098Z"
    }
   },
   "outputs": [
    {
     "data": {
      "text/plain": [
       "id_client              0\n",
       "flag_coll              0\n",
       "amt_credit             0\n",
       "bki                    0\n",
       "age                    0\n",
       "is_educ                0\n",
       "cl_segm                0\n",
       "credit_type            0\n",
       "fssp                   0\n",
       "cnt_closed_contract    0\n",
       "is_cellphone           0\n",
       "dtype: int64"
      ]
     },
     "execution_count": 4,
     "metadata": {},
     "output_type": "execute_result"
    }
   ],
   "source": [
    "dataset_clear.isnull().sum()"
   ]
  },
  {
   "cell_type": "code",
   "execution_count": 5,
   "id": "a235927c",
   "metadata": {
    "ExecuteTime": {
     "end_time": "2022-10-14T08:24:22.769737Z",
     "start_time": "2022-10-14T08:24:22.710567Z"
    }
   },
   "outputs": [
    {
     "data": {
      "text/html": [
       "<div>\n",
       "<style scoped>\n",
       "    .dataframe tbody tr th:only-of-type {\n",
       "        vertical-align: middle;\n",
       "    }\n",
       "\n",
       "    .dataframe tbody tr th {\n",
       "        vertical-align: top;\n",
       "    }\n",
       "\n",
       "    .dataframe thead th {\n",
       "        text-align: right;\n",
       "    }\n",
       "</style>\n",
       "<table border=\"1\" class=\"dataframe\">\n",
       "  <thead>\n",
       "    <tr style=\"text-align: right;\">\n",
       "      <th></th>\n",
       "      <th>id_client</th>\n",
       "      <th>flag_coll</th>\n",
       "      <th>amt_credit</th>\n",
       "      <th>bki</th>\n",
       "      <th>age</th>\n",
       "      <th>is_educ</th>\n",
       "      <th>cl_segm</th>\n",
       "      <th>fssp</th>\n",
       "      <th>cnt_closed_contract</th>\n",
       "      <th>is_cellphone</th>\n",
       "    </tr>\n",
       "  </thead>\n",
       "  <tbody>\n",
       "    <tr>\n",
       "      <th>count</th>\n",
       "      <td>9.356000e+03</td>\n",
       "      <td>9356.000000</td>\n",
       "      <td>9356.000000</td>\n",
       "      <td>9356.000000</td>\n",
       "      <td>9356.000000</td>\n",
       "      <td>9356.000000</td>\n",
       "      <td>9356.000000</td>\n",
       "      <td>9356.000000</td>\n",
       "      <td>9356.000000</td>\n",
       "      <td>9356.000000</td>\n",
       "    </tr>\n",
       "    <tr>\n",
       "      <th>mean</th>\n",
       "      <td>1.004679e+06</td>\n",
       "      <td>0.394292</td>\n",
       "      <td>218716.331766</td>\n",
       "      <td>40258.543288</td>\n",
       "      <td>43.911714</td>\n",
       "      <td>0.349936</td>\n",
       "      <td>2.472531</td>\n",
       "      <td>20535.622916</td>\n",
       "      <td>1.312206</td>\n",
       "      <td>0.703399</td>\n",
       "    </tr>\n",
       "    <tr>\n",
       "      <th>std</th>\n",
       "      <td>2.701123e+03</td>\n",
       "      <td>0.488724</td>\n",
       "      <td>232002.767530</td>\n",
       "      <td>32662.360894</td>\n",
       "      <td>15.315632</td>\n",
       "      <td>0.476975</td>\n",
       "      <td>1.010471</td>\n",
       "      <td>47839.586874</td>\n",
       "      <td>2.068394</td>\n",
       "      <td>0.456784</td>\n",
       "    </tr>\n",
       "    <tr>\n",
       "      <th>min</th>\n",
       "      <td>1.000001e+06</td>\n",
       "      <td>0.000000</td>\n",
       "      <td>10000.000000</td>\n",
       "      <td>0.000000</td>\n",
       "      <td>18.000000</td>\n",
       "      <td>0.000000</td>\n",
       "      <td>1.000000</td>\n",
       "      <td>0.000000</td>\n",
       "      <td>0.000000</td>\n",
       "      <td>0.000000</td>\n",
       "    </tr>\n",
       "    <tr>\n",
       "      <th>10%</th>\n",
       "      <td>1.000936e+06</td>\n",
       "      <td>0.000000</td>\n",
       "      <td>40000.000000</td>\n",
       "      <td>0.000000</td>\n",
       "      <td>23.000000</td>\n",
       "      <td>0.000000</td>\n",
       "      <td>1.000000</td>\n",
       "      <td>0.000000</td>\n",
       "      <td>0.000000</td>\n",
       "      <td>0.000000</td>\n",
       "    </tr>\n",
       "    <tr>\n",
       "      <th>20%</th>\n",
       "      <td>1.001872e+06</td>\n",
       "      <td>0.000000</td>\n",
       "      <td>50000.000000</td>\n",
       "      <td>362.000000</td>\n",
       "      <td>28.000000</td>\n",
       "      <td>0.000000</td>\n",
       "      <td>1.000000</td>\n",
       "      <td>0.000000</td>\n",
       "      <td>0.000000</td>\n",
       "      <td>0.000000</td>\n",
       "    </tr>\n",
       "    <tr>\n",
       "      <th>30%</th>\n",
       "      <td>1.002808e+06</td>\n",
       "      <td>0.000000</td>\n",
       "      <td>75000.000000</td>\n",
       "      <td>12848.500000</td>\n",
       "      <td>33.000000</td>\n",
       "      <td>0.000000</td>\n",
       "      <td>2.000000</td>\n",
       "      <td>0.000000</td>\n",
       "      <td>0.000000</td>\n",
       "      <td>1.000000</td>\n",
       "    </tr>\n",
       "    <tr>\n",
       "      <th>40%</th>\n",
       "      <td>1.003743e+06</td>\n",
       "      <td>0.000000</td>\n",
       "      <td>100000.000000</td>\n",
       "      <td>25132.000000</td>\n",
       "      <td>38.000000</td>\n",
       "      <td>0.000000</td>\n",
       "      <td>2.000000</td>\n",
       "      <td>0.000000</td>\n",
       "      <td>0.000000</td>\n",
       "      <td>1.000000</td>\n",
       "    </tr>\n",
       "    <tr>\n",
       "      <th>50%</th>\n",
       "      <td>1.004678e+06</td>\n",
       "      <td>0.000000</td>\n",
       "      <td>125000.000000</td>\n",
       "      <td>38078.000000</td>\n",
       "      <td>44.000000</td>\n",
       "      <td>0.000000</td>\n",
       "      <td>2.000000</td>\n",
       "      <td>0.000000</td>\n",
       "      <td>0.000000</td>\n",
       "      <td>1.000000</td>\n",
       "    </tr>\n",
       "    <tr>\n",
       "      <th>60%</th>\n",
       "      <td>1.005614e+06</td>\n",
       "      <td>0.000000</td>\n",
       "      <td>175000.000000</td>\n",
       "      <td>50501.000000</td>\n",
       "      <td>49.000000</td>\n",
       "      <td>0.000000</td>\n",
       "      <td>3.000000</td>\n",
       "      <td>0.000000</td>\n",
       "      <td>1.000000</td>\n",
       "      <td>1.000000</td>\n",
       "    </tr>\n",
       "    <tr>\n",
       "      <th>70%</th>\n",
       "      <td>1.006550e+06</td>\n",
       "      <td>1.000000</td>\n",
       "      <td>250000.000000</td>\n",
       "      <td>62911.000000</td>\n",
       "      <td>55.000000</td>\n",
       "      <td>1.000000</td>\n",
       "      <td>3.000000</td>\n",
       "      <td>0.000000</td>\n",
       "      <td>2.000000</td>\n",
       "      <td>1.000000</td>\n",
       "    </tr>\n",
       "    <tr>\n",
       "      <th>80%</th>\n",
       "      <td>1.007485e+06</td>\n",
       "      <td>1.000000</td>\n",
       "      <td>300000.000000</td>\n",
       "      <td>75131.000000</td>\n",
       "      <td>60.000000</td>\n",
       "      <td>1.000000</td>\n",
       "      <td>3.000000</td>\n",
       "      <td>8372.000000</td>\n",
       "      <td>2.000000</td>\n",
       "      <td>1.000000</td>\n",
       "    </tr>\n",
       "    <tr>\n",
       "      <th>90%</th>\n",
       "      <td>1.008420e+06</td>\n",
       "      <td>1.000000</td>\n",
       "      <td>600000.000000</td>\n",
       "      <td>87652.000000</td>\n",
       "      <td>65.000000</td>\n",
       "      <td>1.000000</td>\n",
       "      <td>4.000000</td>\n",
       "      <td>102466.000000</td>\n",
       "      <td>4.000000</td>\n",
       "      <td>1.000000</td>\n",
       "    </tr>\n",
       "    <tr>\n",
       "      <th>max</th>\n",
       "      <td>1.009361e+06</td>\n",
       "      <td>1.000000</td>\n",
       "      <td>1000000.000000</td>\n",
       "      <td>99998.000000</td>\n",
       "      <td>70.000000</td>\n",
       "      <td>1.000000</td>\n",
       "      <td>4.000000</td>\n",
       "      <td>199804.000000</td>\n",
       "      <td>10.000000</td>\n",
       "      <td>1.000000</td>\n",
       "    </tr>\n",
       "  </tbody>\n",
       "</table>\n",
       "</div>"
      ],
      "text/plain": [
       "          id_client    flag_coll      amt_credit           bki          age  \\\n",
       "count  9.356000e+03  9356.000000     9356.000000   9356.000000  9356.000000   \n",
       "mean   1.004679e+06     0.394292   218716.331766  40258.543288    43.911714   \n",
       "std    2.701123e+03     0.488724   232002.767530  32662.360894    15.315632   \n",
       "min    1.000001e+06     0.000000    10000.000000      0.000000    18.000000   \n",
       "10%    1.000936e+06     0.000000    40000.000000      0.000000    23.000000   \n",
       "20%    1.001872e+06     0.000000    50000.000000    362.000000    28.000000   \n",
       "30%    1.002808e+06     0.000000    75000.000000  12848.500000    33.000000   \n",
       "40%    1.003743e+06     0.000000   100000.000000  25132.000000    38.000000   \n",
       "50%    1.004678e+06     0.000000   125000.000000  38078.000000    44.000000   \n",
       "60%    1.005614e+06     0.000000   175000.000000  50501.000000    49.000000   \n",
       "70%    1.006550e+06     1.000000   250000.000000  62911.000000    55.000000   \n",
       "80%    1.007485e+06     1.000000   300000.000000  75131.000000    60.000000   \n",
       "90%    1.008420e+06     1.000000   600000.000000  87652.000000    65.000000   \n",
       "max    1.009361e+06     1.000000  1000000.000000  99998.000000    70.000000   \n",
       "\n",
       "           is_educ      cl_segm           fssp  cnt_closed_contract  \\\n",
       "count  9356.000000  9356.000000    9356.000000          9356.000000   \n",
       "mean      0.349936     2.472531   20535.622916             1.312206   \n",
       "std       0.476975     1.010471   47839.586874             2.068394   \n",
       "min       0.000000     1.000000       0.000000             0.000000   \n",
       "10%       0.000000     1.000000       0.000000             0.000000   \n",
       "20%       0.000000     1.000000       0.000000             0.000000   \n",
       "30%       0.000000     2.000000       0.000000             0.000000   \n",
       "40%       0.000000     2.000000       0.000000             0.000000   \n",
       "50%       0.000000     2.000000       0.000000             0.000000   \n",
       "60%       0.000000     3.000000       0.000000             1.000000   \n",
       "70%       1.000000     3.000000       0.000000             2.000000   \n",
       "80%       1.000000     3.000000    8372.000000             2.000000   \n",
       "90%       1.000000     4.000000  102466.000000             4.000000   \n",
       "max       1.000000     4.000000  199804.000000            10.000000   \n",
       "\n",
       "       is_cellphone  \n",
       "count   9356.000000  \n",
       "mean       0.703399  \n",
       "std        0.456784  \n",
       "min        0.000000  \n",
       "10%        0.000000  \n",
       "20%        0.000000  \n",
       "30%        1.000000  \n",
       "40%        1.000000  \n",
       "50%        1.000000  \n",
       "60%        1.000000  \n",
       "70%        1.000000  \n",
       "80%        1.000000  \n",
       "90%        1.000000  \n",
       "max        1.000000  "
      ]
     },
     "execution_count": 5,
     "metadata": {},
     "output_type": "execute_result"
    }
   ],
   "source": [
    "dataset_clear.describe(percentiles=perc)"
   ]
  },
  {
   "cell_type": "code",
   "execution_count": 6,
   "id": "ba001a02",
   "metadata": {
    "ExecuteTime": {
     "end_time": "2022-10-14T08:24:22.796905Z",
     "start_time": "2022-10-14T08:24:22.770770Z"
    }
   },
   "outputs": [
    {
     "data": {
      "text/html": [
       "<div>\n",
       "<style scoped>\n",
       "    .dataframe tbody tr th:only-of-type {\n",
       "        vertical-align: middle;\n",
       "    }\n",
       "\n",
       "    .dataframe tbody tr th {\n",
       "        vertical-align: top;\n",
       "    }\n",
       "\n",
       "    .dataframe thead th {\n",
       "        text-align: right;\n",
       "    }\n",
       "</style>\n",
       "<table border=\"1\" class=\"dataframe\">\n",
       "  <thead>\n",
       "    <tr style=\"text-align: right;\">\n",
       "      <th></th>\n",
       "      <th>id_client</th>\n",
       "      <th>flag_coll</th>\n",
       "      <th>amt_credit</th>\n",
       "      <th>bki</th>\n",
       "      <th>age</th>\n",
       "      <th>is_educ</th>\n",
       "      <th>cl_segm</th>\n",
       "      <th>credit_type</th>\n",
       "      <th>fssp</th>\n",
       "      <th>cnt_closed_contract</th>\n",
       "      <th>is_cellphone</th>\n",
       "    </tr>\n",
       "  </thead>\n",
       "  <tbody>\n",
       "    <tr>\n",
       "      <th>0</th>\n",
       "      <td>1000001</td>\n",
       "      <td>1.0</td>\n",
       "      <td>225000.0</td>\n",
       "      <td>26395.0</td>\n",
       "      <td>68.0</td>\n",
       "      <td>0.0</td>\n",
       "      <td>2.0</td>\n",
       "      <td>CC</td>\n",
       "      <td>0.0</td>\n",
       "      <td>0.0</td>\n",
       "      <td>0.0</td>\n",
       "    </tr>\n",
       "    <tr>\n",
       "      <th>1</th>\n",
       "      <td>1000002</td>\n",
       "      <td>0.0</td>\n",
       "      <td>75000.0</td>\n",
       "      <td>89146.0</td>\n",
       "      <td>69.0</td>\n",
       "      <td>1.0</td>\n",
       "      <td>2.0</td>\n",
       "      <td>POS</td>\n",
       "      <td>0.0</td>\n",
       "      <td>1.0</td>\n",
       "      <td>1.0</td>\n",
       "    </tr>\n",
       "    <tr>\n",
       "      <th>2</th>\n",
       "      <td>1000003</td>\n",
       "      <td>0.0</td>\n",
       "      <td>10000.0</td>\n",
       "      <td>35635.0</td>\n",
       "      <td>56.0</td>\n",
       "      <td>1.0</td>\n",
       "      <td>3.0</td>\n",
       "      <td>CC</td>\n",
       "      <td>0.0</td>\n",
       "      <td>0.0</td>\n",
       "      <td>1.0</td>\n",
       "    </tr>\n",
       "  </tbody>\n",
       "</table>\n",
       "</div>"
      ],
      "text/plain": [
       "   id_client  flag_coll  amt_credit      bki   age  is_educ  cl_segm  \\\n",
       "0    1000001        1.0    225000.0  26395.0  68.0      0.0      2.0   \n",
       "1    1000002        0.0     75000.0  89146.0  69.0      1.0      2.0   \n",
       "2    1000003        0.0     10000.0  35635.0  56.0      1.0      3.0   \n",
       "\n",
       "  credit_type  fssp  cnt_closed_contract  is_cellphone  \n",
       "0          CC   0.0                  0.0           0.0  \n",
       "1         POS   0.0                  1.0           1.0  \n",
       "2          CC   0.0                  0.0           1.0  "
      ]
     },
     "execution_count": 6,
     "metadata": {},
     "output_type": "execute_result"
    }
   ],
   "source": [
    "dataset_clear.head(3)"
   ]
  },
  {
   "cell_type": "raw",
   "id": "53bed52e",
   "metadata": {},
   "source": [
    "Сделайте замену категориальных признаков на числовые"
   ]
  },
  {
   "cell_type": "code",
   "execution_count": 7,
   "id": "6f78511c",
   "metadata": {
    "ExecuteTime": {
     "end_time": "2022-10-14T08:24:22.828607Z",
     "start_time": "2022-10-14T08:24:22.796905Z"
    }
   },
   "outputs": [
    {
     "data": {
      "text/html": [
       "<div>\n",
       "<style scoped>\n",
       "    .dataframe tbody tr th:only-of-type {\n",
       "        vertical-align: middle;\n",
       "    }\n",
       "\n",
       "    .dataframe tbody tr th {\n",
       "        vertical-align: top;\n",
       "    }\n",
       "\n",
       "    .dataframe thead th {\n",
       "        text-align: right;\n",
       "    }\n",
       "</style>\n",
       "<table border=\"1\" class=\"dataframe\">\n",
       "  <thead>\n",
       "    <tr style=\"text-align: right;\">\n",
       "      <th></th>\n",
       "      <th>id_client</th>\n",
       "      <th>flag_coll</th>\n",
       "      <th>amt_credit</th>\n",
       "      <th>bki</th>\n",
       "      <th>age</th>\n",
       "      <th>is_educ</th>\n",
       "      <th>cl_segm</th>\n",
       "      <th>credit_type</th>\n",
       "      <th>fssp</th>\n",
       "      <th>cnt_closed_contract</th>\n",
       "      <th>is_cellphone</th>\n",
       "    </tr>\n",
       "  </thead>\n",
       "  <tbody>\n",
       "    <tr>\n",
       "      <th>0</th>\n",
       "      <td>1000001</td>\n",
       "      <td>1.0</td>\n",
       "      <td>225000.0</td>\n",
       "      <td>26395.0</td>\n",
       "      <td>68.0</td>\n",
       "      <td>0.0</td>\n",
       "      <td>2.0</td>\n",
       "      <td>0</td>\n",
       "      <td>0.0</td>\n",
       "      <td>0.0</td>\n",
       "      <td>0.0</td>\n",
       "    </tr>\n",
       "    <tr>\n",
       "      <th>1</th>\n",
       "      <td>1000002</td>\n",
       "      <td>0.0</td>\n",
       "      <td>75000.0</td>\n",
       "      <td>89146.0</td>\n",
       "      <td>69.0</td>\n",
       "      <td>1.0</td>\n",
       "      <td>2.0</td>\n",
       "      <td>1</td>\n",
       "      <td>0.0</td>\n",
       "      <td>1.0</td>\n",
       "      <td>1.0</td>\n",
       "    </tr>\n",
       "    <tr>\n",
       "      <th>2</th>\n",
       "      <td>1000003</td>\n",
       "      <td>0.0</td>\n",
       "      <td>10000.0</td>\n",
       "      <td>35635.0</td>\n",
       "      <td>56.0</td>\n",
       "      <td>1.0</td>\n",
       "      <td>3.0</td>\n",
       "      <td>0</td>\n",
       "      <td>0.0</td>\n",
       "      <td>0.0</td>\n",
       "      <td>1.0</td>\n",
       "    </tr>\n",
       "  </tbody>\n",
       "</table>\n",
       "</div>"
      ],
      "text/plain": [
       "   id_client  flag_coll  amt_credit      bki   age  is_educ  cl_segm  \\\n",
       "0    1000001        1.0    225000.0  26395.0  68.0      0.0      2.0   \n",
       "1    1000002        0.0     75000.0  89146.0  69.0      1.0      2.0   \n",
       "2    1000003        0.0     10000.0  35635.0  56.0      1.0      3.0   \n",
       "\n",
       "   credit_type  fssp  cnt_closed_contract  is_cellphone  \n",
       "0            0   0.0                  0.0           0.0  \n",
       "1            1   0.0                  1.0           1.0  \n",
       "2            0   0.0                  0.0           1.0  "
      ]
     },
     "execution_count": 7,
     "metadata": {},
     "output_type": "execute_result"
    }
   ],
   "source": [
    "df = dataset_clear.copy()\n",
    "df.credit_type = df.credit_type.map({'POS':1, 'CC':0}) ### POS is 1, CC is 0\n",
    "df.head(3)"
   ]
  },
  {
   "cell_type": "code",
   "execution_count": 8,
   "id": "7b545bb0",
   "metadata": {
    "ExecuteTime": {
     "end_time": "2022-10-14T08:24:23.089113Z",
     "start_time": "2022-10-14T08:24:22.831608Z"
    }
   },
   "outputs": [],
   "source": [
    "from sklearn.model_selection import train_test_split\n",
    "from sklearn.metrics import confusion_matrix\n",
    "from sklearn.tree import DecisionTreeClassifier\n",
    "from sklearn.metrics import accuracy_score"
   ]
  },
  {
   "cell_type": "raw",
   "id": "9134846b",
   "metadata": {},
   "source": [
    "Разделите выборку на тест и тренинг"
   ]
  },
  {
   "cell_type": "code",
   "execution_count": 9,
   "id": "a18f5bd6",
   "metadata": {
    "ExecuteTime": {
     "end_time": "2022-10-14T08:24:23.105013Z",
     "start_time": "2022-10-14T08:24:23.091113Z"
    }
   },
   "outputs": [],
   "source": [
    "X = df.drop(['flag_coll'], axis=1)\n",
    "y = df['flag_coll']"
   ]
  },
  {
   "cell_type": "raw",
   "id": "3f92629d",
   "metadata": {},
   "source": [
    "Постройте дерево решений с помощью библиотеки sklearn\n",
    "Рассчитайте accuracy_score и посмотрите, как это значение зависит от соотношения размеров тестовой и тренинговой выборки"
   ]
  },
  {
   "cell_type": "code",
   "execution_count": 10,
   "id": "b6f40de6",
   "metadata": {
    "ExecuteTime": {
     "end_time": "2022-10-14T08:24:23.126264Z",
     "start_time": "2022-10-14T08:24:23.107016Z"
    }
   },
   "outputs": [],
   "source": [
    "from sklearn.model_selection import train_test_split\n",
    "import warnings"
   ]
  },
  {
   "cell_type": "code",
   "execution_count": 11,
   "id": "e55f7386",
   "metadata": {
    "ExecuteTime": {
     "end_time": "2022-10-14T08:24:28.070850Z",
     "start_time": "2022-10-14T08:24:23.126264Z"
    },
    "run_control": {
     "marked": false
    }
   },
   "outputs": [],
   "source": [
    "sensitivities = pd.DataFrame(columns=['test_size','acc'])\n",
    "\n",
    "warnings.filterwarnings('ignore') ### отключаем \"розовые бумажки\"\n",
    "\n",
    "for each in range(1, 100, 1):\n",
    "    \n",
    "    X_train, X_test, y_train, y_test = train_test_split(X, \n",
    "                                                        y,\n",
    "                                                        test_size = each / 100,\n",
    "                                                        random_state = 4)\n",
    "\n",
    "    tree = DecisionTreeClassifier()\n",
    "    tree.fit(X_train, y_train)\n",
    "    y_pred = tree.predict(X_test)\n",
    "    acc = accuracy_score(y_test,y_pred)\n",
    "    sensitivities = sensitivities.append({'test_size':each, 'acc':acc}, ignore_index=True)\n",
    "    \n",
    "warnings.filterwarnings('default') ### включаем \"розовые бумажки\""
   ]
  },
  {
   "cell_type": "code",
   "execution_count": 12,
   "id": "8ec66f3a",
   "metadata": {
    "ExecuteTime": {
     "end_time": "2022-10-14T08:24:28.376464Z",
     "start_time": "2022-10-14T08:24:28.070850Z"
    },
    "run_control": {
     "marked": false
    }
   },
   "outputs": [
    {
     "data": {
      "image/png": "[encoded data removed]",
      "text/plain": [
       "<Figure size 1440x504 with 1 Axes>"
      ]
     },
     "metadata": {
      "needs_background": "light"
     },
     "output_type": "display_data"
    }
   ],
   "source": [
    "plt.figure(figsize=(20,7))\n",
    "plt.plot(sensitivities['test_size'], sensitivities['acc'])\n",
    "plt.show()"
   ]
  },
  {
   "cell_type": "code",
   "execution_count": 13,
   "id": "b7464855",
   "metadata": {
    "ExecuteTime": {
     "end_time": "2022-10-14T08:24:28.390613Z",
     "start_time": "2022-10-14T08:24:28.378458Z"
    },
    "run_control": {
     "marked": false
    }
   },
   "outputs": [
    {
     "data": {
      "text/plain": [
       "'57.8%'"
      ]
     },
     "execution_count": 13,
     "metadata": {},
     "output_type": "execute_result"
    }
   ],
   "source": [
    "acc = accuracy_score(y_test,y_pred)\n",
    "f'{acc*100:.1f}%'"
   ]
  },
  {
   "cell_type": "raw",
   "id": "ba48c609",
   "metadata": {},
   "source": [
    "Визуализируйте confusion matrix результата"
   ]
  },
  {
   "cell_type": "code",
   "execution_count": 14,
   "id": "804a35bf",
   "metadata": {
    "ExecuteTime": {
     "end_time": "2022-10-14T08:24:28.415784Z",
     "start_time": "2022-10-14T08:24:28.393058Z"
    }
   },
   "outputs": [
    {
     "data": {
      "text/plain": [
       "array([[3837, 1774],\n",
       "       [2138, 1514]], dtype=int64)"
      ]
     },
     "execution_count": 14,
     "metadata": {},
     "output_type": "execute_result"
    }
   ],
   "source": [
    "cm=confusion_matrix(y_test, y_pred)\n",
    "cm"
   ]
  },
  {
   "cell_type": "code",
   "execution_count": 15,
   "id": "bec3de1d",
   "metadata": {
    "ExecuteTime": {
     "end_time": "2022-10-14T08:24:28.609968Z",
     "start_time": "2022-10-14T08:24:28.415784Z"
    }
   },
   "outputs": [
    {
     "data": {
      "text/plain": [
       "<AxesSubplot:>"
      ]
     },
     "execution_count": 15,
     "metadata": {},
     "output_type": "execute_result"
    },
    {
     "data": {
      "image/png": "[encoded data removed]",
      "text/plain": [
       "<Figure size 720x720 with 2 Axes>"
      ]
     },
     "metadata": {
      "needs_background": "light"
     },
     "output_type": "display_data"
    }
   ],
   "source": [
    "plt.figure(figsize=(10,10))\n",
    "sns.heatmap(cm, cbar=True, square=True, fmt='.1f', annot=True, annot_kws={'size':13}, cmap='Reds')"
   ]
  },
  {
   "cell_type": "code",
   "execution_count": null,
   "id": "04ddabc5",
   "metadata": {},
   "outputs": [],
   "source": []
  }
 ],
 "metadata": {
  "kernelspec": {
   "display_name": "Python 3 (ipykernel)",
   "language": "python",
   "name": "python3"
  },
  "language_info": {
   "codemirror_mode": {
    "name": "ipython",
    "version": 3
   },
   "file_extension": ".py",
   "mimetype": "text/x-python",
   "name": "python",
   "nbconvert_exporter": "python",
   "pygments_lexer": "ipython3",
   "version": "3.9.12"
  }
 },
 "nbformat": 4,
 "nbformat_minor": 5
}
