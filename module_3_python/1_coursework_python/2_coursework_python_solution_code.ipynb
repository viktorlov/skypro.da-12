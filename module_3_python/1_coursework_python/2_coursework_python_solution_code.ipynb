{
 "cells": [
  {
   "cell_type": "code",
   "execution_count": 81,
   "id": "56b20332",
   "metadata": {
    "ExecuteTime": {
     "end_time": "2022-08-22T14:47:38.892627Z",
     "start_time": "2022-08-22T14:47:38.883627Z"
    },
    "run_control": {
     "marked": false
    }
   },
   "outputs": [],
   "source": [
    "from matplotlib import pyplot as plt\n",
    "from scipy import stats as st\n",
    "import datetime as dt\n",
    "import numpy as np\n",
    "import pandas as pd\n",
    "import random as rm\n",
    "import seaborn as sns\n",
    "import pandas_profiling\n",
    "fs = (14,7) ### размер графиков"
   ]
  },
  {
   "cell_type": "code",
   "execution_count": 82,
   "id": "1419eaaa",
   "metadata": {
    "ExecuteTime": {
     "end_time": "2022-08-22T14:47:38.940631Z",
     "start_time": "2022-08-22T14:47:38.895631Z"
    },
    "run_control": {
     "marked": false
    },
    "scrolled": false
   },
   "outputs": [
    {
     "data": {
      "text/html": [
       "<div>\n",
       "<style scoped>\n",
       "    .dataframe tbody tr th:only-of-type {\n",
       "        vertical-align: middle;\n",
       "    }\n",
       "\n",
       "    .dataframe tbody tr th {\n",
       "        vertical-align: top;\n",
       "    }\n",
       "\n",
       "    .dataframe thead th {\n",
       "        text-align: right;\n",
       "    }\n",
       "</style>\n",
       "<table border=\"1\" class=\"dataframe\">\n",
       "  <thead>\n",
       "    <tr style=\"text-align: right;\">\n",
       "      <th></th>\n",
       "      <th>id_client</th>\n",
       "      <th>id_group</th>\n",
       "      <th>sum_pay</th>\n",
       "      <th>id_point</th>\n",
       "      <th>months_reg</th>\n",
       "    </tr>\n",
       "  </thead>\n",
       "  <tbody>\n",
       "    <tr>\n",
       "      <th>count</th>\n",
       "      <td>1.084000e+04</td>\n",
       "      <td>10840</td>\n",
       "      <td>10840.000000</td>\n",
       "      <td>10840.000000</td>\n",
       "      <td>10840.000000</td>\n",
       "    </tr>\n",
       "    <tr>\n",
       "      <th>unique</th>\n",
       "      <td>NaN</td>\n",
       "      <td>2</td>\n",
       "      <td>NaN</td>\n",
       "      <td>NaN</td>\n",
       "      <td>NaN</td>\n",
       "    </tr>\n",
       "    <tr>\n",
       "      <th>top</th>\n",
       "      <td>NaN</td>\n",
       "      <td>test</td>\n",
       "      <td>NaN</td>\n",
       "      <td>NaN</td>\n",
       "      <td>NaN</td>\n",
       "    </tr>\n",
       "    <tr>\n",
       "      <th>freq</th>\n",
       "      <td>NaN</td>\n",
       "      <td>5669</td>\n",
       "      <td>NaN</td>\n",
       "      <td>NaN</td>\n",
       "      <td>NaN</td>\n",
       "    </tr>\n",
       "    <tr>\n",
       "      <th>mean</th>\n",
       "      <td>1.372953e+06</td>\n",
       "      <td>NaN</td>\n",
       "      <td>3568.758026</td>\n",
       "      <td>1180.039760</td>\n",
       "      <td>4.693911</td>\n",
       "    </tr>\n",
       "    <tr>\n",
       "      <th>std</th>\n",
       "      <td>1.482036e+04</td>\n",
       "      <td>NaN</td>\n",
       "      <td>2927.273978</td>\n",
       "      <td>4.353995</td>\n",
       "      <td>3.174513</td>\n",
       "    </tr>\n",
       "    <tr>\n",
       "      <th>min</th>\n",
       "      <td>1.359000e+06</td>\n",
       "      <td>NaN</td>\n",
       "      <td>59.000000</td>\n",
       "      <td>1178.000000</td>\n",
       "      <td>0.000000</td>\n",
       "    </tr>\n",
       "    <tr>\n",
       "      <th>25%</th>\n",
       "      <td>1.361710e+06</td>\n",
       "      <td>NaN</td>\n",
       "      <td>1250.750000</td>\n",
       "      <td>1178.000000</td>\n",
       "      <td>2.000000</td>\n",
       "    </tr>\n",
       "    <tr>\n",
       "      <th>50%</th>\n",
       "      <td>1.370636e+06</td>\n",
       "      <td>NaN</td>\n",
       "      <td>3173.500000</td>\n",
       "      <td>1179.000000</td>\n",
       "      <td>4.000000</td>\n",
       "    </tr>\n",
       "    <tr>\n",
       "      <th>75%</th>\n",
       "      <td>1.373417e+06</td>\n",
       "      <td>NaN</td>\n",
       "      <td>5356.500000</td>\n",
       "      <td>1179.000000</td>\n",
       "      <td>6.000000</td>\n",
       "    </tr>\n",
       "    <tr>\n",
       "      <th>max</th>\n",
       "      <td>1.420345e+06</td>\n",
       "      <td>NaN</td>\n",
       "      <td>24797.000000</td>\n",
       "      <td>1199.000000</td>\n",
       "      <td>14.000000</td>\n",
       "    </tr>\n",
       "  </tbody>\n",
       "</table>\n",
       "</div>"
      ],
      "text/plain": [
       "           id_client id_group       sum_pay      id_point    months_reg\n",
       "count   1.084000e+04    10840  10840.000000  10840.000000  10840.000000\n",
       "unique           NaN        2           NaN           NaN           NaN\n",
       "top              NaN     test           NaN           NaN           NaN\n",
       "freq             NaN     5669           NaN           NaN           NaN\n",
       "mean    1.372953e+06      NaN   3568.758026   1180.039760      4.693911\n",
       "std     1.482036e+04      NaN   2927.273978      4.353995      3.174513\n",
       "min     1.359000e+06      NaN     59.000000   1178.000000      0.000000\n",
       "25%     1.361710e+06      NaN   1250.750000   1178.000000      2.000000\n",
       "50%     1.370636e+06      NaN   3173.500000   1179.000000      4.000000\n",
       "75%     1.373417e+06      NaN   5356.500000   1179.000000      6.000000\n",
       "max     1.420345e+06      NaN  24797.000000   1199.000000     14.000000"
      ]
     },
     "execution_count": 82,
     "metadata": {},
     "output_type": "execute_result"
    }
   ],
   "source": [
    "dataset = pd.read_csv('Dataset_AB_TEST.csv', sep = ';').dropna()\n",
    "dataset.describe(include = 'all')"
   ]
  },
  {
   "cell_type": "code",
   "execution_count": 83,
   "id": "38c88113",
   "metadata": {
    "ExecuteTime": {
     "end_time": "2022-08-22T14:47:38.956632Z",
     "start_time": "2022-08-22T14:47:38.943633Z"
    },
    "run_control": {
     "marked": false
    }
   },
   "outputs": [],
   "source": [
    "dataset_raw = dataset.copy()"
   ]
  },
  {
   "cell_type": "code",
   "execution_count": 84,
   "id": "a830134d",
   "metadata": {
    "ExecuteTime": {
     "end_time": "2022-08-22T14:47:38.972634Z",
     "start_time": "2022-08-22T14:47:38.959634Z"
    },
    "run_control": {
     "marked": false
    }
   },
   "outputs": [
    {
     "data": {
      "text/html": [
       "<div>\n",
       "<style scoped>\n",
       "    .dataframe tbody tr th:only-of-type {\n",
       "        vertical-align: middle;\n",
       "    }\n",
       "\n",
       "    .dataframe tbody tr th {\n",
       "        vertical-align: top;\n",
       "    }\n",
       "\n",
       "    .dataframe thead th {\n",
       "        text-align: right;\n",
       "    }\n",
       "</style>\n",
       "<table border=\"1\" class=\"dataframe\">\n",
       "  <thead>\n",
       "    <tr style=\"text-align: right;\">\n",
       "      <th></th>\n",
       "      <th>id_client</th>\n",
       "      <th>id_group</th>\n",
       "      <th>sum_pay</th>\n",
       "      <th>id_point</th>\n",
       "      <th>months_reg</th>\n",
       "      <th>cost_group</th>\n",
       "    </tr>\n",
       "  </thead>\n",
       "  <tbody>\n",
       "    <tr>\n",
       "      <th>0</th>\n",
       "      <td>1420218</td>\n",
       "      <td>test</td>\n",
       "      <td>3288.0</td>\n",
       "      <td>1199.0</td>\n",
       "      <td>8</td>\n",
       "      <td>2000</td>\n",
       "    </tr>\n",
       "    <tr>\n",
       "      <th>1</th>\n",
       "      <td>1390221</td>\n",
       "      <td>control</td>\n",
       "      <td>1267.0</td>\n",
       "      <td>1182.0</td>\n",
       "      <td>11</td>\n",
       "      <td>1000</td>\n",
       "    </tr>\n",
       "  </tbody>\n",
       "</table>\n",
       "</div>"
      ],
      "text/plain": [
       "   id_client id_group  sum_pay  id_point  months_reg  cost_group\n",
       "0    1420218     test   3288.0    1199.0           8        2000\n",
       "1    1390221  control   1267.0    1182.0          11        1000"
      ]
     },
     "execution_count": 84,
     "metadata": {},
     "output_type": "execute_result"
    }
   ],
   "source": [
    "mask = {'test':2000,'control':1000}\n",
    "dataset['cost_group'] = dataset['id_group'].map(mask)\n",
    "dataset.head(2)"
   ]
  },
  {
   "cell_type": "code",
   "execution_count": 85,
   "id": "fe30c8ef",
   "metadata": {
    "ExecuteTime": {
     "end_time": "2022-08-22T14:47:38.988635Z",
     "start_time": "2022-08-22T14:47:38.975635Z"
    },
    "run_control": {
     "marked": false
    },
    "scrolled": true
   },
   "outputs": [],
   "source": [
    "dataset = dataset.loc[dataset['sum_pay'] >= 100] # убираем все строки, сумма покупки в которой строго меньше 100. "
   ]
  },
  {
   "cell_type": "code",
   "execution_count": 86,
   "id": "e1eb04bd",
   "metadata": {
    "ExecuteTime": {
     "end_time": "2022-08-22T14:47:39.609813Z",
     "start_time": "2022-08-22T14:47:38.990636Z"
    },
    "run_control": {
     "marked": false
    },
    "scrolled": false
   },
   "outputs": [
    {
     "data": {
      "text/plain": [
       "<AxesSubplot:>"
      ]
     },
     "execution_count": 86,
     "metadata": {},
     "output_type": "execute_result"
    },
    {
     "data": {
      "image/png": "[encoded data removed]",
      "text/plain": [
       "<Figure size 1008x504 with 1 Axes>"
      ]
     },
     "metadata": {
      "needs_background": "light"
     },
     "output_type": "display_data"
    }
   ],
   "source": [
    "dataset.sum_pay.hist(figsize=fs, bins=len(dataset.sum_pay)//100, legend=True, grid=False)"
   ]
  },
  {
   "cell_type": "code",
   "execution_count": 87,
   "id": "e60239e8",
   "metadata": {
    "ExecuteTime": {
     "end_time": "2022-08-22T14:47:39.629044Z",
     "start_time": "2022-08-22T14:47:39.611816Z"
    },
    "run_control": {
     "marked": false
    }
   },
   "outputs": [],
   "source": [
    "dataset = dataset.loc[dataset['sum_pay'] < 15_000] # убираем все строки, сумма покупки в которой больше 15_000. "
   ]
  },
  {
   "cell_type": "code",
   "execution_count": 88,
   "id": "f8b37b19",
   "metadata": {
    "ExecuteTime": {
     "end_time": "2022-08-22T14:47:39.676044Z",
     "start_time": "2022-08-22T14:47:39.632041Z"
    },
    "run_control": {
     "marked": false
    }
   },
   "outputs": [
    {
     "data": {
      "text/html": [
       "<div>\n",
       "<style scoped>\n",
       "    .dataframe tbody tr th:only-of-type {\n",
       "        vertical-align: middle;\n",
       "    }\n",
       "\n",
       "    .dataframe tbody tr th {\n",
       "        vertical-align: top;\n",
       "    }\n",
       "\n",
       "    .dataframe thead tr th {\n",
       "        text-align: left;\n",
       "    }\n",
       "\n",
       "    .dataframe thead tr:last-of-type th {\n",
       "        text-align: right;\n",
       "    }\n",
       "</style>\n",
       "<table border=\"1\" class=\"dataframe\">\n",
       "  <thead>\n",
       "    <tr>\n",
       "      <th></th>\n",
       "      <th></th>\n",
       "      <th colspan=\"4\" halign=\"left\">months_reg</th>\n",
       "      <th colspan=\"4\" halign=\"left\">sum_pay</th>\n",
       "    </tr>\n",
       "    <tr>\n",
       "      <th></th>\n",
       "      <th></th>\n",
       "      <th>count</th>\n",
       "      <th>min</th>\n",
       "      <th>max</th>\n",
       "      <th>mean</th>\n",
       "      <th>sum</th>\n",
       "      <th>min</th>\n",
       "      <th>max</th>\n",
       "      <th>mean</th>\n",
       "    </tr>\n",
       "    <tr>\n",
       "      <th>id_point</th>\n",
       "      <th>id_group</th>\n",
       "      <th></th>\n",
       "      <th></th>\n",
       "      <th></th>\n",
       "      <th></th>\n",
       "      <th></th>\n",
       "      <th></th>\n",
       "      <th></th>\n",
       "      <th></th>\n",
       "    </tr>\n",
       "  </thead>\n",
       "  <tbody>\n",
       "    <tr>\n",
       "      <th rowspan=\"2\" valign=\"top\">1178.0</th>\n",
       "      <th>control</th>\n",
       "      <td>2403</td>\n",
       "      <td>0</td>\n",
       "      <td>14</td>\n",
       "      <td>4.407407</td>\n",
       "      <td>7296024.0</td>\n",
       "      <td>101.0</td>\n",
       "      <td>7499.0</td>\n",
       "      <td>3036.214732</td>\n",
       "    </tr>\n",
       "    <tr>\n",
       "      <th>test</th>\n",
       "      <td>2399</td>\n",
       "      <td>0</td>\n",
       "      <td>14</td>\n",
       "      <td>4.325552</td>\n",
       "      <td>7064444.0</td>\n",
       "      <td>100.0</td>\n",
       "      <td>7897.0</td>\n",
       "      <td>2944.745311</td>\n",
       "    </tr>\n",
       "    <tr>\n",
       "      <th rowspan=\"2\" valign=\"top\">1179.0</th>\n",
       "      <th>control</th>\n",
       "      <td>1697</td>\n",
       "      <td>0</td>\n",
       "      <td>14</td>\n",
       "      <td>4.659988</td>\n",
       "      <td>5653234.0</td>\n",
       "      <td>101.0</td>\n",
       "      <td>8228.0</td>\n",
       "      <td>3331.310548</td>\n",
       "    </tr>\n",
       "    <tr>\n",
       "      <th>test</th>\n",
       "      <td>1745</td>\n",
       "      <td>0</td>\n",
       "      <td>14</td>\n",
       "      <td>4.587393</td>\n",
       "      <td>5971088.0</td>\n",
       "      <td>101.0</td>\n",
       "      <td>8228.0</td>\n",
       "      <td>3421.826934</td>\n",
       "    </tr>\n",
       "    <tr>\n",
       "      <th rowspan=\"2\" valign=\"top\">1182.0</th>\n",
       "      <th>control</th>\n",
       "      <td>1012</td>\n",
       "      <td>0</td>\n",
       "      <td>14</td>\n",
       "      <td>5.166996</td>\n",
       "      <td>4085386.0</td>\n",
       "      <td>104.0</td>\n",
       "      <td>9362.0</td>\n",
       "      <td>4036.942688</td>\n",
       "    </tr>\n",
       "    <tr>\n",
       "      <th>test</th>\n",
       "      <td>950</td>\n",
       "      <td>0</td>\n",
       "      <td>14</td>\n",
       "      <td>5.760000</td>\n",
       "      <td>4697873.0</td>\n",
       "      <td>923.0</td>\n",
       "      <td>10141.0</td>\n",
       "      <td>4945.129474</td>\n",
       "    </tr>\n",
       "    <tr>\n",
       "      <th rowspan=\"2\" valign=\"top\">1186.0</th>\n",
       "      <th>control</th>\n",
       "      <td>23</td>\n",
       "      <td>0</td>\n",
       "      <td>13</td>\n",
       "      <td>6.391304</td>\n",
       "      <td>104558.0</td>\n",
       "      <td>326.0</td>\n",
       "      <td>7947.0</td>\n",
       "      <td>4546.000000</td>\n",
       "    </tr>\n",
       "    <tr>\n",
       "      <th>test</th>\n",
       "      <td>40</td>\n",
       "      <td>0</td>\n",
       "      <td>12</td>\n",
       "      <td>4.775000</td>\n",
       "      <td>145536.0</td>\n",
       "      <td>102.0</td>\n",
       "      <td>7751.0</td>\n",
       "      <td>3638.400000</td>\n",
       "    </tr>\n",
       "    <tr>\n",
       "      <th rowspan=\"2\" valign=\"top\">1188.0</th>\n",
       "      <th>control</th>\n",
       "      <td>5</td>\n",
       "      <td>1</td>\n",
       "      <td>12</td>\n",
       "      <td>6.400000</td>\n",
       "      <td>26010.0</td>\n",
       "      <td>112.0</td>\n",
       "      <td>7677.0</td>\n",
       "      <td>5202.000000</td>\n",
       "    </tr>\n",
       "    <tr>\n",
       "      <th>test</th>\n",
       "      <td>4</td>\n",
       "      <td>5</td>\n",
       "      <td>8</td>\n",
       "      <td>6.500000</td>\n",
       "      <td>19784.0</td>\n",
       "      <td>3233.0</td>\n",
       "      <td>6666.0</td>\n",
       "      <td>4946.000000</td>\n",
       "    </tr>\n",
       "    <tr>\n",
       "      <th>1199.0</th>\n",
       "      <th>test</th>\n",
       "      <td>476</td>\n",
       "      <td>0</td>\n",
       "      <td>14</td>\n",
       "      <td>5.021008</td>\n",
       "      <td>1860618.0</td>\n",
       "      <td>763.0</td>\n",
       "      <td>7118.0</td>\n",
       "      <td>3908.861345</td>\n",
       "    </tr>\n",
       "  </tbody>\n",
       "</table>\n",
       "</div>"
      ],
      "text/plain": [
       "                  months_reg                      sum_pay                   \\\n",
       "                       count min max      mean        sum     min      max   \n",
       "id_point id_group                                                            \n",
       "1178.0   control        2403   0  14  4.407407  7296024.0   101.0   7499.0   \n",
       "         test           2399   0  14  4.325552  7064444.0   100.0   7897.0   \n",
       "1179.0   control        1697   0  14  4.659988  5653234.0   101.0   8228.0   \n",
       "         test           1745   0  14  4.587393  5971088.0   101.0   8228.0   \n",
       "1182.0   control        1012   0  14  5.166996  4085386.0   104.0   9362.0   \n",
       "         test            950   0  14  5.760000  4697873.0   923.0  10141.0   \n",
       "1186.0   control          23   0  13  6.391304   104558.0   326.0   7947.0   \n",
       "         test             40   0  12  4.775000   145536.0   102.0   7751.0   \n",
       "1188.0   control           5   1  12  6.400000    26010.0   112.0   7677.0   \n",
       "         test              4   5   8  6.500000    19784.0  3233.0   6666.0   \n",
       "1199.0   test            476   0  14  5.021008  1860618.0   763.0   7118.0   \n",
       "\n",
       "                                \n",
       "                          mean  \n",
       "id_point id_group               \n",
       "1178.0   control   3036.214732  \n",
       "         test      2944.745311  \n",
       "1179.0   control   3331.310548  \n",
       "         test      3421.826934  \n",
       "1182.0   control   4036.942688  \n",
       "         test      4945.129474  \n",
       "1186.0   control   4546.000000  \n",
       "         test      3638.400000  \n",
       "1188.0   control   5202.000000  \n",
       "         test      4946.000000  \n",
       "1199.0   test      3908.861345  "
      ]
     },
     "execution_count": 88,
     "metadata": {},
     "output_type": "execute_result"
    }
   ],
   "source": [
    "dataset.groupby(['id_point', 'id_group']).agg({'months_reg' : ['count', 'min', 'max', 'mean'], 'sum_pay' : ['sum', 'min', 'max', 'mean']})"
   ]
  },
  {
   "cell_type": "code",
   "execution_count": 89,
   "id": "c3dad2f2",
   "metadata": {
    "ExecuteTime": {
     "end_time": "2022-08-22T14:47:39.692043Z",
     "start_time": "2022-08-22T14:47:39.678043Z"
    }
   },
   "outputs": [],
   "source": [
    "true_points = [1178, 1179, 1182]"
   ]
  },
  {
   "cell_type": "code",
   "execution_count": 90,
   "id": "763e96f6",
   "metadata": {
    "ExecuteTime": {
     "end_time": "2022-08-22T14:47:39.739046Z",
     "start_time": "2022-08-22T14:47:39.697046Z"
    },
    "run_control": {
     "marked": false
    }
   },
   "outputs": [
    {
     "data": {
      "text/html": [
       "<div>\n",
       "<style scoped>\n",
       "    .dataframe tbody tr th:only-of-type {\n",
       "        vertical-align: middle;\n",
       "    }\n",
       "\n",
       "    .dataframe tbody tr th {\n",
       "        vertical-align: top;\n",
       "    }\n",
       "\n",
       "    .dataframe thead tr th {\n",
       "        text-align: left;\n",
       "    }\n",
       "\n",
       "    .dataframe thead tr:last-of-type th {\n",
       "        text-align: right;\n",
       "    }\n",
       "</style>\n",
       "<table border=\"1\" class=\"dataframe\">\n",
       "  <thead>\n",
       "    <tr>\n",
       "      <th></th>\n",
       "      <th></th>\n",
       "      <th colspan=\"4\" halign=\"left\">months_reg</th>\n",
       "      <th colspan=\"4\" halign=\"left\">sum_pay</th>\n",
       "    </tr>\n",
       "    <tr>\n",
       "      <th></th>\n",
       "      <th></th>\n",
       "      <th>count</th>\n",
       "      <th>min</th>\n",
       "      <th>max</th>\n",
       "      <th>mean</th>\n",
       "      <th>sum</th>\n",
       "      <th>min</th>\n",
       "      <th>max</th>\n",
       "      <th>mean</th>\n",
       "    </tr>\n",
       "    <tr>\n",
       "      <th>id_point</th>\n",
       "      <th>id_group</th>\n",
       "      <th></th>\n",
       "      <th></th>\n",
       "      <th></th>\n",
       "      <th></th>\n",
       "      <th></th>\n",
       "      <th></th>\n",
       "      <th></th>\n",
       "      <th></th>\n",
       "    </tr>\n",
       "  </thead>\n",
       "  <tbody>\n",
       "    <tr>\n",
       "      <th rowspan=\"2\" valign=\"top\">1178.0</th>\n",
       "      <th>control</th>\n",
       "      <td>2403</td>\n",
       "      <td>0</td>\n",
       "      <td>14</td>\n",
       "      <td>4.407407</td>\n",
       "      <td>7296024.0</td>\n",
       "      <td>101.0</td>\n",
       "      <td>7499.0</td>\n",
       "      <td>3036.214732</td>\n",
       "    </tr>\n",
       "    <tr>\n",
       "      <th>test</th>\n",
       "      <td>2399</td>\n",
       "      <td>0</td>\n",
       "      <td>14</td>\n",
       "      <td>4.325552</td>\n",
       "      <td>7064444.0</td>\n",
       "      <td>100.0</td>\n",
       "      <td>7897.0</td>\n",
       "      <td>2944.745311</td>\n",
       "    </tr>\n",
       "    <tr>\n",
       "      <th rowspan=\"2\" valign=\"top\">1179.0</th>\n",
       "      <th>control</th>\n",
       "      <td>1697</td>\n",
       "      <td>0</td>\n",
       "      <td>14</td>\n",
       "      <td>4.659988</td>\n",
       "      <td>5653234.0</td>\n",
       "      <td>101.0</td>\n",
       "      <td>8228.0</td>\n",
       "      <td>3331.310548</td>\n",
       "    </tr>\n",
       "    <tr>\n",
       "      <th>test</th>\n",
       "      <td>1745</td>\n",
       "      <td>0</td>\n",
       "      <td>14</td>\n",
       "      <td>4.587393</td>\n",
       "      <td>5971088.0</td>\n",
       "      <td>101.0</td>\n",
       "      <td>8228.0</td>\n",
       "      <td>3421.826934</td>\n",
       "    </tr>\n",
       "    <tr>\n",
       "      <th rowspan=\"2\" valign=\"top\">1182.0</th>\n",
       "      <th>control</th>\n",
       "      <td>1012</td>\n",
       "      <td>0</td>\n",
       "      <td>14</td>\n",
       "      <td>5.166996</td>\n",
       "      <td>4085386.0</td>\n",
       "      <td>104.0</td>\n",
       "      <td>9362.0</td>\n",
       "      <td>4036.942688</td>\n",
       "    </tr>\n",
       "    <tr>\n",
       "      <th>test</th>\n",
       "      <td>950</td>\n",
       "      <td>0</td>\n",
       "      <td>14</td>\n",
       "      <td>5.760000</td>\n",
       "      <td>4697873.0</td>\n",
       "      <td>923.0</td>\n",
       "      <td>10141.0</td>\n",
       "      <td>4945.129474</td>\n",
       "    </tr>\n",
       "  </tbody>\n",
       "</table>\n",
       "</div>"
      ],
      "text/plain": [
       "                  months_reg                      sum_pay                  \\\n",
       "                       count min max      mean        sum    min      max   \n",
       "id_point id_group                                                           \n",
       "1178.0   control        2403   0  14  4.407407  7296024.0  101.0   7499.0   \n",
       "         test           2399   0  14  4.325552  7064444.0  100.0   7897.0   \n",
       "1179.0   control        1697   0  14  4.659988  5653234.0  101.0   8228.0   \n",
       "         test           1745   0  14  4.587393  5971088.0  101.0   8228.0   \n",
       "1182.0   control        1012   0  14  5.166996  4085386.0  104.0   9362.0   \n",
       "         test            950   0  14  5.760000  4697873.0  923.0  10141.0   \n",
       "\n",
       "                                \n",
       "                          mean  \n",
       "id_point id_group               \n",
       "1178.0   control   3036.214732  \n",
       "         test      2944.745311  \n",
       "1179.0   control   3331.310548  \n",
       "         test      3421.826934  \n",
       "1182.0   control   4036.942688  \n",
       "         test      4945.129474  "
      ]
     },
     "execution_count": 90,
     "metadata": {},
     "output_type": "execute_result"
    }
   ],
   "source": [
    "dataset[dataset['id_point'].isin(true_points)].groupby(['id_point', 'id_group']).agg({'months_reg' : ['count', 'min', 'max', 'mean'], 'sum_pay' : ['sum', 'min', 'max', 'mean']})"
   ]
  },
  {
   "cell_type": "code",
   "execution_count": 91,
   "id": "2d169c49",
   "metadata": {
    "ExecuteTime": {
     "end_time": "2022-08-22T14:47:39.755047Z",
     "start_time": "2022-08-22T14:47:39.741048Z"
    },
    "run_control": {
     "marked": false
    }
   },
   "outputs": [],
   "source": [
    "dataset = dataset[dataset['id_point'].isin(true_points)]"
   ]
  },
  {
   "cell_type": "code",
   "execution_count": 92,
   "id": "c3eb0a50",
   "metadata": {
    "ExecuteTime": {
     "end_time": "2022-08-22T14:47:39.771050Z",
     "start_time": "2022-08-22T14:47:39.757050Z"
    },
    "run_control": {
     "marked": false
    }
   },
   "outputs": [],
   "source": [
    "dataset_control = list(dataset.loc[dataset['id_group'] == 'control']['sum_pay'])\n",
    "dataset_test = list(dataset.loc[dataset['id_group'] == 'test']['sum_pay'])"
   ]
  },
  {
   "cell_type": "code",
   "execution_count": 93,
   "id": "8a27208f",
   "metadata": {
    "ExecuteTime": {
     "end_time": "2022-08-22T14:47:39.787051Z",
     "start_time": "2022-08-22T14:47:39.774051Z"
    }
   },
   "outputs": [],
   "source": [
    "# dataset.profile_report()"
   ]
  },
  {
   "cell_type": "markdown",
   "id": "da1bb21a",
   "metadata": {},
   "source": [
    "# Часть 1. Создание статистических функций"
   ]
  },
  {
   "cell_type": "markdown",
   "id": "7e1a0d25",
   "metadata": {},
   "source": [
    "### Задача 1\n",
    "\n",
    "Постройте в Python функцию **statistical_analysis**, которая будет проводить анализ выборки."
   ]
  },
  {
   "cell_type": "code",
   "execution_count": 94,
   "id": "27e6a0c5",
   "metadata": {
    "ExecuteTime": {
     "end_time": "2022-08-22T14:47:39.803052Z",
     "start_time": "2022-08-22T14:47:39.789052Z"
    },
    "run_control": {
     "marked": false
    }
   },
   "outputs": [],
   "source": [
    "iq = [0.1,0.25,0.3,0.4,0.5,0.6,0.75,0.9]\n",
    "\n",
    "iq_names = ['1ый дециль (10%) ........ >>>',\n",
    "            '1ый квартиль (25%) ...... >>>',\n",
    "            '3ий дециль (30%) ........ >>>',\n",
    "            '4ый дециль (40%) ........ >>>',\n",
    "            'Медиана (50%) ........... >>>',\n",
    "            '6ой дециль (60%) ........ >>>',\n",
    "            '3ий квартиль (75%) ...... >>>',\n",
    "            '9ый дециль (90%) ........ >>>']\n",
    "\n",
    "st_names = ['Среднее значение ........ >>>',\n",
    "            'Дисперсия ............... >>>',\n",
    "            'Стандартное отклонение .. >>>']\n",
    "\n",
    "dct = dict()\n",
    "dct['types'] = [list, tuple]\n",
    "dct['length'] = 4\n",
    "dct['numeric'] = [int, float]"
   ]
  },
  {
   "cell_type": "code",
   "execution_count": 95,
   "id": "943dd0db",
   "metadata": {
    "ExecuteTime": {
     "end_time": "2022-08-22T14:47:39.818667Z",
     "start_time": "2022-08-22T14:47:39.805052Z"
    },
    "run_control": {
     "marked": false
    }
   },
   "outputs": [],
   "source": [
    "def statistical_analysis(r, q=iq):\n",
    "    \n",
    "    if type(r) not in dct['types']:\n",
    "        return print(\"Нужен список или кортеж!\")\n",
    "    if len(r) <= dct['length']:\n",
    "        return print(\"Требуется более длинный ряд!\")\n",
    "    for each in range(len(r)):\n",
    "        if type(r[each]) not in dct['numeric']:\n",
    "            return print('Ты должен был бороться со злом, а не примкнуть к нему!')\n",
    "    \n",
    "    r = pd.Series(r)\n",
    "    rmean = r.mean()\n",
    "    print(f'{st_names[0]} {round(rmean,4)}')\n",
    "    rvar = r.var()\n",
    "    print(f'{st_names[1]} {round(rvar,4)}')\n",
    "    rstd = r.std()\n",
    "    print(f'{st_names[2]} {round(rstd,4)}')\n",
    "    qs = np.quantile(r, q)\n",
    "    print()\n",
    "    \n",
    "    for i in range(8):\n",
    "        print(f'{iq_names[i]} {round(qs[i],4)}')\n",
    "    \n",
    "    plt.figure(figsize=fs)\n",
    "    plt.title(f'<<< ГИСТОГРАММА >>>\\n')\n",
    "    sns.histplot(x = r, \n",
    "                 bins = 8, \n",
    "                 shrink=.85,\n",
    "                 binrange=[0, round(r.max(), -len(str(int(r.max())))+1)])\n",
    "    plt.show()\n",
    "    return {'avg.' : rmean, 'var.' : rvar, 'std.' : rstd, 'Q.' : list(qs)}"
   ]
  },
  {
   "cell_type": "markdown",
   "id": "3abae85a",
   "metadata": {},
   "source": [
    "### Задача 2\n",
    "\n",
    "Постройте в Python функцию ***test_calc***, которая будет проводить t-тест на равенство средних двух выборок."
   ]
  },
  {
   "cell_type": "code",
   "execution_count": 96,
   "id": "05fda32c",
   "metadata": {
    "ExecuteTime": {
     "end_time": "2022-08-22T14:47:39.834668Z",
     "start_time": "2022-08-22T14:47:39.823669Z"
    },
    "run_control": {
     "marked": false
    }
   },
   "outputs": [],
   "source": [
    "def test_calc(r1, r2, alpha = 0.05):\n",
    "\n",
    "    s, p = st.ttest_ind(r1, r2)\n",
    "\n",
    "    print('|----------- РЕЗУЛЬТАТЫ Т-ТЕСТА -----------|')\n",
    "    \n",
    "    if p < alpha:\n",
    "        print(f'|>>> Распределения не равны                |\\n|>>> p_value {p:9.6f} меньше alpha {alpha}   |')\n",
    "    else:\n",
    "        print(f'|>>> Распределения равны                   |\\n|>>> p_value {p:9.6f} больше alpha {alpha}   |')\n",
    "    \n",
    "    print(f'|>>> mean r1 {pd.Series(r1).mean():12.6f}                  |')\n",
    "    print(f'|>>> mean r2 {pd.Series(r2).mean():12.6f}                  |')\n",
    "    print(f'|>>> mean dif r2-r1 {pd.Series(r2).mean()-pd.Series(r1).mean():12.6f}           |')\n",
    "    print('|------------------------------------------|')\n",
    "\n",
    "    return s, p"
   ]
  },
  {
   "cell_type": "markdown",
   "id": "a26ea4d6",
   "metadata": {},
   "source": [
    "### Задача 3\n",
    "\n",
    "Постройте в Python функцию **mann_whitney_func**, которая будет проводить тест Манна-Уитни для двух выборок."
   ]
  },
  {
   "cell_type": "code",
   "execution_count": 97,
   "id": "7abb780b",
   "metadata": {
    "ExecuteTime": {
     "end_time": "2022-08-22T14:47:39.850675Z",
     "start_time": "2022-08-22T14:47:39.837671Z"
    },
    "run_control": {
     "marked": false
    }
   },
   "outputs": [],
   "source": [
    "def mann_whitney_func(r1, r2, alpha = 0.05):\n",
    "    \n",
    "    s, p = st.mannwhitneyu(r1, r2)\n",
    "    \n",
    "    print('|------ РЕЗУЛЬТАТЫ ТЕСТА МАННА-УИТНИ ------|')  \n",
    "    \n",
    "    if p < alpha:\n",
    "        print(f'|>>> Распределения не равны                |\\n|>>> p_value {p:9.6f} меньше alpha {alpha}   |')\n",
    "    else:\n",
    "        print(f'|>>> Распределения равны                   |\\n|>>> p_value {p:9.6f} больше alpha {alpha}   |')\n",
    "\n",
    "    print('|------------------------------------------|')\n",
    "\n",
    "    return s, p"
   ]
  },
  {
   "cell_type": "markdown",
   "id": "06c244d4",
   "metadata": {},
   "source": [
    "# Часть 2. Расчет A/B теста"
   ]
  },
  {
   "cell_type": "markdown",
   "id": "80e8af58",
   "metadata": {},
   "source": [
    "### Задача 1\n",
    "\n",
    "**Общий анализ A/B Теста**"
   ]
  },
  {
   "cell_type": "code",
   "execution_count": 98,
   "id": "a44ff473",
   "metadata": {
    "ExecuteTime": {
     "end_time": "2022-08-22T14:47:39.881686Z",
     "start_time": "2022-08-22T14:47:39.854677Z"
    },
    "run_control": {
     "marked": false
    }
   },
   "outputs": [],
   "source": [
    "def show_hist(r1, r2, graph_title = '', xlabel = 'Размер платежа', ylabel = 'Кол-во людей'):\n",
    "    \n",
    "    for r in r1, r2:\n",
    "        if type(r) not in dct['types']:\n",
    "            return print(\"Нужен список или кортеж!\")\n",
    "        if len(r) <= dct['length']:\n",
    "            return print(\"Требуется более длинный ряд!\")  \n",
    "        for each in range(len(r)):\n",
    "            if type(r[each]) not in dct['numeric']:\n",
    "                return print('Ты должен был бороться со злом, а не примкнуть к нему!')\n",
    "    \n",
    "    import re\n",
    "    import traceback\n",
    "    \n",
    "    stack = traceback.extract_stack()\n",
    "    arg_name = re.sub('show_hist\\((.*)\\)', '\\g<1>', stack[-2][-1])\n",
    "    arg_list = arg_name.split(',')\n",
    "    \n",
    "    plt.figure(figsize=fs)\n",
    "    plt.title(graph_title)\n",
    "    plt.xlabel(xlabel)\n",
    "    plt.ylabel(ylabel)\n",
    "    sns.histplot(r1, color='r', alpha=0.65, binwidth=200, binrange=[0,11000], label = arg_list[0].strip())\n",
    "    sns.histplot(r2, color='g', alpha=0.35, binwidth=200, binrange=[0,11000], label = arg_list[1].strip())\n",
    "    plt.axvline(pd.Series(r1).mean(), color='r', linestyle='--', linewidth=2, label = 'среднее '+arg_list[0].strip())\n",
    "    plt.axvline(pd.Series(r2).mean(), color='g', linestyle='--', linewidth=2, label = 'среднее '+arg_list[1].strip())\n",
    "    plt.legend()\n",
    "    plt.show()"
   ]
  },
  {
   "cell_type": "code",
   "execution_count": 99,
   "id": "57652707",
   "metadata": {
    "ExecuteTime": {
     "end_time": "2022-08-22T14:47:40.379097Z",
     "start_time": "2022-08-22T14:47:39.884687Z"
    },
    "run_control": {
     "marked": false
    },
    "scrolled": false
   },
   "outputs": [
    {
     "data": {
      "image/png": "[encoded data removed]",
      "text/plain": [
       "<Figure size 1008x504 with 1 Axes>"
      ]
     },
     "metadata": {
      "needs_background": "light"
     },
     "output_type": "display_data"
    }
   ],
   "source": [
    "show_hist(dataset_control, dataset_test)"
   ]
  },
  {
   "cell_type": "code",
   "execution_count": 100,
   "id": "cb3b36f2",
   "metadata": {
    "ExecuteTime": {
     "end_time": "2022-08-22T14:47:40.394904Z",
     "start_time": "2022-08-22T14:47:40.381903Z"
    },
    "run_control": {
     "marked": false
    }
   },
   "outputs": [
    {
     "name": "stdout",
     "output_type": "stream",
     "text": [
      "|----------- РЕЗУЛЬТАТЫ Т-ТЕСТА -----------|\n",
      "|>>> Распределения не равны                |\n",
      "|>>> p_value  0.002373 меньше alpha 0.05   |\n",
      "|>>> mean r1  3332.285603                  |\n",
      "|>>> mean r2  3481.233804                  |\n",
      "|>>> mean dif r2-r1   148.948202           |\n",
      "|------------------------------------------|\n"
     ]
    },
    {
     "data": {
      "text/plain": [
       "(-3.0398657636101745, 0.0023728338366294857)"
      ]
     },
     "execution_count": 100,
     "metadata": {},
     "output_type": "execute_result"
    }
   ],
   "source": [
    "test_calc(dataset_control, dataset_test)"
   ]
  },
  {
   "cell_type": "code",
   "execution_count": 101,
   "id": "6ac4ce58",
   "metadata": {
    "ExecuteTime": {
     "end_time": "2022-08-22T14:47:40.426904Z",
     "start_time": "2022-08-22T14:47:40.396903Z"
    },
    "run_control": {
     "marked": false
    }
   },
   "outputs": [
    {
     "name": "stdout",
     "output_type": "stream",
     "text": [
      "|------ РЕЗУЛЬТАТЫ ТЕСТА МАННА-УИТНИ ------|\n",
      "|>>> Распределения равны                   |\n",
      "|>>> p_value  0.453824 больше alpha 0.05   |\n",
      "|------------------------------------------|\n"
     ]
    },
    {
     "data": {
      "text/plain": [
       "(12908783.5, 0.4538241173731298)"
      ]
     },
     "execution_count": 101,
     "metadata": {},
     "output_type": "execute_result"
    }
   ],
   "source": [
    "mann_whitney_func(dataset_control, dataset_test)"
   ]
  },
  {
   "cell_type": "markdown",
   "id": "992a599d",
   "metadata": {},
   "source": [
    "### Задача 2\n",
    "\n",
    "**Анализ по торговым точкам**"
   ]
  },
  {
   "cell_type": "code",
   "execution_count": 102,
   "id": "736238e9",
   "metadata": {
    "ExecuteTime": {
     "end_time": "2022-08-22T14:47:40.442907Z",
     "start_time": "2022-08-22T14:47:40.428906Z"
    },
    "run_control": {
     "marked": false
    }
   },
   "outputs": [
    {
     "data": {
      "text/html": [
       "<div>\n",
       "<style scoped>\n",
       "    .dataframe tbody tr th:only-of-type {\n",
       "        vertical-align: middle;\n",
       "    }\n",
       "\n",
       "    .dataframe tbody tr th {\n",
       "        vertical-align: top;\n",
       "    }\n",
       "\n",
       "    .dataframe thead th {\n",
       "        text-align: right;\n",
       "    }\n",
       "</style>\n",
       "<table border=\"1\" class=\"dataframe\">\n",
       "  <thead>\n",
       "    <tr style=\"text-align: right;\">\n",
       "      <th></th>\n",
       "      <th>id_client</th>\n",
       "      <th>id_group</th>\n",
       "      <th>sum_pay</th>\n",
       "      <th>id_point</th>\n",
       "      <th>months_reg</th>\n",
       "      <th>cost_group</th>\n",
       "    </tr>\n",
       "  </thead>\n",
       "  <tbody>\n",
       "    <tr>\n",
       "      <th>1</th>\n",
       "      <td>1390221</td>\n",
       "      <td>control</td>\n",
       "      <td>1267.0</td>\n",
       "      <td>1182.0</td>\n",
       "      <td>11</td>\n",
       "      <td>1000</td>\n",
       "    </tr>\n",
       "    <tr>\n",
       "      <th>2</th>\n",
       "      <td>1363404</td>\n",
       "      <td>control</td>\n",
       "      <td>4259.0</td>\n",
       "      <td>1178.0</td>\n",
       "      <td>2</td>\n",
       "      <td>1000</td>\n",
       "    </tr>\n",
       "  </tbody>\n",
       "</table>\n",
       "</div>"
      ],
      "text/plain": [
       "   id_client id_group  sum_pay  id_point  months_reg  cost_group\n",
       "1    1390221  control   1267.0    1182.0          11        1000\n",
       "2    1363404  control   4259.0    1178.0           2        1000"
      ]
     },
     "execution_count": 102,
     "metadata": {},
     "output_type": "execute_result"
    }
   ],
   "source": [
    "dataset.head(2)"
   ]
  },
  {
   "cell_type": "code",
   "execution_count": 103,
   "id": "4749988b",
   "metadata": {
    "ExecuteTime": {
     "end_time": "2022-08-22T14:47:40.458907Z",
     "start_time": "2022-08-22T14:47:40.444907Z"
    },
    "run_control": {
     "marked": false
    }
   },
   "outputs": [],
   "source": [
    "groups = list(dataset.id_group.sort_values().unique())\n",
    "points = list(dataset.id_point.sort_values().unique())"
   ]
  },
  {
   "cell_type": "code",
   "execution_count": 104,
   "id": "7e7823b5",
   "metadata": {
    "ExecuteTime": {
     "end_time": "2022-08-22T14:47:40.490513Z",
     "start_time": "2022-08-22T14:47:40.460909Z"
    },
    "run_control": {
     "marked": false
    }
   },
   "outputs": [],
   "source": [
    "points_dataset = dict()\n",
    "\n",
    "for p_each in points:\n",
    "    for g_each in groups:\n",
    "        key = '_'.join([g_each, str(p_each)])\n",
    "        value = list(dataset.loc[(dataset['id_point'] == p_each) & (dataset['id_group'] == g_each)]['sum_pay'])\n",
    "        points_dataset[key] = value"
   ]
  },
  {
   "cell_type": "code",
   "execution_count": 105,
   "id": "2e66ac85",
   "metadata": {
    "ExecuteTime": {
     "end_time": "2022-08-22T14:47:40.506518Z",
     "start_time": "2022-08-22T14:47:40.492515Z"
    },
    "run_control": {
     "marked": false
    }
   },
   "outputs": [
    {
     "data": {
      "text/plain": [
       "['control_1178.0',\n",
       " 'test_1178.0',\n",
       " 'control_1179.0',\n",
       " 'test_1179.0',\n",
       " 'control_1182.0',\n",
       " 'test_1182.0']"
      ]
     },
     "execution_count": 105,
     "metadata": {},
     "output_type": "execute_result"
    }
   ],
   "source": [
    "keys = list(points_dataset.keys())\n",
    "keys"
   ]
  },
  {
   "cell_type": "code",
   "execution_count": 106,
   "id": "5822d320",
   "metadata": {
    "ExecuteTime": {
     "end_time": "2022-08-22T14:47:41.827960Z",
     "start_time": "2022-08-22T14:47:40.508516Z"
    },
    "run_control": {
     "marked": false
    },
    "scrolled": false
   },
   "outputs": [
    {
     "name": "stdout",
     "output_type": "stream",
     "text": [
      "*****************************************************************************************************************************\n",
      "Для торговой точки №1178\n"
     ]
    },
    {
     "data": {
      "image/png": "[encoded data removed]",
      "text/plain": [
       "<Figure size 1008x504 with 1 Axes>"
      ]
     },
     "metadata": {
      "needs_background": "light"
     },
     "output_type": "display_data"
    },
    {
     "name": "stdout",
     "output_type": "stream",
     "text": [
      "|----------- РЕЗУЛЬТАТЫ Т-ТЕСТА -----------|\n",
      "|>>> Распределения равны                   |\n",
      "|>>> p_value  0.160065 больше alpha 0.05   |\n",
      "|>>> mean r1  3036.214732                  |\n",
      "|>>> mean r2  2944.745311                  |\n",
      "|>>> mean dif r2-r1   -91.469421           |\n",
      "|------------------------------------------|\n",
      "|------ РЕЗУЛЬТАТЫ ТЕСТА МАННА-УИТНИ ------|\n",
      "|>>> Распределения не равны                |\n",
      "|>>> p_value  0.000003 меньше alpha 0.05   |\n",
      "|------------------------------------------|\n",
      "\n",
      "\n",
      "*****************************************************************************************************************************\n",
      "Для торговой точки №1179\n"
     ]
    },
    {
     "data": {
      "image/png": "[encoded data removed]",
      "text/plain": [
       "<Figure size 1008x504 with 1 Axes>"
      ]
     },
     "metadata": {
      "needs_background": "light"
     },
     "output_type": "display_data"
    },
    {
     "name": "stdout",
     "output_type": "stream",
     "text": [
      "|----------- РЕЗУЛЬТАТЫ Т-ТЕСТА -----------|\n",
      "|>>> Распределения равны                   |\n",
      "|>>> p_value  0.261704 больше alpha 0.05   |\n",
      "|>>> mean r1  3331.310548                  |\n",
      "|>>> mean r2  3421.826934                  |\n",
      "|>>> mean dif r2-r1    90.516386           |\n",
      "|------------------------------------------|\n",
      "|------ РЕЗУЛЬТАТЫ ТЕСТА МАННА-УИТНИ ------|\n",
      "|>>> Распределения равны                   |\n",
      "|>>> p_value  0.258076 больше alpha 0.05   |\n",
      "|------------------------------------------|\n",
      "\n",
      "\n",
      "*****************************************************************************************************************************\n",
      "Для торговой точки №1182\n"
     ]
    },
    {
     "data": {
      "image/png": "[encoded data removed]",
      "text/plain": [
       "<Figure size 1008x504 with 1 Axes>"
      ]
     },
     "metadata": {
      "needs_background": "light"
     },
     "output_type": "display_data"
    },
    {
     "name": "stdout",
     "output_type": "stream",
     "text": [
      "|----------- РЕЗУЛЬТАТЫ Т-ТЕСТА -----------|\n",
      "|>>> Распределения не равны                |\n",
      "|>>> p_value  0.000000 меньше alpha 0.05   |\n",
      "|>>> mean r1  4036.942688                  |\n",
      "|>>> mean r2  4945.129474                  |\n",
      "|>>> mean dif r2-r1   908.186786           |\n",
      "|------------------------------------------|\n",
      "|------ РЕЗУЛЬТАТЫ ТЕСТА МАННА-УИТНИ ------|\n",
      "|>>> Распределения не равны                |\n",
      "|>>> p_value  0.000000 меньше alpha 0.05   |\n",
      "|------------------------------------------|\n",
      "\n",
      "\n"
     ]
    }
   ],
   "source": [
    "for i in range(0,len(keys),2):\n",
    "    print(125*\"*\")\n",
    "    print(f'Для торговой точки №{str(keys[i].split(\".\")[0]).split(\"_\")[1]}')\n",
    "    ds_control = points_dataset[keys[i:i+2][0]]\n",
    "    ds_test = points_dataset[keys[i:i+2][1]]\n",
    "    show_hist(ds_control,ds_test)\n",
    "    test_calc(ds_control,ds_test)\n",
    "    mann_whitney_func(ds_control,ds_test)\n",
    "    print(f'\\n')"
   ]
  },
  {
   "cell_type": "markdown",
   "id": "06bb27c0",
   "metadata": {},
   "source": [
    "# Часть 3. Сегментация и презентация"
   ]
  },
  {
   "cell_type": "markdown",
   "id": "4b82395e",
   "metadata": {},
   "source": [
    "### Задача 1\n",
    "\n",
    "**Сегментация по длительности регистрации**"
   ]
  },
  {
   "cell_type": "markdown",
   "id": "25f373b0",
   "metadata": {},
   "source": [
    "#### Определяем необходимые функции:\n",
    "****\n",
    "<li> <b>tolist</b> -- создание листа со словарями для расчёта корреляций</li>\n",
    "<li> <b>power</b> -- расчёт силы корреляции</li>\n",
    "<li> <b>proxi_ranges</b> -- расчёт корреляции и печати результатов</li>"
   ]
  },
  {
   "cell_type": "code",
   "execution_count": 107,
   "id": "a20c7332",
   "metadata": {
    "ExecuteTime": {
     "end_time": "2022-08-22T14:47:41.843962Z",
     "start_time": "2022-08-22T14:47:41.829961Z"
    },
    "run_control": {
     "marked": false
    }
   },
   "outputs": [],
   "source": [
    "statdictP = dict()\n",
    "statdictS = dict()\n",
    "sd = list()\n",
    "def tolist(x, y):\n",
    "    '''x - data iterable array, \n",
    "    y - data iterable array'''\n",
    "    ps, pv = st.pearsonr(x, y)\n",
    "    pear = [ps, pv]\n",
    "    ss, sv = st.spearmanr(x, y)\n",
    "    spea = [ss, sv]\n",
    "    statdictP['name'] = 'Пирсон'\n",
    "    statdictP['data'] = pear\n",
    "    statdictP['level'] = [0.3, 0.7]\n",
    "    statdictP['alpha'] = 0.05\n",
    "    statdictS['name'] = 'Спирман'\n",
    "    statdictS['data'] = spea\n",
    "    statdictS['level'] = [0.3, 0.7]\n",
    "    statdictS['alpha'] = 0.05\n",
    "    sd = [statdictP, statdictS]\n",
    "    return sd"
   ]
  },
  {
   "cell_type": "code",
   "execution_count": 108,
   "id": "582cfb44",
   "metadata": {
    "ExecuteTime": {
     "end_time": "2022-08-22T14:47:41.859961Z",
     "start_time": "2022-08-22T14:47:41.849962Z"
    },
    "run_control": {
     "marked": false
    }
   },
   "outputs": [],
   "source": [
    "def power(lst):\n",
    "    '''lst - list'''\n",
    "    for i in range(len(lst)):\n",
    "        if lst[i]['data'][1] < lst[i]['alpha']:\n",
    "            nm = lst[i]['name']\n",
    "            if abs(lst[i]['data'][0]) < lst[i]['level'][0]:\n",
    "                pwr = 'слабая'\n",
    "            elif abs(lst[i]['data'][0]) < lst[i]['level'][1]:\n",
    "                pwr = 'средняя'\n",
    "            else:\n",
    "                pwr = 'сильная'\n",
    "            print(f'Корреляция {nm}а: {pwr}')\n",
    "        else:\n",
    "            print(f'Корреляция {nm}а равна нулю')"
   ]
  },
  {
   "cell_type": "code",
   "execution_count": 109,
   "id": "1bf76a21",
   "metadata": {
    "ExecuteTime": {
     "end_time": "2022-08-22T14:47:41.875962Z",
     "start_time": "2022-08-22T14:47:41.861962Z"
    },
    "run_control": {
     "marked": false
    }
   },
   "outputs": [],
   "source": [
    "def proxi_ranges(r1, r2, alpha = 0.05):\n",
    "    '''r1 - data iterable array,\n",
    "    r2 - data iterable array'''\n",
    "    cov = np.cov(r1, r2)\n",
    "    print('Ковариация: {:10.2f}'.format(cov[0][1]))\n",
    "    print()\n",
    "    print('Дисперсия для метрики 1: {:10.2f}'.format(cov[0][0]))\n",
    "    print('Дисперсия для метрики 2: {:10.2f}'.format(cov[1][1]))\n",
    "    print()\n",
    "    power(tolist(r1, r2))"
   ]
  },
  {
   "cell_type": "markdown",
   "id": "a1feb8e8",
   "metadata": {},
   "source": [
    "#### Готовим данные для анализа "
   ]
  },
  {
   "cell_type": "code",
   "execution_count": 110,
   "id": "2be44580",
   "metadata": {
    "ExecuteTime": {
     "end_time": "2022-08-22T14:47:41.891964Z",
     "start_time": "2022-08-22T14:47:41.878965Z"
    },
    "run_control": {
     "marked": false
    }
   },
   "outputs": [
    {
     "data": {
      "text/html": [
       "<div>\n",
       "<style scoped>\n",
       "    .dataframe tbody tr th:only-of-type {\n",
       "        vertical-align: middle;\n",
       "    }\n",
       "\n",
       "    .dataframe tbody tr th {\n",
       "        vertical-align: top;\n",
       "    }\n",
       "\n",
       "    .dataframe thead th {\n",
       "        text-align: right;\n",
       "    }\n",
       "</style>\n",
       "<table border=\"1\" class=\"dataframe\">\n",
       "  <thead>\n",
       "    <tr style=\"text-align: right;\">\n",
       "      <th></th>\n",
       "      <th>id_client</th>\n",
       "      <th>id_group</th>\n",
       "      <th>sum_pay</th>\n",
       "      <th>id_point</th>\n",
       "      <th>months_reg</th>\n",
       "      <th>cost_group</th>\n",
       "    </tr>\n",
       "  </thead>\n",
       "  <tbody>\n",
       "    <tr>\n",
       "      <th>1</th>\n",
       "      <td>1390221</td>\n",
       "      <td>control</td>\n",
       "      <td>1267.0</td>\n",
       "      <td>1182.0</td>\n",
       "      <td>11</td>\n",
       "      <td>1000</td>\n",
       "    </tr>\n",
       "    <tr>\n",
       "      <th>2</th>\n",
       "      <td>1363404</td>\n",
       "      <td>control</td>\n",
       "      <td>4259.0</td>\n",
       "      <td>1178.0</td>\n",
       "      <td>2</td>\n",
       "      <td>1000</td>\n",
       "    </tr>\n",
       "  </tbody>\n",
       "</table>\n",
       "</div>"
      ],
      "text/plain": [
       "   id_client id_group  sum_pay  id_point  months_reg  cost_group\n",
       "1    1390221  control   1267.0    1182.0          11        1000\n",
       "2    1363404  control   4259.0    1178.0           2        1000"
      ]
     },
     "execution_count": 110,
     "metadata": {},
     "output_type": "execute_result"
    }
   ],
   "source": [
    "dataset.head(2)"
   ]
  },
  {
   "cell_type": "code",
   "execution_count": 111,
   "id": "6ab0509a",
   "metadata": {
    "ExecuteTime": {
     "end_time": "2022-08-22T14:47:41.907965Z",
     "start_time": "2022-08-22T14:47:41.893966Z"
    },
    "run_control": {
     "marked": false
    }
   },
   "outputs": [],
   "source": [
    "A = dataset['sum_pay']\n",
    "B = dataset['months_reg']"
   ]
  },
  {
   "cell_type": "code",
   "execution_count": 112,
   "id": "5dcb999f",
   "metadata": {
    "ExecuteTime": {
     "end_time": "2022-08-22T14:47:41.938966Z",
     "start_time": "2022-08-22T14:47:41.910967Z"
    },
    "run_control": {
     "marked": false
    }
   },
   "outputs": [
    {
     "name": "stdout",
     "output_type": "stream",
     "text": [
      "Ковариация:    4769.92\n",
      "\n",
      "Дисперсия для метрики 1: 6130649.69\n",
      "Дисперсия для метрики 2:      10.13\n",
      "\n",
      "Корреляция Пирсона: средняя\n",
      "Корреляция Спирмана: средняя\n"
     ]
    }
   ],
   "source": [
    "proxi_ranges(A,B)"
   ]
  },
  {
   "cell_type": "code",
   "execution_count": 113,
   "id": "d0421b6d",
   "metadata": {
    "ExecuteTime": {
     "end_time": "2022-08-22T14:47:42.129080Z",
     "start_time": "2022-08-22T14:47:41.940969Z"
    },
    "run_control": {
     "marked": false
    },
    "scrolled": false
   },
   "outputs": [
    {
     "data": {
      "image/png": "[encoded data removed]",
      "text/plain": [
       "<Figure size 1008x504 with 1 Axes>"
      ]
     },
     "metadata": {
      "needs_background": "light"
     },
     "output_type": "display_data"
    }
   ],
   "source": [
    "plt.figure(figsize=fs)\n",
    "plt.title('Связь метрик')\n",
    "sns.scatterplot(x = A,\n",
    "                y = B)\n",
    "plt.show()"
   ]
  },
  {
   "cell_type": "code",
   "execution_count": 114,
   "id": "e4c5253f",
   "metadata": {
    "ExecuteTime": {
     "end_time": "2022-08-22T14:47:42.590272Z",
     "start_time": "2022-08-22T14:47:42.133082Z"
    },
    "run_control": {
     "marked": false
    }
   },
   "outputs": [
    {
     "data": {
      "image/png": "[encoded data removed]",
      "text/plain": [
       "<Figure size 1008x504 with 1 Axes>"
      ]
     },
     "metadata": {
      "needs_background": "light"
     },
     "output_type": "display_data"
    }
   ],
   "source": [
    "plt.figure(figsize=fs)\n",
    "plt.title('Связь метрик')\n",
    "sns.boxplot(x = B, y = A)\n",
    "plt.grid(axis='y')\n",
    "plt.show()"
   ]
  },
  {
   "cell_type": "markdown",
   "id": "e89599b3",
   "metadata": {
    "run_control": {
     "marked": false
    }
   },
   "source": [
    "---"
   ]
  },
  {
   "cell_type": "code",
   "execution_count": 115,
   "id": "aac5128e",
   "metadata": {
    "ExecuteTime": {
     "end_time": "2022-08-22T14:47:46.741035Z",
     "start_time": "2022-08-22T14:47:42.593274Z"
    },
    "run_control": {
     "marked": false
    },
    "scrolled": false
   },
   "outputs": [
    {
     "data": {
      "image/png": "[encoded data removed]",
      "text/plain": [
       "<Figure size 1008x504 with 1 Axes>"
      ]
     },
     "metadata": {
      "needs_background": "light"
     },
     "output_type": "display_data"
    },
    {
     "data": {
      "image/png": "[encoded data removed]",
      "text/plain": [
       "<Figure size 1008x504 with 1 Axes>"
      ]
     },
     "metadata": {
      "needs_background": "light"
     },
     "output_type": "display_data"
    },
    {
     "data": {
      "image/png": "[encoded data removed]",
      "text/plain": [
       "<Figure size 1008x504 with 1 Axes>"
      ]
     },
     "metadata": {
      "needs_background": "light"
     },
     "output_type": "display_data"
    }
   ],
   "source": [
    "for each in points:\n",
    "\n",
    "    temp = dataset[dataset['id_point'].isin([each])]\n",
    "    \n",
    "    fig = plt.figure(figsize=fs)\n",
    "    sns.barplot(x = 'months_reg', y = 'sum_pay', hue = 'id_group' , data = temp)\n",
    "    plt.title(f'Распределение клиентов по по величине среднего платежа от длительности регистрации в программе лояльности в точке {str(each).split(\".\")[0]}')\n",
    "    plt.xlabel('Месяцев')\n",
    "    plt.ylabel('Средний платёж')\n",
    "    plt.legend()\n",
    "    plt.show()"
   ]
  },
  {
   "cell_type": "markdown",
   "id": "ee6900d5",
   "metadata": {},
   "source": [
    "---"
   ]
  }
 ],
 "metadata": {
  "kernelspec": {
   "display_name": "Python 3 (ipykernel)",
   "language": "python",
   "name": "python3"
  },
  "language_info": {
   "codemirror_mode": {
    "name": "ipython",
    "version": 3
   },
   "file_extension": ".py",
   "mimetype": "text/x-python",
   "name": "python",
   "nbconvert_exporter": "python",
   "pygments_lexer": "ipython3",
   "version": "3.9.12"
  }
 },
 "nbformat": 4,
 "nbformat_minor": 5
}
