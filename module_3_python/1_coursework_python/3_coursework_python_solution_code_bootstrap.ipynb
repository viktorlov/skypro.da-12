{
 "cells": [
  {
   "cell_type": "code",
   "execution_count": 3,
   "metadata": {
    "ExecuteTime": {
     "end_time": "2022-09-05T18:59:56.408881Z",
     "start_time": "2022-09-05T18:59:52.514368Z"
    },
    "id": "rPWNK9BK623_",
    "run_control": {
     "marked": true
    }
   },
   "outputs": [],
   "source": [
    "import pandas as pd\n",
    "import numpy as np\n",
    "import seaborn as sns \n",
    "import matplotlib.pyplot as plt"
   ]
  },
  {
   "cell_type": "code",
   "execution_count": 4,
   "metadata": {
    "ExecuteTime": {
     "end_time": "2022-09-05T18:59:56.495230Z",
     "start_time": "2022-09-05T18:59:56.414174Z"
    },
    "id": "UR0bcZM1624B",
    "run_control": {
     "marked": true
    }
   },
   "outputs": [],
   "source": [
    "data = pd.read_csv('Dataset_AB_TEST.csv', sep = ';').dropna()"
   ]
  },
  {
   "cell_type": "code",
   "execution_count": 5,
   "metadata": {
    "ExecuteTime": {
     "end_time": "2022-09-05T18:59:56.527239Z",
     "start_time": "2022-09-05T18:59:56.503232Z"
    },
    "run_control": {
     "marked": true
    }
   },
   "outputs": [],
   "source": [
    "data = data[data['sum_pay'].between(100, 11_000)]\n",
    "true_points = [1178, 1179, 1182]\n",
    "data = data[data['id_point'].isin(true_points)]"
   ]
  },
  {
   "cell_type": "code",
   "execution_count": 6,
   "metadata": {
    "ExecuteTime": {
     "end_time": "2022-09-05T18:59:56.591254Z",
     "start_time": "2022-09-05T18:59:56.543242Z"
    },
    "run_control": {
     "marked": true
    }
   },
   "outputs": [
    {
     "data": {
      "text/html": [
       "<div>\n",
       "<style scoped>\n",
       "    .dataframe tbody tr th:only-of-type {\n",
       "        vertical-align: middle;\n",
       "    }\n",
       "\n",
       "    .dataframe tbody tr th {\n",
       "        vertical-align: top;\n",
       "    }\n",
       "\n",
       "    .dataframe thead th {\n",
       "        text-align: right;\n",
       "    }\n",
       "</style>\n",
       "<table border=\"1\" class=\"dataframe\">\n",
       "  <thead>\n",
       "    <tr style=\"text-align: right;\">\n",
       "      <th></th>\n",
       "      <th>index</th>\n",
       "      <th>sum_pay</th>\n",
       "    </tr>\n",
       "  </thead>\n",
       "  <tbody>\n",
       "    <tr>\n",
       "      <th>0</th>\n",
       "      <td>(-0.001, 1000.0]</td>\n",
       "      <td>2253</td>\n",
       "    </tr>\n",
       "    <tr>\n",
       "      <th>1</th>\n",
       "      <td>(1000.0, 2000.0]</td>\n",
       "      <td>1512</td>\n",
       "    </tr>\n",
       "    <tr>\n",
       "      <th>2</th>\n",
       "      <td>(3000.0, 4000.0]</td>\n",
       "      <td>1370</td>\n",
       "    </tr>\n",
       "    <tr>\n",
       "      <th>3</th>\n",
       "      <td>(4000.0, 5000.0]</td>\n",
       "      <td>1186</td>\n",
       "    </tr>\n",
       "    <tr>\n",
       "      <th>4</th>\n",
       "      <td>(2000.0, 3000.0]</td>\n",
       "      <td>1150</td>\n",
       "    </tr>\n",
       "    <tr>\n",
       "      <th>5</th>\n",
       "      <td>(6000.0, 7000.0]</td>\n",
       "      <td>901</td>\n",
       "    </tr>\n",
       "    <tr>\n",
       "      <th>6</th>\n",
       "      <td>(5000.0, 6000.0]</td>\n",
       "      <td>775</td>\n",
       "    </tr>\n",
       "    <tr>\n",
       "      <th>7</th>\n",
       "      <td>(7000.0, 8000.0]</td>\n",
       "      <td>683</td>\n",
       "    </tr>\n",
       "    <tr>\n",
       "      <th>8</th>\n",
       "      <td>(8000.0, 9000.0]</td>\n",
       "      <td>233</td>\n",
       "    </tr>\n",
       "    <tr>\n",
       "      <th>9</th>\n",
       "      <td>(9000.0, 10000.0]</td>\n",
       "      <td>128</td>\n",
       "    </tr>\n",
       "    <tr>\n",
       "      <th>10</th>\n",
       "      <td>(10000.0, 11000.0]</td>\n",
       "      <td>15</td>\n",
       "    </tr>\n",
       "  </tbody>\n",
       "</table>\n",
       "</div>"
      ],
      "text/plain": [
       "                 index  sum_pay\n",
       "0     (-0.001, 1000.0]     2253\n",
       "1     (1000.0, 2000.0]     1512\n",
       "2     (3000.0, 4000.0]     1370\n",
       "3     (4000.0, 5000.0]     1186\n",
       "4     (2000.0, 3000.0]     1150\n",
       "5     (6000.0, 7000.0]      901\n",
       "6     (5000.0, 6000.0]      775\n",
       "7     (7000.0, 8000.0]      683\n",
       "8     (8000.0, 9000.0]      233\n",
       "9    (9000.0, 10000.0]      128\n",
       "10  (10000.0, 11000.0]       15"
      ]
     },
     "execution_count": 6,
     "metadata": {},
     "output_type": "execute_result"
    }
   ],
   "source": [
    "data.sum_pay.value_counts(bins=[i for i in range(0,12_000,1000)]).reset_index()"
   ]
  },
  {
   "cell_type": "code",
   "execution_count": 5,
   "metadata": {
    "ExecuteTime": {
     "end_time": "2022-08-27T07:56:42.515272Z",
     "start_time": "2022-08-27T07:56:42.485578Z"
    },
    "id": "Rxk1ZvFI624D",
    "run_control": {
     "marked": false
    }
   },
   "outputs": [],
   "source": [
    "# импортируем необходимые модули\n",
    "import bootstrapped.bootstrap as bs\n",
    "import bootstrapped.stats_functions as bs_stats\n",
    "import bootstrapped.compare_functions as bs_compare"
   ]
  },
  {
   "cell_type": "markdown",
   "metadata": {
    "id": "yyhc8KWy624E"
   },
   "source": [
    "Нам понадобится функция `bootstrap_ab`. Чтобы подготовить данные, давайте посмотрим, какие аргументы она принимает:\n",
    "\n",
    "Первый аргумент — `test` — массив с данными тестовой группы.\n",
    "\n",
    "Второй аргумент — `ctrl` — массив с данными контрольной группы.\n",
    "\n",
    "- отделим только пользователей из тестовой и после контрольной группы\n",
    "- удалим пустые значения, то есть пользователей, не сделавших покупку\n",
    "- `.values` превратит серию в массив"
   ]
  },
  {
   "cell_type": "code",
   "execution_count": 6,
   "metadata": {
    "ExecuteTime": {
     "end_time": "2022-08-27T07:56:42.531272Z",
     "start_time": "2022-08-27T07:56:42.518271Z"
    },
    "id": "JBPrwa2M624F",
    "run_control": {
     "marked": false
    }
   },
   "outputs": [],
   "source": [
    "test = data[data['id_group'] == 'test']['sum_pay'].dropna().values\n",
    "# test = data[(data['id_group'] == 'test') & (data['id_point'] == 1178)]['sum_pay'].dropna().values\n",
    "# test = data[(data['id_group'] == 'test') & (data['id_point'] == 1179)]['sum_pay'].dropna().values\n",
    "# test = data[(data['id_group'] == 'test') & (data['id_point'] == 1182)]['sum_pay'].dropna().values"
   ]
  },
  {
   "cell_type": "code",
   "execution_count": 7,
   "metadata": {
    "ExecuteTime": {
     "end_time": "2022-08-27T07:56:42.547245Z",
     "start_time": "2022-08-27T07:56:42.533272Z"
    },
    "id": "0X_X548A624F",
    "run_control": {
     "marked": false
    }
   },
   "outputs": [],
   "source": [
    "ctrl = data[data['id_group'] == 'control']['sum_pay'].dropna().values\n",
    "# ctrl = data[(data['id_group'] == 'control') & (data['id_point'] == 1178)]['sum_pay'].dropna().values\n",
    "# ctrl = data[(data['id_group'] == 'control') & (data['id_point'] == 1179)]['sum_pay'].dropna().values\n",
    "# ctrl = data[(data['id_group'] == 'control') & (data['id_point'] == 1182)]['sum_pay'].dropna().values"
   ]
  },
  {
   "cell_type": "markdown",
   "metadata": {
    "id": "TMq5owxh624M"
   },
   "source": [
    "Также нам понадобятся аргументы:\n",
    "\n",
    "\n",
    "- `stat_func = bs_stats.mean` — что мы хотим исследовать. В нашем случае — среднее значение\n",
    "\n",
    "- `compare_func = bs_compare.difference` — как мы хотим исследовать. В нашем случае — хотим взять разницу между группами\n",
    "\n",
    "- `return_distribution = True` — вернем набор разниц, который функция получает в результате всех итераций\n",
    "\n",
    "Чтобы сохранить то, что возвращает функция, запишем результат ее работы в переменную `boot_results`"
   ]
  },
  {
   "cell_type": "code",
   "execution_count": 14,
   "metadata": {
    "ExecuteTime": {
     "end_time": "2022-08-27T08:06:40.709450Z",
     "start_time": "2022-08-27T08:06:25.501253Z"
    },
    "id": "0SrxigH9624N",
    "run_control": {
     "marked": false
    }
   },
   "outputs": [],
   "source": [
    "boot_results = bs.bootstrap_ab(test = test, ctrl = ctrl\n",
    "                              , stat_func = bs_stats.mean\n",
    "                              , compare_func = bs_compare.difference\n",
    "                              , return_distribution=True\n",
    "                              , num_iterations=55555)"
   ]
  },
  {
   "cell_type": "markdown",
   "metadata": {
    "id": "GwrfJrAq624O"
   },
   "source": [
    "Мы получили массив разниц в средних чеках между нашими группами."
   ]
  },
  {
   "cell_type": "code",
   "execution_count": 15,
   "metadata": {
    "ExecuteTime": {
     "end_time": "2022-08-27T08:06:49.443164Z",
     "start_time": "2022-08-27T08:06:49.417164Z"
    },
    "id": "aaQjthBl624O",
    "outputId": "30a506ef-65ff-40c2-e6e1-cd5629d42d38",
    "run_control": {
     "marked": false
    },
    "scrolled": true
   },
   "outputs": [
    {
     "data": {
      "text/plain": [
       "array([111.92623537, 227.59345225,  60.08298219, ..., 116.79232264,\n",
       "       266.88641428, 185.3846157 ])"
      ]
     },
     "execution_count": 15,
     "metadata": {},
     "output_type": "execute_result"
    }
   ],
   "source": [
    "boot_results"
   ]
  },
  {
   "cell_type": "markdown",
   "metadata": {
    "id": "ULpqlaa1624P"
   },
   "source": [
    "### Доверительный интервал\n",
    "\n",
    "Значение среднего чека, которое мы получили для обеих групп, верно только для тех групп пользователей, которые пришли в течение эксперимента. Если бы в эксперименте участвовали похожие, но другие пользователи — значение среднего чека немного, но отличалось бы. Понять, насколько могут отличаться похожие группы в нашем эксперименте, поможет доверительный интервал.\n",
    "\n",
    "Уровень доверия обычно устанавливают в 95%. То есть можно сказать, что в 95% аналогичных экспериментов конверсия будет колебаться внутри этого интервала. \n",
    "\n",
    "\n",
    "\n",
    "**Зададим границы доверительного интервала от 2,5 до 97,5 — между ними как раз 95%.**\n"
   ]
  },
  {
   "cell_type": "markdown",
   "metadata": {
    "id": "Mezv0Rh3624P"
   },
   "source": [
    "Используем полученный выше массив в переменной `boot_results`, чтобы выяснить доверительный интервал — то есть тот интервал колебаний среднего чека похожих экспериментов."
   ]
  },
  {
   "cell_type": "code",
   "execution_count": 16,
   "metadata": {
    "ExecuteTime": {
     "end_time": "2022-08-27T08:06:49.459167Z",
     "start_time": "2022-08-27T08:06:49.446166Z"
    },
    "id": "LnNorv7s624P",
    "outputId": "39e13842-7970-42a2-e3b1-116c4754c2c2",
    "run_control": {
     "marked": false
    }
   },
   "outputs": [
    {
     "data": {
      "text/plain": [
       "array([ 52.97899234, 244.07320145])"
      ]
     },
     "execution_count": 16,
     "metadata": {},
     "output_type": "execute_result"
    }
   ],
   "source": [
    "borders = np.percentile(boot_results, [2.5, 97.5]) # считаем перцентили\n",
    "borders"
   ]
  },
  {
   "cell_type": "code",
   "execution_count": 17,
   "metadata": {
    "ExecuteTime": {
     "end_time": "2022-08-27T08:06:49.506593Z",
     "start_time": "2022-08-27T08:06:49.461167Z"
    },
    "run_control": {
     "marked": false
    }
   },
   "outputs": [
    {
     "data": {
      "text/plain": [
       "count    55555.00\n",
       "mean       148.85\n",
       "std         48.88\n",
       "min        -76.54\n",
       "0%         -76.54\n",
       "10%         86.27\n",
       "20%        107.65\n",
       "30%        123.10\n",
       "40%        136.55\n",
       "50%        148.96\n",
       "60%        161.55\n",
       "70%        174.70\n",
       "80%        189.95\n",
       "90%        211.31\n",
       "100%       362.18\n",
       "max        362.18\n",
       "dtype: float64"
      ]
     },
     "execution_count": 17,
     "metadata": {},
     "output_type": "execute_result"
    }
   ],
   "source": [
    "pd.Series(boot_results).describe(percentiles=[i/10 for i in range(11)]).round(2)"
   ]
  },
  {
   "cell_type": "code",
   "execution_count": 26,
   "metadata": {
    "ExecuteTime": {
     "end_time": "2022-08-27T08:08:02.760273Z",
     "start_time": "2022-08-27T08:08:02.301319Z"
    },
    "id": "tSfBk6WI624P",
    "outputId": "99191188-df0d-4273-c5b8-30a2e0280395",
    "run_control": {
     "marked": false
    },
    "scrolled": false
   },
   "outputs": [
    {
     "data": {
      "image/png": "[encoded data removed]",
      "text/plain": [
       "<Figure size 1008x504 with 1 Axes>"
      ]
     },
     "metadata": {
      "needs_background": "light"
     },
     "output_type": "display_data"
    }
   ],
   "source": [
    "bns = 55 # количество столбцов в гистограмме\n",
    "sns.histplot(boot_results, bins=bns)  # функция построения распределения\n",
    "plt.title('Bootstrap-распределение разниц среднего чека')\n",
    "plt.rcParams[\"figure.figsize\"] = (14, 7)\n",
    "plt.vlines(0,  # отрисуем линию на уровне ноля\n",
    "           ymin=0,\n",
    "           ymax=pd.Series(boot_results).value_counts(bins=bns).max(),\n",
    "           linestyles='--',\n",
    "           colors='red')\n",
    "plt.vlines(borders,  # отрисуем перцентили\n",
    "           ymin=0,\n",
    "           ymax=pd.Series(boot_results).value_counts(bins=bns).max(),\n",
    "           linestyles='--',\n",
    "           colors='grey',\n",
    "           label='95%-доверительный интервал')\n",
    "plt.legend()\n",
    "plt.savefig(\"Bootstrap-распределение разниц среднего чека.jpg\")\n",
    "plt.show()"
   ]
  },
  {
   "cell_type": "code",
   "execution_count": null,
   "metadata": {
    "run_control": {
     "marked": false
    }
   },
   "outputs": [],
   "source": []
  }
 ],
 "metadata": {
  "colab": {
   "name": "Skills_Python_4.2_lesson.ipynb",
   "provenance": []
  },
  "kernelspec": {
   "display_name": "Python 3 (ipykernel)",
   "language": "python",
   "name": "python3"
  },
  "language_info": {
   "codemirror_mode": {
    "name": "ipython",
    "version": 3
   },
   "file_extension": ".py",
   "mimetype": "text/x-python",
   "name": "python",
   "nbconvert_exporter": "python",
   "pygments_lexer": "ipython3",
   "version": "3.9.12"
  }
 },
 "nbformat": 4,
 "nbformat_minor": 1
}
